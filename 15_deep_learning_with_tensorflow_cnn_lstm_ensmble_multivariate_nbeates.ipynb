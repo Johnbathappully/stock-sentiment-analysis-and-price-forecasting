{
 "cells": [
  {
   "cell_type": "markdown",
   "metadata": {
    "id": "view-in-github"
   },
   "source": [
    "<a href=\"https://colab.research.google.com/github/mrdbourke/tensorflow-deep-learning/blob/main/10_time_series_forecasting_in_tensorflow.ipynb\" target=\"_parent\"><img src=\"https://colab.research.google.com/assets/colab-badge.svg\" alt=\"Open In Colab\"/></a>"
   ]
  },
  {
   "cell_type": "markdown",
   "metadata": {
    "id": "vlVtweEv7nAx"
   },
   "source": [
    "# Time series forecasting in TensorFlow \n",
    "\n",
    " \n",
    "* Get time series data (the historical price of Bitcoin)\n",
    "  * Load in time series data using pandas/Python's CSV module\n",
    "* Format data for a time series problem\n",
    "  * Creating training and test sets (the wrong way)\n",
    "  * Creating training and test sets (the right way)\n",
    "  * Visualizing time series data\n",
    "  * Turning time series data into a supervised learning problem (windowing)\n",
    "  * Preparing univariate and multivariate (more than one variable) data\n",
    "* Evaluating a time series forecasting model\n",
    "* Setting up a series of deep learning modelling experiments\n",
    "  * Dense (fully-connected) networks\n",
    "  * Sequence models (LSTM and 1D CNN)\n",
    "  * Ensembling (combining multiple models together)\n",
    "  * Multivariate models\n",
    "  * Replicating the N-BEATS algorithm using TensorFlow layer subclassing\n",
    "* Creating a modelling checkpoint to save the best performing model during training\n",
    "* Making predictions (forecasts) with a time series model\n",
    "* Creating prediction intervals for time series model forecasts\n",
    "* Discussing two different types of uncertainty in machine learning (data uncertainty and model uncertainty)\n",
    "* Demonstrating why forecasting in an open system is BS (the turkey problem) \n",
    "\n",
    " "
   ]
  },
  {
   "cell_type": "markdown",
   "metadata": {
    "id": "IzG2AaejyE5d"
   },
   "source": [
    "## Check for GPU\n",
    " \n"
   ]
  },
  {
   "cell_type": "code",
   "execution_count": 1,
   "metadata": {
    "colab": {
     "base_uri": "https://localhost:8080/"
    },
    "id": "qjEuJ-j7yEdK",
    "outputId": "96b5dfe4-c576-4013-dd9c-0ce494f50a27"
   },
   "outputs": [
    {
     "name": "stdout",
     "output_type": "stream",
     "text": [
      "GPU 0: NVIDIA GeForce GTX 1050 Ti (UUID: GPU-d41e41d3-8353-b965-cc26-d6865e745952)\n"
     ]
    }
   ],
   "source": [
    "# Check for GPU\n",
    "!nvidia-smi -L"
   ]
  },
  {
   "cell_type": "markdown",
   "metadata": {
    "id": "81ywkh0q8Apj"
   },
   "source": [
    "## Get data\n",
    "\n"
   ]
  },
  {
   "cell_type": "code",
   "execution_count": 2,
   "metadata": {
    "colab": {
     "base_uri": "https://localhost:8080/"
    },
    "id": "mVEjK6ZHDqkQ",
    "outputId": "ddf8bba8-ebcd-4a22-d28c-b5a36eb798b3"
   },
   "outputs": [
    {
     "name": "stderr",
     "output_type": "stream",
     "text": [
      "'wget' is not recognized as an internal or external command,\n",
      "operable program or batch file.\n"
     ]
    }
   ],
   "source": [
    "# Download Bitcoin historical data from GitHub \n",
    "# Note: you'll need to select \"Raw\" to download the data in the correct format\n",
    "!wget https://raw.githubusercontent.com/mrdbourke/tensorflow-deep-learning/main/extras/BTC_USD_2013-10-01_2021-05-18-CoinDesk.csv "
   ]
  },
  {
   "cell_type": "markdown",
   "metadata": {
    "id": "FRKabu6qB41C"
   },
   "source": [
    "### Importing time series data with pandas\n"
   ]
  },
  {
   "cell_type": "code",
   "execution_count": 4,
   "metadata": {
    "colab": {
     "base_uri": "https://localhost:8080/",
     "height": 0
    },
    "id": "5FOrshVX_dUE",
    "outputId": "fa9c391c-d33a-4743-bce1-1c22d06a1119"
   },
   "outputs": [
    {
     "data": {
      "text/html": [
       "<div>\n",
       "<style scoped>\n",
       "    .dataframe tbody tr th:only-of-type {\n",
       "        vertical-align: middle;\n",
       "    }\n",
       "\n",
       "    .dataframe tbody tr th {\n",
       "        vertical-align: top;\n",
       "    }\n",
       "\n",
       "    .dataframe thead th {\n",
       "        text-align: right;\n",
       "    }\n",
       "</style>\n",
       "<table border=\"1\" class=\"dataframe\">\n",
       "  <thead>\n",
       "    <tr style=\"text-align: right;\">\n",
       "      <th></th>\n",
       "      <th>Currency</th>\n",
       "      <th>Closing Price (USD)</th>\n",
       "      <th>24h Open (USD)</th>\n",
       "      <th>24h High (USD)</th>\n",
       "      <th>24h Low (USD)</th>\n",
       "    </tr>\n",
       "    <tr>\n",
       "      <th>Date</th>\n",
       "      <th></th>\n",
       "      <th></th>\n",
       "      <th></th>\n",
       "      <th></th>\n",
       "      <th></th>\n",
       "    </tr>\n",
       "  </thead>\n",
       "  <tbody>\n",
       "    <tr>\n",
       "      <th>2013-10-01</th>\n",
       "      <td>BTC</td>\n",
       "      <td>123.65499</td>\n",
       "      <td>124.30466</td>\n",
       "      <td>124.75166</td>\n",
       "      <td>122.56349</td>\n",
       "    </tr>\n",
       "    <tr>\n",
       "      <th>2013-10-02</th>\n",
       "      <td>BTC</td>\n",
       "      <td>125.45500</td>\n",
       "      <td>123.65499</td>\n",
       "      <td>125.75850</td>\n",
       "      <td>123.63383</td>\n",
       "    </tr>\n",
       "    <tr>\n",
       "      <th>2013-10-03</th>\n",
       "      <td>BTC</td>\n",
       "      <td>108.58483</td>\n",
       "      <td>125.45500</td>\n",
       "      <td>125.66566</td>\n",
       "      <td>83.32833</td>\n",
       "    </tr>\n",
       "    <tr>\n",
       "      <th>2013-10-04</th>\n",
       "      <td>BTC</td>\n",
       "      <td>118.67466</td>\n",
       "      <td>108.58483</td>\n",
       "      <td>118.67500</td>\n",
       "      <td>107.05816</td>\n",
       "    </tr>\n",
       "    <tr>\n",
       "      <th>2013-10-05</th>\n",
       "      <td>BTC</td>\n",
       "      <td>121.33866</td>\n",
       "      <td>118.67466</td>\n",
       "      <td>121.93633</td>\n",
       "      <td>118.00566</td>\n",
       "    </tr>\n",
       "  </tbody>\n",
       "</table>\n",
       "</div>"
      ],
      "text/plain": [
       "           Currency  Closing Price (USD)  24h Open (USD)  24h High (USD)  \\\n",
       "Date                                                                       \n",
       "2013-10-01      BTC            123.65499       124.30466       124.75166   \n",
       "2013-10-02      BTC            125.45500       123.65499       125.75850   \n",
       "2013-10-03      BTC            108.58483       125.45500       125.66566   \n",
       "2013-10-04      BTC            118.67466       108.58483       118.67500   \n",
       "2013-10-05      BTC            121.33866       118.67466       121.93633   \n",
       "\n",
       "            24h Low (USD)  \n",
       "Date                       \n",
       "2013-10-01      122.56349  \n",
       "2013-10-02      123.63383  \n",
       "2013-10-03       83.32833  \n",
       "2013-10-04      107.05816  \n",
       "2013-10-05      118.00566  "
      ]
     },
     "execution_count": 4,
     "metadata": {},
     "output_type": "execute_result"
    }
   ],
   "source": [
    "# Import with pandas \n",
    "import pandas as pd\n",
    "# Parse dates and set date column to index\n",
    "df = pd.read_csv(\"BTC_USD_2013-10-01_2021-05-18-CoinDesk.csv\", \n",
    "                 parse_dates=[\"Date\"], \n",
    "                 index_col=[\"Date\"]) # parse the date column (tell pandas column 1 is a datetime)\n",
    "df.head()"
   ]
  },
  {
   "cell_type": "markdown",
   "metadata": {
    "id": "EQiDyqJaCdSS"
   },
   "source": [
    "Looking good! Let's get some more info."
   ]
  },
  {
   "cell_type": "code",
   "execution_count": 5,
   "metadata": {
    "colab": {
     "base_uri": "https://localhost:8080/"
    },
    "id": "Z-YoeINjCzJ_",
    "outputId": "c36e130c-ce44-43cb-fb1f-467e81492bbe"
   },
   "outputs": [
    {
     "name": "stdout",
     "output_type": "stream",
     "text": [
      "<class 'pandas.core.frame.DataFrame'>\n",
      "DatetimeIndex: 2787 entries, 2013-10-01 to 2021-05-18\n",
      "Data columns (total 5 columns):\n",
      " #   Column               Non-Null Count  Dtype  \n",
      "---  ------               --------------  -----  \n",
      " 0   Currency             2787 non-null   object \n",
      " 1   Closing Price (USD)  2787 non-null   float64\n",
      " 2   24h Open (USD)       2787 non-null   float64\n",
      " 3   24h High (USD)       2787 non-null   float64\n",
      " 4   24h Low (USD)        2787 non-null   float64\n",
      "dtypes: float64(4), object(1)\n",
      "memory usage: 130.6+ KB\n"
     ]
    }
   ],
   "source": [
    "df.info()"
   ]
  },
  {
   "cell_type": "markdown",
   "metadata": {
    "id": "4s00kcEDCrjV"
   },
   "source": [
    "Because we told pandas to parse the date column and set it as the index, its not in the list of columns.\n",
    "\n",
    "You can also see there isn't many samples."
   ]
  },
  {
   "cell_type": "code",
   "execution_count": 6,
   "metadata": {
    "colab": {
     "base_uri": "https://localhost:8080/"
    },
    "id": "XP3cN0uvlxhi",
    "outputId": "a15b7ae6-d361-4284-a043-badc9d02ce4f"
   },
   "outputs": [
    {
     "data": {
      "text/plain": [
       "2787"
      ]
     },
     "execution_count": 6,
     "metadata": {},
     "output_type": "execute_result"
    }
   ],
   "source": [
    "# How many samples do we have?\n",
    "len(df)"
   ]
  },
  {
   "cell_type": "markdown",
   "metadata": {
    "id": "u1RV6gYxC_Rs"
   },
   "source": [
    "We've collected the historical price of Bitcoin for the past ~8 years but there's only 2787 total samples.\n",
    "\n",
    " \n",
    "\n",
    "| 1 sample per timeframe | Number of samples per year |\n",
    "| ----- | ----- |\n",
    "| Second | 31,536,000 |\n",
    "| Hour | 8,760 |\n",
    "| Day | 365 |\n",
    "| Week | 52 |\n",
    "| Month | 12 |\n",
    "\n",
    "> 🔑 "
   ]
  },
  {
   "cell_type": "code",
   "execution_count": 7,
   "metadata": {
    "colab": {
     "base_uri": "https://localhost:8080/",
     "height": 0
    },
    "id": "QxoNCv2NCuLY",
    "outputId": "1812e930-ef78-4cb4-d164-ae5fbc2be278"
   },
   "outputs": [
    {
     "data": {
      "text/html": [
       "<div>\n",
       "<style scoped>\n",
       "    .dataframe tbody tr th:only-of-type {\n",
       "        vertical-align: middle;\n",
       "    }\n",
       "\n",
       "    .dataframe tbody tr th {\n",
       "        vertical-align: top;\n",
       "    }\n",
       "\n",
       "    .dataframe thead th {\n",
       "        text-align: right;\n",
       "    }\n",
       "</style>\n",
       "<table border=\"1\" class=\"dataframe\">\n",
       "  <thead>\n",
       "    <tr style=\"text-align: right;\">\n",
       "      <th></th>\n",
       "      <th>Price</th>\n",
       "    </tr>\n",
       "    <tr>\n",
       "      <th>Date</th>\n",
       "      <th></th>\n",
       "    </tr>\n",
       "  </thead>\n",
       "  <tbody>\n",
       "    <tr>\n",
       "      <th>2013-10-01</th>\n",
       "      <td>123.65499</td>\n",
       "    </tr>\n",
       "    <tr>\n",
       "      <th>2013-10-02</th>\n",
       "      <td>125.45500</td>\n",
       "    </tr>\n",
       "    <tr>\n",
       "      <th>2013-10-03</th>\n",
       "      <td>108.58483</td>\n",
       "    </tr>\n",
       "    <tr>\n",
       "      <th>2013-10-04</th>\n",
       "      <td>118.67466</td>\n",
       "    </tr>\n",
       "    <tr>\n",
       "      <th>2013-10-05</th>\n",
       "      <td>121.33866</td>\n",
       "    </tr>\n",
       "  </tbody>\n",
       "</table>\n",
       "</div>"
      ],
      "text/plain": [
       "                Price\n",
       "Date                 \n",
       "2013-10-01  123.65499\n",
       "2013-10-02  125.45500\n",
       "2013-10-03  108.58483\n",
       "2013-10-04  118.67466\n",
       "2013-10-05  121.33866"
      ]
     },
     "execution_count": 7,
     "metadata": {},
     "output_type": "execute_result"
    }
   ],
   "source": [
    "# Only want closing price for each day \n",
    "bitcoin_prices = pd.DataFrame(df[\"Closing Price (USD)\"]).rename(columns={\"Closing Price (USD)\": \"Price\"})\n",
    "bitcoin_prices.head()"
   ]
  },
  {
   "cell_type": "code",
   "execution_count": 8,
   "metadata": {
    "colab": {
     "base_uri": "https://localhost:8080/",
     "height": 0
    },
    "id": "CfkhZhmCEyUe",
    "outputId": "5e2a7eb3-175f-4ab0-c694-4f88e0da0607"
   },
   "outputs": [
    {
     "data": {
      "image/png": "[encoded data removed]",
      "text/plain": [
       "<Figure size 720x504 with 1 Axes>"
      ]
     },
     "metadata": {
      "needs_background": "light"
     },
     "output_type": "display_data"
    }
   ],
   "source": [
    "import matplotlib.pyplot as plt\n",
    "bitcoin_prices.plot(figsize=(10, 7))\n",
    "plt.ylabel(\"BTC Price\")\n",
    "plt.title(\"Price of Bitcoin from 1 Oct 2013 to 18 May 2021\", fontsize=16)\n",
    "plt.legend(fontsize=14);"
   ]
  },
  {
   "cell_type": "markdown",
   "metadata": {
    "id": "Wndwxoo_IZry"
   },
   "source": [
    "Woah, looks like it would've been a good idea to buy Bitcoin back in 2014."
   ]
  },
  {
   "cell_type": "markdown",
   "metadata": {
    "id": "O2C1JsHUPYGG"
   },
   "source": [
    "### Importing time series data with Python's CSV module\n",
    "\n"
   ]
  },
  {
   "cell_type": "code",
   "execution_count": 10,
   "metadata": {
    "colab": {
     "base_uri": "https://localhost:8080/"
    },
    "id": "UkTvwP2DCuGK",
    "outputId": "af1e0cef-51d4-4d11-bc79-d3022036e85a"
   },
   "outputs": [
    {
     "data": {
      "text/plain": [
       "([datetime.datetime(2013, 10, 1, 0, 0),\n",
       "  datetime.datetime(2013, 10, 2, 0, 0),\n",
       "  datetime.datetime(2013, 10, 3, 0, 0),\n",
       "  datetime.datetime(2013, 10, 4, 0, 0),\n",
       "  datetime.datetime(2013, 10, 5, 0, 0),\n",
       "  datetime.datetime(2013, 10, 6, 0, 0),\n",
       "  datetime.datetime(2013, 10, 7, 0, 0),\n",
       "  datetime.datetime(2013, 10, 8, 0, 0),\n",
       "  datetime.datetime(2013, 10, 9, 0, 0),\n",
       "  datetime.datetime(2013, 10, 10, 0, 0)],\n",
       " [123.65499,\n",
       "  125.455,\n",
       "  108.58483,\n",
       "  118.67466,\n",
       "  121.33866,\n",
       "  120.65533,\n",
       "  121.795,\n",
       "  123.033,\n",
       "  124.049,\n",
       "  125.96116])"
      ]
     },
     "execution_count": 10,
     "metadata": {},
     "output_type": "execute_result"
    }
   ],
   "source": [
    "# Importing and formatting historical Bitcoin data with Python\n",
    "import csv\n",
    "from datetime import datetime\n",
    "\n",
    "timesteps = []\n",
    "btc_price = []\n",
    "with open(\"BTC_USD_2013-10-01_2021-05-18-CoinDesk.csv\", \"r\") as f:\n",
    "  csv_reader = csv.reader(f, delimiter=\",\") # read in the target CSV\n",
    "  next(csv_reader) # skip first line (this gets rid of the column titles)\n",
    "  for line in csv_reader:\n",
    "    timesteps.append(datetime.strptime(line[1], \"%Y-%m-%d\")) # get the dates as dates (not strings), strptime = string parse time\n",
    "    btc_price.append(float(line[2])) # get the closing price as float\n",
    "\n",
    "# View first 10 of each\n",
    "timesteps[:10], btc_price[:10]"
   ]
  },
  {
   "cell_type": "code",
   "execution_count": 11,
   "metadata": {
    "colab": {
     "base_uri": "https://localhost:8080/",
     "height": 0
    },
    "id": "bTSX7RZ9Cytj",
    "outputId": "3831cc66-4ed0-4d39-c628-4e4a54fa33a5"
   },
   "outputs": [
    {
     "data": {
      "image/png": "[encoded data removed]",
      "text/plain": [
       "<Figure size 720x504 with 1 Axes>"
      ]
     },
     "metadata": {
      "needs_background": "light"
     },
     "output_type": "display_data"
    }
   ],
   "source": [
    "# Plot from CSV\n",
    "import matplotlib.pyplot as plt\n",
    "import numpy as np\n",
    "plt.figure(figsize=(10, 7))\n",
    "plt.plot(timesteps, btc_price)\n",
    "plt.title(\"Price of Bitcoin from 1 Oct 2013 to 18 May 2021\", fontsize=16)\n",
    "plt.xlabel(\"Date\")\n",
    "plt.ylabel(\"BTC Price\");"
   ]
  },
  {
   "cell_type": "markdown",
   "metadata": {
    "id": "_nfP7i9R_dOp"
   },
   "source": [
    "## Format Data Part 1: Creatining train and test sets for time series data\n",
    "\n",
    " "
   ]
  },
  {
   "cell_type": "markdown",
   "metadata": {
    "id": "prkQhgiHNOKd"
   },
   "source": [
    "### Create train & test sets for time series (the wrong way)\n",
    "\n"
   ]
  },
  {
   "cell_type": "code",
   "execution_count": 12,
   "metadata": {
    "colab": {
     "base_uri": "https://localhost:8080/"
    },
    "id": "wxQbuGVTRFKX",
    "outputId": "e41c0416-636d-4ffc-c243-669b125248fd"
   },
   "outputs": [
    {
     "data": {
      "text/plain": [
       "(array(['2013-10-01T00:00:00.000000000', '2013-10-02T00:00:00.000000000',\n",
       "        '2013-10-03T00:00:00.000000000', '2013-10-04T00:00:00.000000000',\n",
       "        '2013-10-05T00:00:00.000000000', '2013-10-06T00:00:00.000000000',\n",
       "        '2013-10-07T00:00:00.000000000', '2013-10-08T00:00:00.000000000',\n",
       "        '2013-10-09T00:00:00.000000000', '2013-10-10T00:00:00.000000000'],\n",
       "       dtype='datetime64[ns]'),\n",
       " array([123.65499, 125.455  , 108.58483, 118.67466, 121.33866, 120.65533,\n",
       "        121.795  , 123.033  , 124.049  , 125.96116]))"
      ]
     },
     "execution_count": 12,
     "metadata": {},
     "output_type": "execute_result"
    }
   ],
   "source": [
    "# Get bitcoin date array\n",
    "timesteps = bitcoin_prices.index.to_numpy()\n",
    "prices = bitcoin_prices[\"Price\"].to_numpy()\n",
    "\n",
    "timesteps[:10], prices[:10]"
   ]
  },
  {
   "cell_type": "markdown",
   "metadata": {
    "id": "F0jPVUNztInE"
   },
   "source": [
    "And now we'll use the ever faithful `train_test_split` from Scikit-Learn to create our train and test sets."
   ]
  },
  {
   "cell_type": "code",
   "execution_count": 13,
   "metadata": {
    "colab": {
     "base_uri": "https://localhost:8080/"
    },
    "id": "eGY7hTfyNLZ1",
    "outputId": "8142f6d3-90e3-4012-e232-d6291885de3a"
   },
   "outputs": [
    {
     "data": {
      "text/plain": [
       "((2229,), (558,), (2229,), (558,))"
      ]
     },
     "execution_count": 13,
     "metadata": {},
     "output_type": "execute_result"
    }
   ],
   "source": [
    "# Wrong way to make train/test sets for time series\n",
    "from sklearn.model_selection import train_test_split \n",
    "\n",
    "X_train, X_test, y_train, y_test = train_test_split(timesteps, # dates\n",
    "                                                    prices, # prices\n",
    "                                                    test_size=0.2,\n",
    "                                                    random_state=42)\n",
    "X_train.shape, X_test.shape, y_train.shape, y_test.shape "
   ]
  },
  {
   "cell_type": "markdown",
   "metadata": {
    "id": "PJbMDz1stTxZ"
   },
   "source": [
    "Looks like the splits worked well, but let's not trust numbers on a page, let's visualize, visualize, visualize!"
   ]
  },
  {
   "cell_type": "code",
   "execution_count": 14,
   "metadata": {
    "colab": {
     "base_uri": "https://localhost:8080/",
     "height": 0
    },
    "id": "cvH_0RvSNLWm",
    "outputId": "92790393-bdb9-4e87-89a7-4150b6298928"
   },
   "outputs": [
    {
     "data": {
      "image/png": "[encoded data removed]",
      "text/plain": [
       "<Figure size 720x504 with 1 Axes>"
      ]
     },
     "metadata": {
      "needs_background": "light"
     },
     "output_type": "display_data"
    }
   ],
   "source": [
    "# Let's plot wrong train and test splits\n",
    "plt.figure(figsize=(10, 7))\n",
    "plt.scatter(X_train, y_train, s=5, label=\"Train data\")\n",
    "plt.scatter(X_test, y_test, s=5, label=\"Test data\")\n",
    "plt.xlabel(\"Date\")\n",
    "plt.ylabel(\"BTC Price\")\n",
    "plt.legend(fontsize=14)\n",
    "plt.show();"
   ]
  },
  {
   "cell_type": "markdown",
   "metadata": {
    "id": "ajoASBK2size"
   },
   "source": [
    "### Create train & test sets for time series (the right way)\n",
    "\n",
    " "
   ]
  },
  {
   "cell_type": "code",
   "execution_count": 15,
   "metadata": {
    "colab": {
     "base_uri": "https://localhost:8080/"
    },
    "id": "lpEVKyXANLT4",
    "outputId": "7e4c1501-71b2-4f90-a205-09e49bf30617"
   },
   "outputs": [
    {
     "data": {
      "text/plain": [
       "(2229, 558, 2229, 558)"
      ]
     },
     "execution_count": 15,
     "metadata": {},
     "output_type": "execute_result"
    }
   ],
   "source": [
    "# Create train and test splits the right way for time series data\n",
    "split_size = int(0.8 * len(prices)) # 80% train, 20% test\n",
    "\n",
    "# Create train data splits (everything before the split)\n",
    "X_train, y_train = timesteps[:split_size], prices[:split_size]\n",
    "\n",
    "# Create test data splits (everything after the split)\n",
    "X_test, y_test = timesteps[split_size:], prices[split_size:]\n",
    "\n",
    "len(X_train), len(X_test), len(y_train), len(y_test)"
   ]
  },
  {
   "cell_type": "code",
   "execution_count": 16,
   "metadata": {
    "colab": {
     "base_uri": "https://localhost:8080/",
     "height": 0
    },
    "id": "L9QImNlhOQuS",
    "outputId": "b51f6b85-804d-441a-8247-63c6399ce188"
   },
   "outputs": [
    {
     "data": {
      "image/png": "[encoded data removed]",
      "text/plain": [
       "<Figure size 720x504 with 1 Axes>"
      ]
     },
     "metadata": {
      "needs_background": "light"
     },
     "output_type": "display_data"
    }
   ],
   "source": [
    "# Plot correctly made splits\n",
    "plt.figure(figsize=(10, 7))\n",
    "plt.scatter(X_train, y_train, s=5, label=\"Train data\")\n",
    "plt.scatter(X_test, y_test, s=5, label=\"Test data\")\n",
    "plt.xlabel(\"Date\")\n",
    "plt.ylabel(\"BTC Price\")\n",
    "plt.legend(fontsize=14)\n",
    "plt.show();"
   ]
  },
  {
   "cell_type": "markdown",
   "metadata": {
    "id": "sGUelYVKCybB"
   },
   "source": [
    "### Create a plotting function\n",
    "\n",
    "Rather than retyping `matplotlib` commands to continuously plot data, let's make a plotting function we can reuse later."
   ]
  },
  {
   "cell_type": "code",
   "execution_count": 17,
   "metadata": {
    "id": "trkvizA0C6vc"
   },
   "outputs": [],
   "source": [
    "# Create a function to plot time series data\n",
    "def plot_time_series(timesteps, values, format='.', start=0, end=None, label=None):\n",
    "  \"\"\"\n",
    "  Plots a timesteps (a series of points in time) against values (a series of values across timesteps).\n",
    "  \n",
    "  Parameters\n",
    "  ---------\n",
    "  timesteps : array of timesteps\n",
    "  values : array of values across time\n",
    "  format : style of plot, default \".\"\n",
    "  start : where to start the plot (setting a value will index from start of timesteps & values)\n",
    "  end : where to end the plot (setting a value will index from end of timesteps & values)\n",
    "  label : label to show on plot of values\n",
    "  \"\"\"\n",
    "  # Plot the series\n",
    "  plt.plot(timesteps[start:end], values[start:end], format, label=label)\n",
    "  plt.xlabel(\"Time\")\n",
    "  plt.ylabel(\"BTC Price\")\n",
    "  if label:\n",
    "    plt.legend(fontsize=14) # make label bigger\n",
    "  plt.grid(True)"
   ]
  },
  {
   "cell_type": "code",
   "execution_count": 18,
   "metadata": {
    "colab": {
     "base_uri": "https://localhost:8080/",
     "height": 0
    },
    "id": "6TyFY1cGC_sw",
    "outputId": "1823a916-33a8-4e60-ba0a-c5d4c5277cca"
   },
   "outputs": [
    {
     "data": {
      "image/png": "[encoded data removed]",
      "text/plain": [
       "<Figure size 720x504 with 1 Axes>"
      ]
     },
     "metadata": {
      "needs_background": "light"
     },
     "output_type": "display_data"
    }
   ],
   "source": [
    "# Try out our plotting function\n",
    "plt.figure(figsize=(10, 7))\n",
    "plot_time_series(timesteps=X_train, values=y_train, label=\"Train data\")\n",
    "plot_time_series(timesteps=X_test, values=y_test, label=\"Test data\")"
   ]
  },
  {
   "cell_type": "markdown",
   "metadata": {
    "id": "SDeel1jj8ioU"
   },
   "source": [
    "Looking good!\n",
    "\n",
    "Time for some modelling experiments."
   ]
  },
  {
   "cell_type": "code",
   "execution_count": 21,
   "metadata": {
    "colab": {
     "base_uri": "https://localhost:8080/"
    },
    "id": "nCKGUO4OVos9",
    "outputId": "ba7167fb-3a1e-4880-f8d6-872ecdd39914"
   },
   "outputs": [
    {
     "data": {
      "text/plain": [
       "(array([9226.48582088, 8794.35864452, 8798.04205463, 9081.18687849,\n",
       "        8711.53433917, 8760.89271814, 8749.52059102, 8656.97092235,\n",
       "        8500.64355816, 8469.2608989 ]),\n",
       " array([57107.12067189, 58788.20967893, 58102.19142623, 55715.54665129,\n",
       "        56573.5554719 , 52147.82118698, 49764.1320816 , 50032.69313676,\n",
       "        47885.62525472, 45604.61575361]))"
      ]
     },
     "execution_count": 21,
     "metadata": {},
     "output_type": "execute_result"
    }
   ],
   "source": [
    "# Create a naïve forecast\n",
    "naive_forecast = y_test[:-1] # Naïve forecast equals every value excluding the last value\n",
    "naive_forecast[:10], naive_forecast[-10:] # View frist 10 and last 10 "
   ]
  },
  {
   "cell_type": "code",
   "execution_count": 23,
   "metadata": {
    "colab": {
     "base_uri": "https://localhost:8080/",
     "height": 0
    },
    "id": "a0NLHXDhWDX-",
    "outputId": "99994a4f-93ef-4d94-a6d4-e8bad372ab01"
   },
   "outputs": [
    {
     "data": {
      "image/png": "[encoded data removed]",
      "text/plain": [
       "<Figure size 720x504 with 1 Axes>"
      ]
     },
     "metadata": {
      "needs_background": "light"
     },
     "output_type": "display_data"
    }
   ],
   "source": [
    "# Plot naive forecast\n",
    "plt.figure(figsize=(10, 7))\n",
    "plot_time_series(timesteps=X_train, values=y_train, label=\"Train data\")\n",
    "plot_time_series(timesteps=X_test, values=y_test, label=\"Test data\")\n",
    "plot_time_series(timesteps=X_test[1:], values=naive_forecast, format=\"-\", label=\"Naive forecast\");"
   ]
  },
  {
   "cell_type": "markdown",
   "metadata": {
    "id": "8Zj2p8NAkRLD"
   },
   "source": [
    "The naive forecast looks like it's following the data well. \n",
    "\n",
    "Let's zoom in to take a better look.\n",
    "\n",
    "We can do so by creating an offset value and passing it to the `start` parameter of our `plot_time_series()` function."
   ]
  },
  {
   "cell_type": "code",
   "execution_count": 107,
   "metadata": {
    "colab": {
     "base_uri": "https://localhost:8080/",
     "height": 0
    },
    "id": "dx0wUhtOW_VX",
    "outputId": "565362e2-3523-4268-f6d8-e079b7d21a97"
   },
   "outputs": [
    {
     "data": {
      "image/png": "[encoded data removed]",
      "text/plain": [
       "<Figure size 720x504 with 1 Axes>"
      ]
     },
     "metadata": {
      "needs_background": "light"
     },
     "output_type": "display_data"
    }
   ],
   "source": [
    "plt.figure(figsize=(10, 7))\n",
    "offset = 300 # offset the values by 300 timesteps \n",
    "plot_time_series(timesteps=X_test, values=y_test, start=offset, label=\"Test data\")\n",
    "plot_time_series(timesteps=X_test[1:], values=naive_forecast, format=\"-\", start=offset, label=\"Naive forecast\");"
   ]
  },
  {
   "cell_type": "code",
   "execution_count": 24,
   "metadata": {
    "id": "ljaO69huYCZD"
   },
   "outputs": [],
   "source": [
    "# Let's get TensorFlow! \n",
    "import tensorflow as tf"
   ]
  },
  {
   "cell_type": "code",
   "execution_count": 25,
   "metadata": {
    "id": "2jbLBJ_IGjla"
   },
   "outputs": [],
   "source": [
    "# MASE implemented courtesy of sktime - https://github.com/alan-turing-institute/sktime/blob/ee7a06843a44f4aaec7582d847e36073a9ab0566/sktime/performance_metrics/forecasting/_functions.py#L16\n",
    "def mean_absolute_scaled_error(y_true, y_pred):\n",
    "  \"\"\"\n",
    "  Implement MASE (assuming no seasonality of data).\n",
    "  \"\"\"\n",
    "  mae = tf.reduce_mean(tf.abs(y_true - y_pred))\n",
    "\n",
    "  # Find MAE of naive forecast (no seasonality)\n",
    "  mae_naive_no_season = tf.reduce_mean(tf.abs(y_true[1:] - y_true[:-1])) # our seasonality is 1 day (hence the shifting of 1 day)\n",
    "\n",
    "  return mae / mae_naive_no_season"
   ]
  },
  {
   "cell_type": "code",
   "execution_count": 26,
   "metadata": {
    "id": "MwMeVgRXWaJp"
   },
   "outputs": [],
   "source": [
    "def evaluate_preds(y_true, y_pred):\n",
    "  # Make sure float32 (for metric calculations)\n",
    "  y_true = tf.cast(y_true, dtype=tf.float32)\n",
    "  y_pred = tf.cast(y_pred, dtype=tf.float32)\n",
    "\n",
    "  # Calculate various metrics\n",
    "  mae = tf.keras.metrics.mean_absolute_error(y_true, y_pred)\n",
    "  mse = tf.keras.metrics.mean_squared_error(y_true, y_pred) # puts and emphasis on outliers (all errors get squared)\n",
    "  rmse = tf.sqrt(mse)\n",
    "  mape = tf.keras.metrics.mean_absolute_percentage_error(y_true, y_pred)\n",
    "  mase = mean_absolute_scaled_error(y_true, y_pred)\n",
    "  \n",
    "  return {\"mae\": mae.numpy(),\n",
    "          \"mse\": mse.numpy(),\n",
    "          \"rmse\": rmse.numpy(),\n",
    "          \"mape\": mape.numpy(),\n",
    "          \"mase\": mase.numpy()}"
   ]
  },
  {
   "cell_type": "markdown",
   "metadata": {
    "id": "VAKTXEIPVKfR"
   },
   "source": [
    "Looking good! How about we test our function on the naive forecast?"
   ]
  },
  {
   "cell_type": "code",
   "execution_count": 27,
   "metadata": {
    "colab": {
     "base_uri": "https://localhost:8080/"
    },
    "id": "HbJlsvUwYEsf",
    "outputId": "e11c6057-5b13-4a69-bdee-44befbd1ef59"
   },
   "outputs": [
    {
     "data": {
      "text/plain": [
       "{'mae': 567.9802,\n",
       " 'mse': 1147547.0,\n",
       " 'rmse': 1071.2362,\n",
       " 'mape': 2.5165248,\n",
       " 'mase': 0.99957}"
      ]
     },
     "execution_count": 27,
     "metadata": {},
     "output_type": "execute_result"
    }
   ],
   "source": [
    "naive_results = evaluate_preds(y_true=y_test[1:],\n",
    "                               y_pred=naive_forecast)\n",
    "naive_results"
   ]
  },
  {
   "cell_type": "code",
   "execution_count": 28,
   "metadata": {
    "colab": {
     "base_uri": "https://localhost:8080/"
    },
    "id": "Yjl-X9QLVhp1",
    "outputId": "78e7012b-ef3e-40dd-ea61-370433045b4a"
   },
   "outputs": [
    {
     "data": {
      "text/plain": [
       "20056.632963737226"
      ]
     },
     "execution_count": 28,
     "metadata": {},
     "output_type": "execute_result"
    }
   ],
   "source": [
    "# Find average price of Bitcoin in test dataset\n",
    "tf.reduce_mean(y_test).numpy()"
   ]
  },
  {
   "cell_type": "code",
   "execution_count": 29,
   "metadata": {
    "id": "LibzWQXM2ib-"
   },
   "outputs": [],
   "source": [
    "HORIZON = 1 # predict 1 step at a time\n",
    "WINDOW_SIZE = 7 # use a week worth of timesteps to predict the horizon"
   ]
  },
  {
   "cell_type": "markdown",
   "metadata": {
    "id": "1AQ0HWWzfRW_"
   },
   "source": [
    "Now we'll write a function to take in an array and turn it into a window and horizon."
   ]
  },
  {
   "cell_type": "code",
   "execution_count": 30,
   "metadata": {
    "id": "zV8pv5K_x81E"
   },
   "outputs": [],
   "source": [
    "# Create function to label windowed data\n",
    "def get_labelled_windows(x, horizon=1):\n",
    "  \"\"\"\n",
    "  Creates labels for windowed dataset.\n",
    "\n",
    "  E.g. if horizon=1 (default)\n",
    "  Input: [1, 2, 3, 4, 5, 6] -> Output: ([1, 2, 3, 4, 5], [6])\n",
    "  \"\"\"\n",
    "  return x[:, :-horizon], x[:, -horizon:]"
   ]
  },
  {
   "cell_type": "code",
   "execution_count": 31,
   "metadata": {
    "colab": {
     "base_uri": "https://localhost:8080/"
    },
    "id": "ejJ9vCyKff8F",
    "outputId": "00f406cd-3439-47cc-ebfb-6192acae5859"
   },
   "outputs": [
    {
     "name": "stdout",
     "output_type": "stream",
     "text": [
      "Window: [1 2 3 4 5 6 7] -> Label: 8\n"
     ]
    }
   ],
   "source": [
    "# Test out the window labelling function\n",
    "test_window, test_label = get_labelled_windows(tf.expand_dims(tf.range(8)+1, axis=0), horizon=HORIZON)\n",
    "print(f\"Window: {tf.squeeze(test_window).numpy()} -> Label: {tf.squeeze(test_label).numpy()}\")"
   ]
  },
  {
   "cell_type": "code",
   "execution_count": 32,
   "metadata": {
    "id": "apea0wiJyCI6"
   },
   "outputs": [],
   "source": [
    "# Create function to view NumPy arrays as windows \n",
    "def make_windows(x, window_size=7, horizon=1):\n",
    "  \"\"\"\n",
    "  Turns a 1D array into a 2D array of sequential windows of window_size.\n",
    "  \"\"\"\n",
    "  # 1. Create a window of specific window_size (add the horizon on the end for later labelling)\n",
    "  window_step = np.expand_dims(np.arange(window_size+horizon), axis=0)\n",
    "  # print(f\"Window step:\\n {window_step}\")\n",
    "\n",
    "  # 2. Create a 2D array of multiple window steps (minus 1 to account for 0 indexing)\n",
    "  window_indexes = window_step + np.expand_dims(np.arange(len(x)-(window_size+horizon-1)), axis=0).T # create 2D array of windows of size window_size\n",
    "  # print(f\"Window indexes:\\n {window_indexes[:3], window_indexes[-3:], window_indexes.shape}\")\n",
    "\n",
    "  # 3. Index on the target array (time series) with 2D array of multiple window steps\n",
    "  windowed_array = x[window_indexes]\n",
    "\n",
    "  # 4. Get the labelled windows\n",
    "  windows, labels = get_labelled_windows(windowed_array, horizon=horizon)\n",
    "\n",
    "  return windows, labels"
   ]
  },
  {
   "cell_type": "markdown",
   "metadata": {
    "id": "TYQD0PRLkMIs"
   },
   "source": [
    "Phew! A few steps there... let's see how it goes."
   ]
  },
  {
   "cell_type": "code",
   "execution_count": 33,
   "metadata": {
    "colab": {
     "base_uri": "https://localhost:8080/"
    },
    "id": "u7Yc3V7fc1UG",
    "outputId": "fdd57133-08c2-41e7-dc1b-b1d5aeeeffc7"
   },
   "outputs": [
    {
     "data": {
      "text/plain": [
       "(2780, 2780)"
      ]
     },
     "execution_count": 33,
     "metadata": {},
     "output_type": "execute_result"
    }
   ],
   "source": [
    "full_windows, full_labels = make_windows(prices, window_size=WINDOW_SIZE, horizon=HORIZON)\n",
    "len(full_windows), len(full_labels)"
   ]
  },
  {
   "cell_type": "markdown",
   "metadata": {
    "id": "xhj521fWlJsy"
   },
   "source": [
    "Of course we have to visualize, visualize, visualize!"
   ]
  },
  {
   "cell_type": "code",
   "execution_count": 34,
   "metadata": {
    "colab": {
     "base_uri": "https://localhost:8080/"
    },
    "id": "U1P-MT4CkYta",
    "outputId": "3febad84-13be-4100-d693-dafaa9eac81a"
   },
   "outputs": [
    {
     "name": "stdout",
     "output_type": "stream",
     "text": [
      "Window: [123.65499 125.455   108.58483 118.67466 121.33866 120.65533 121.795  ] -> Label: [123.033]\n",
      "Window: [125.455   108.58483 118.67466 121.33866 120.65533 121.795   123.033  ] -> Label: [124.049]\n",
      "Window: [108.58483 118.67466 121.33866 120.65533 121.795   123.033   124.049  ] -> Label: [125.96116]\n"
     ]
    }
   ],
   "source": [
    "# View the first 3 windows/labels\n",
    "for i in range(3):\n",
    "  print(f\"Window: {full_windows[i]} -> Label: {full_labels[i]}\")"
   ]
  },
  {
   "cell_type": "code",
   "execution_count": 35,
   "metadata": {
    "colab": {
     "base_uri": "https://localhost:8080/"
    },
    "id": "UCDtm6gskjRH",
    "outputId": "50db4468-b291-4061-c6f8-3971082ab8f0"
   },
   "outputs": [
    {
     "name": "stdout",
     "output_type": "stream",
     "text": [
      "Window: [58788.20967893 58102.19142623 55715.54665129 56573.5554719\n",
      " 52147.82118698 49764.1320816  50032.69313676] -> Label: [47885.62525472]\n",
      "Window: [58102.19142623 55715.54665129 56573.5554719  52147.82118698\n",
      " 49764.1320816  50032.69313676 47885.62525472] -> Label: [45604.61575361]\n",
      "Window: [55715.54665129 56573.5554719  52147.82118698 49764.1320816\n",
      " 50032.69313676 47885.62525472 45604.61575361] -> Label: [43144.47129086]\n"
     ]
    }
   ],
   "source": [
    "# View the last 3 windows/labels\n",
    "for i in range(3):\n",
    "  print(f\"Window: {full_windows[i-3]} -> Label: {full_labels[i-3]}\")"
   ]
  },
  {
   "cell_type": "code",
   "execution_count": 36,
   "metadata": {
    "id": "o_8BRgb8YtP3"
   },
   "outputs": [],
   "source": [
    "# Make the train/test splits\n",
    "def make_train_test_splits(windows, labels, test_split=0.2):\n",
    "  \"\"\"\n",
    "  Splits matching pairs of windows and labels into train and test splits.\n",
    "  \"\"\"\n",
    "  split_size = int(len(windows) * (1-test_split)) # this will default to 80% train/20% test\n",
    "  train_windows = windows[:split_size]\n",
    "  train_labels = labels[:split_size]\n",
    "  test_windows = windows[split_size:]\n",
    "  test_labels = labels[split_size:]\n",
    "  return train_windows, test_windows, train_labels, test_labels"
   ]
  },
  {
   "cell_type": "markdown",
   "metadata": {
    "id": "_062e8Oec9cf"
   },
   "source": [
    "Look at that amazing function, lets test it."
   ]
  },
  {
   "cell_type": "code",
   "execution_count": 37,
   "metadata": {
    "colab": {
     "base_uri": "https://localhost:8080/"
    },
    "id": "z_xY8T7HEaoU",
    "outputId": "bc0e39c9-b22e-41de-e9ef-9bc9139ef633"
   },
   "outputs": [
    {
     "data": {
      "text/plain": [
       "(2224, 556, 2224, 556)"
      ]
     },
     "execution_count": 37,
     "metadata": {},
     "output_type": "execute_result"
    }
   ],
   "source": [
    "train_windows, test_windows, train_labels, test_labels = make_train_test_splits(full_windows, full_labels)\n",
    "len(train_windows), len(test_windows), len(train_labels), len(test_labels)"
   ]
  },
  {
   "cell_type": "markdown",
   "metadata": {
    "id": "75_YBwiedI2s"
   },
   "source": [
    "Notice the default split of 80% training data and 20% testing data (this split can be adjusted if needed).\n",
    "\n",
    "How do the first 5 samples of the training windows and labels looks?"
   ]
  },
  {
   "cell_type": "code",
   "execution_count": 38,
   "metadata": {
    "colab": {
     "base_uri": "https://localhost:8080/"
    },
    "id": "DDgyT7Gix1fH",
    "outputId": "3f39b0c9-93b7-4ef4-d80b-587fbfa3e4ae"
   },
   "outputs": [
    {
     "data": {
      "text/plain": [
       "(array([[123.65499, 125.455  , 108.58483, 118.67466, 121.33866, 120.65533,\n",
       "         121.795  ],\n",
       "        [125.455  , 108.58483, 118.67466, 121.33866, 120.65533, 121.795  ,\n",
       "         123.033  ],\n",
       "        [108.58483, 118.67466, 121.33866, 120.65533, 121.795  , 123.033  ,\n",
       "         124.049  ],\n",
       "        [118.67466, 121.33866, 120.65533, 121.795  , 123.033  , 124.049  ,\n",
       "         125.96116],\n",
       "        [121.33866, 120.65533, 121.795  , 123.033  , 124.049  , 125.96116,\n",
       "         125.27966]]),\n",
       " array([[123.033  ],\n",
       "        [124.049  ],\n",
       "        [125.96116],\n",
       "        [125.27966],\n",
       "        [125.9275 ]]))"
      ]
     },
     "execution_count": 38,
     "metadata": {},
     "output_type": "execute_result"
    }
   ],
   "source": [
    "train_windows[:5], train_labels[:5]"
   ]
  },
  {
   "cell_type": "code",
   "execution_count": 39,
   "metadata": {
    "colab": {
     "base_uri": "https://localhost:8080/"
    },
    "id": "TkF0HmvadHBB",
    "outputId": "9bf35369-dc08-4279-c8a9-0a9d755035f2"
   },
   "outputs": [
    {
     "data": {
      "text/plain": [
       "True"
      ]
     },
     "execution_count": 39,
     "metadata": {},
     "output_type": "execute_result"
    }
   ],
   "source": [
    "# Check to see if same (accounting for horizon and window size)\n",
    "np.array_equal(np.squeeze(train_labels[:-HORIZON-1]), y_train[WINDOW_SIZE:])"
   ]
  },
  {
   "cell_type": "code",
   "execution_count": 40,
   "metadata": {
    "id": "Xh8i1f7rV_P2"
   },
   "outputs": [],
   "source": [
    "import os\n",
    "\n",
    "# Create a function to implement a ModelCheckpoint callback with a specific filename \n",
    "def create_model_checkpoint(model_name, save_path=\"model_experiments\"):\n",
    "  return tf.keras.callbacks.ModelCheckpoint(filepath=os.path.join(save_path, model_name), # create filepath to save model\n",
    "                                            verbose=0, # only output a limited amount of text\n",
    "                                            save_best_only=True) # save only the best model to file"
   ]
  },
  {
   "cell_type": "code",
   "execution_count": 41,
   "metadata": {
    "colab": {
     "base_uri": "https://localhost:8080/"
    },
    "id": "Slr5hrJHY_Ed",
    "outputId": "da5658c3-3986-4c25-8759-a3950ed3ef3d"
   },
   "outputs": [
    {
     "name": "stdout",
     "output_type": "stream",
     "text": [
      "Epoch 1/50\n",
      " 1/18 [>.............................] - ETA: 9s - loss: 2603.8093 - mae: 2603.8093INFO:tensorflow:Assets written to: model_experiments\\model_1_dense\\assets\n",
      "18/18 [==============================] - 1s 55ms/step - loss: 972.5546 - mae: 972.5546 - val_loss: 2782.5291 - val_mae: 2782.5291\n",
      "Epoch 2/50\n",
      " 1/18 [>.............................] - ETA: 0s - loss: 414.9567 - mae: 414.9567INFO:tensorflow:Assets written to: model_experiments\\model_1_dense\\assets\n",
      "18/18 [==============================] - 1s 36ms/step - loss: 272.7716 - mae: 272.7716 - val_loss: 1136.9102 - val_mae: 1136.9102\n",
      "Epoch 3/50\n",
      " 1/18 [>.............................] - ETA: 0s - loss: 149.6666 - mae: 149.6666INFO:tensorflow:Assets written to: model_experiments\\model_1_dense\\assets\n",
      "18/18 [==============================] - 0s 29ms/step - loss: 189.5964 - mae: 189.5964 - val_loss: 979.2823 - val_mae: 979.2823\n",
      "Epoch 4/50\n",
      " 1/18 [>.............................] - ETA: 0s - loss: 229.2170 - mae: 229.2170INFO:tensorflow:Assets written to: model_experiments\\model_1_dense\\assets\n",
      "18/18 [==============================] - 0s 28ms/step - loss: 177.1296 - mae: 177.1296 - val_loss: 971.1274 - val_mae: 971.1274\n",
      "Epoch 5/50\n",
      " 1/18 [>.............................] - ETA: 0s - loss: 173.2680 - mae: 173.2680INFO:tensorflow:Assets written to: model_experiments\\model_1_dense\\assets\n",
      "18/18 [==============================] - 1s 30ms/step - loss: 172.5925 - mae: 172.5925 - val_loss: 936.4932 - val_mae: 936.4932\n",
      "Epoch 6/50\n",
      " 1/18 [>.............................] - ETA: 0s - loss: 123.3073 - mae: 123.3073INFO:tensorflow:Assets written to: model_experiments\\model_1_dense\\assets\n",
      "18/18 [==============================] - 0s 28ms/step - loss: 170.3895 - mae: 170.3895 - val_loss: 917.9744 - val_mae: 917.9744\n",
      "Epoch 7/50\n",
      " 1/18 [>.............................] - ETA: 0s - loss: 205.9572 - mae: 205.9572INFO:tensorflow:Assets written to: model_experiments\\model_1_dense\\assets\n",
      "18/18 [==============================] - 0s 27ms/step - loss: 162.0635 - mae: 162.0635 - val_loss: 902.3209 - val_mae: 902.3209\n",
      "Epoch 8/50\n",
      " 1/18 [>.............................] - ETA: 0s - loss: 133.6337 - mae: 133.6337INFO:tensorflow:Assets written to: model_experiments\\model_1_dense\\assets\n",
      "18/18 [==============================] - 0s 28ms/step - loss: 157.6425 - mae: 157.6425 - val_loss: 888.6871 - val_mae: 888.6871\n",
      "Epoch 9/50\n",
      " 1/18 [>.............................] - ETA: 0s - loss: 138.1918 - mae: 138.1918INFO:tensorflow:Assets written to: model_experiments\\model_1_dense\\assets\n",
      "18/18 [==============================] - 1s 35ms/step - loss: 160.0744 - mae: 160.0744 - val_loss: 850.5811 - val_mae: 850.5811\n",
      "Epoch 10/50\n",
      " 1/18 [>.............................] - ETA: 0s - loss: 162.4915 - mae: 162.4915INFO:tensorflow:Assets written to: model_experiments\\model_1_dense\\assets\n",
      "18/18 [==============================] - 0s 29ms/step - loss: 154.3405 - mae: 154.3405 - val_loss: 848.9976 - val_mae: 848.9976\n",
      "Epoch 11/50\n",
      " 1/18 [>.............................] - ETA: 0s - loss: 153.0555 - mae: 153.0555INFO:tensorflow:Assets written to: model_experiments\\model_1_dense\\assets\n",
      "18/18 [==============================] - 0s 29ms/step - loss: 146.5954 - mae: 146.5954 - val_loss: 816.0671 - val_mae: 816.0671\n",
      "Epoch 12/50\n",
      "18/18 [==============================] - 0s 4ms/step - loss: 143.6507 - mae: 143.6507 - val_loss: 926.1860 - val_mae: 926.1860\n",
      "Epoch 13/50\n",
      " 1/18 [>.............................] - ETA: 0s - loss: 130.2303 - mae: 130.2303INFO:tensorflow:Assets written to: model_experiments\\model_1_dense\\assets\n",
      "18/18 [==============================] - 0s 29ms/step - loss: 144.1498 - mae: 144.1498 - val_loss: 799.7205 - val_mae: 799.7205\n",
      "Epoch 14/50\n",
      " 1/18 [>.............................] - ETA: 0s - loss: 145.3024 - mae: 145.3024INFO:tensorflow:Assets written to: model_experiments\\model_1_dense\\assets\n",
      "18/18 [==============================] - 1s 32ms/step - loss: 138.3670 - mae: 138.3670 - val_loss: 775.5092 - val_mae: 775.5092\n",
      "Epoch 15/50\n",
      "18/18 [==============================] - 0s 4ms/step - loss: 143.7629 - mae: 143.7629 - val_loss: 795.9468 - val_mae: 795.9468\n",
      "Epoch 16/50\n",
      "18/18 [==============================] - 0s 4ms/step - loss: 136.2768 - mae: 136.2768 - val_loss: 811.8165 - val_mae: 811.8165\n",
      "Epoch 17/50\n",
      " 1/18 [>.............................] - ETA: 0s - loss: 125.7785 - mae: 125.7785INFO:tensorflow:Assets written to: model_experiments\\model_1_dense\\assets\n",
      "18/18 [==============================] - 0s 29ms/step - loss: 131.8977 - mae: 131.8977 - val_loss: 759.6957 - val_mae: 759.6957\n",
      "Epoch 18/50\n",
      " 1/18 [>.............................] - ETA: 0s - loss: 144.2755 - mae: 144.2755INFO:tensorflow:Assets written to: model_experiments\\model_1_dense\\assets\n",
      "18/18 [==============================] - 0s 28ms/step - loss: 129.1428 - mae: 129.1428 - val_loss: 719.3411 - val_mae: 719.3411\n",
      "Epoch 19/50\n",
      "18/18 [==============================] - 0s 4ms/step - loss: 127.2010 - mae: 127.2010 - val_loss: 762.0971 - val_mae: 762.0971\n",
      "Epoch 20/50\n",
      " 1/18 [>.............................] - ETA: 0s - loss: 141.3508 - mae: 141.3508INFO:tensorflow:Assets written to: model_experiments\\model_1_dense\\assets\n",
      "18/18 [==============================] - 0s 28ms/step - loss: 126.1415 - mae: 126.1415 - val_loss: 690.2994 - val_mae: 690.2994\n",
      "Epoch 21/50\n",
      "18/18 [==============================] - 0s 5ms/step - loss: 127.5258 - mae: 127.5258 - val_loss: 694.0992 - val_mae: 694.0992\n",
      "Epoch 22/50\n",
      " 8/18 [============>.................] - ETA: 0s - loss: 142.7051 - mae: 142.7051INFO:tensorflow:Assets written to: model_experiments\\model_1_dense\\assets\n",
      "18/18 [==============================] - 1s 42ms/step - loss: 123.2376 - mae: 123.2376 - val_loss: 678.2349 - val_mae: 678.2349\n",
      "Epoch 23/50\n",
      " 1/18 [>.............................] - ETA: 0s - loss: 128.4315 - mae: 128.4315INFO:tensorflow:Assets written to: model_experiments\\model_1_dense\\assets\n",
      "18/18 [==============================] - 1s 30ms/step - loss: 121.2881 - mae: 121.2881 - val_loss: 665.1509 - val_mae: 665.1509\n",
      "Epoch 24/50\n",
      " 1/18 [>.............................] - ETA: 0s - loss: 131.7665 - mae: 131.7665INFO:tensorflow:Assets written to: model_experiments\\model_1_dense\\assets\n",
      "18/18 [==============================] - 1s 40ms/step - loss: 121.9845 - mae: 121.9845 - val_loss: 655.1846 - val_mae: 655.1846\n",
      "Epoch 25/50\n",
      " 1/18 [>.............................] - ETA: 0s - loss: 123.3938 - mae: 123.3938INFO:tensorflow:Assets written to: model_experiments\\model_1_dense\\assets\n",
      "18/18 [==============================] - 1s 30ms/step - loss: 121.7664 - mae: 121.7664 - val_loss: 648.6529 - val_mae: 648.6529\n",
      "Epoch 26/50\n",
      "18/18 [==============================] - 0s 4ms/step - loss: 119.2629 - mae: 119.2629 - val_loss: 655.6918 - val_mae: 655.6918\n",
      "Epoch 27/50\n",
      " 1/18 [>.............................] - ETA: 0s - loss: 154.9326 - mae: 154.9326INFO:tensorflow:Assets written to: model_experiments\\model_1_dense\\assets\n",
      "18/18 [==============================] - 0s 28ms/step - loss: 122.7921 - mae: 122.7921 - val_loss: 639.3494 - val_mae: 639.3494\n",
      "Epoch 28/50\n",
      " 1/18 [>.............................] - ETA: 0s - loss: 113.1539 - mae: 113.1539INFO:tensorflow:Assets written to: model_experiments\\model_1_dense\\assets\n",
      "18/18 [==============================] - 0s 29ms/step - loss: 116.4328 - mae: 116.4328 - val_loss: 633.1398 - val_mae: 633.1398\n",
      "Epoch 29/50\n",
      "18/18 [==============================] - 0s 4ms/step - loss: 117.0349 - mae: 117.0349 - val_loss: 633.9617 - val_mae: 633.9617\n",
      "Epoch 30/50\n",
      " 1/18 [>.............................] - ETA: 0s - loss: 143.1176 - mae: 143.1176INFO:tensorflow:Assets written to: model_experiments\\model_1_dense\\assets\n",
      "18/18 [==============================] - 0s 29ms/step - loss: 119.3994 - mae: 119.3994 - val_loss: 625.5995 - val_mae: 625.5995\n",
      "Epoch 31/50\n",
      "18/18 [==============================] - 0s 4ms/step - loss: 116.8678 - mae: 116.8678 - val_loss: 626.8636 - val_mae: 626.8636\n",
      "Epoch 32/50\n",
      "18/18 [==============================] - 0s 4ms/step - loss: 115.6803 - mae: 115.6803 - val_loss: 633.2331 - val_mae: 633.2331\n",
      "Epoch 33/50\n",
      " 1/18 [>.............................] - ETA: 0s - loss: 147.4988 - mae: 147.4988INFO:tensorflow:Assets written to: model_experiments\\model_1_dense\\assets\n",
      "18/18 [==============================] - 0s 27ms/step - loss: 114.8166 - mae: 114.8166 - val_loss: 620.8072 - val_mae: 620.8072\n",
      "Epoch 34/50\n",
      "18/18 [==============================] - 0s 4ms/step - loss: 116.2506 - mae: 116.2506 - val_loss: 623.7568 - val_mae: 623.7568\n",
      "Epoch 35/50\n",
      "18/18 [==============================] - 0s 3ms/step - loss: 115.0402 - mae: 115.0402 - val_loss: 623.8378 - val_mae: 623.8378\n",
      "Epoch 36/50\n",
      " 1/18 [>.............................] - ETA: 0s - loss: 162.0280 - mae: 162.0280INFO:tensorflow:Assets written to: model_experiments\\model_1_dense\\assets\n",
      "18/18 [==============================] - 0s 29ms/step - loss: 117.9850 - mae: 117.9850 - val_loss: 612.8543 - val_mae: 612.8543\n",
      "Epoch 37/50\n",
      "18/18 [==============================] - 0s 4ms/step - loss: 113.0241 - mae: 113.0241 - val_loss: 613.0723 - val_mae: 613.0723\n",
      "Epoch 38/50\n",
      " 1/18 [>.............................] - ETA: 0s - loss: 104.3679 - mae: 104.3679INFO:tensorflow:Assets written to: model_experiments\\model_1_dense\\assets\n",
      "18/18 [==============================] - 0s 28ms/step - loss: 113.8527 - mae: 113.8527 - val_loss: 607.1149 - val_mae: 607.1149\n",
      "Epoch 39/50\n",
      " 1/18 [>.............................] - ETA: 0s - loss: 135.4292 - mae: 135.4292INFO:tensorflow:Assets written to: model_experiments\\model_1_dense\\assets\n",
      "18/18 [==============================] - 0s 28ms/step - loss: 114.4592 - mae: 114.4592 - val_loss: 606.6550 - val_mae: 606.6550\n",
      "Epoch 40/50\n",
      "18/18 [==============================] - 0s 4ms/step - loss: 112.7244 - mae: 112.7244 - val_loss: 619.8245 - val_mae: 619.8245\n",
      "Epoch 41/50\n",
      "18/18 [==============================] - 0s 3ms/step - loss: 115.4024 - mae: 115.4024 - val_loss: 676.7651 - val_mae: 676.7651\n",
      "Epoch 42/50\n",
      "18/18 [==============================] - 0s 4ms/step - loss: 119.8888 - mae: 119.8888 - val_loss: 611.8654 - val_mae: 611.8654\n",
      "Epoch 43/50\n",
      "18/18 [==============================] - 0s 4ms/step - loss: 113.8325 - mae: 113.8325 - val_loss: 692.1036 - val_mae: 692.1036\n",
      "Epoch 44/50\n",
      " 1/18 [>.............................] - ETA: 0s - loss: 83.5908 - mae: 83.5908INFO:tensorflow:Assets written to: model_experiments\\model_1_dense\\assets\n",
      "18/18 [==============================] - 0s 27ms/step - loss: 118.1155 - mae: 118.1155 - val_loss: 599.6892 - val_mae: 599.6892\n",
      "Epoch 45/50\n",
      " 1/18 [>.............................] - ETA: 0s - loss: 84.6807 - mae: 84.6807INFO:tensorflow:Assets written to: model_experiments\\model_1_dense\\assets\n",
      "18/18 [==============================] - 0s 28ms/step - loss: 111.4646 - mae: 111.4646 - val_loss: 599.2580 - val_mae: 599.2580\n",
      "Epoch 46/50\n",
      "18/18 [==============================] - 0s 4ms/step - loss: 112.4053 - mae: 112.4053 - val_loss: 644.6583 - val_mae: 644.6583\n",
      "Epoch 47/50\n",
      "18/18 [==============================] - 0s 4ms/step - loss: 115.3974 - mae: 115.3974 - val_loss: 617.3533 - val_mae: 617.3533\n",
      "Epoch 48/50\n",
      "18/18 [==============================] - 0s 4ms/step - loss: 112.1139 - mae: 112.1139 - val_loss: 624.5693 - val_mae: 624.5693\n",
      "Epoch 49/50\n",
      "18/18 [==============================] - 0s 3ms/step - loss: 116.4006 - mae: 116.4006 - val_loss: 602.7204 - val_mae: 602.7204\n",
      "Epoch 50/50\n",
      "18/18 [==============================] - 0s 4ms/step - loss: 117.6802 - mae: 117.6802 - val_loss: 612.6789 - val_mae: 612.6789\n"
     ]
    },
    {
     "data": {
      "text/plain": [
       "<keras.callbacks.History at 0x221ea0618b0>"
      ]
     },
     "execution_count": 41,
     "metadata": {},
     "output_type": "execute_result"
    }
   ],
   "source": [
    "import tensorflow as tf\n",
    "from tensorflow.keras import layers\n",
    "\n",
    "# Set random seed for as reproducible results as possible\n",
    "tf.random.set_seed(42)\n",
    "\n",
    "# Construct model\n",
    "model_1 = tf.keras.Sequential([\n",
    "  layers.Dense(128, activation=\"relu\"),\n",
    "  layers.Dense(HORIZON, activation=\"linear\") # linear activation is the same as having no activation                        \n",
    "], name=\"model_1_dense\") # give the model a name so we can save it\n",
    "\n",
    "# Compile model\n",
    "model_1.compile(loss=\"mae\",\n",
    "                optimizer=tf.keras.optimizers.Adam(),\n",
    "                metrics=[\"mae\"]) # we don't necessarily need this when the loss function is already MAE\n",
    "\n",
    "# Fit model\n",
    "model_1.fit(x=train_windows, # train windows of 7 timesteps of Bitcoin prices\n",
    "            y=train_labels, # horizon value of 1 (using the previous 7 timesteps to predict next day)\n",
    "            epochs=50,\n",
    "            verbose=1,\n",
    "            batch_size=128,\n",
    "            validation_data=(test_windows, test_labels),\n",
    "            callbacks=[create_model_checkpoint(model_name=model_1.name)]) # create ModelCheckpoint callback to save best model"
   ]
  },
  {
   "cell_type": "code",
   "execution_count": 42,
   "metadata": {
    "colab": {
     "base_uri": "https://localhost:8080/"
    },
    "id": "0YlBslW6vR8b",
    "outputId": "b88368da-0fce-450e-b1d0-0cba18457eb4"
   },
   "outputs": [
    {
     "name": "stdout",
     "output_type": "stream",
     "text": [
      "Model: \"model_1_dense\"\n",
      "_________________________________________________________________\n",
      " Layer (type)                Output Shape              Param #   \n",
      "=================================================================\n",
      " dense (Dense)               (None, 128)               1024      \n",
      "                                                                 \n",
      " dense_1 (Dense)             (None, 1)                 129       \n",
      "                                                                 \n",
      "=================================================================\n",
      "Total params: 1,153\n",
      "Trainable params: 1,153\n",
      "Non-trainable params: 0\n",
      "_________________________________________________________________\n"
     ]
    }
   ],
   "source": [
    "model_1.summary()"
   ]
  },
  {
   "cell_type": "markdown",
   "metadata": {
    "id": "ZRrvDINUooJO"
   },
   "source": [
    "Because of the small size of our data (less than 3000 total samples), the model trains very fast.\n",
    "\n",
    "Let's evaluate it."
   ]
  },
  {
   "cell_type": "code",
   "execution_count": 43,
   "metadata": {
    "colab": {
     "base_uri": "https://localhost:8080/"
    },
    "id": "N1DbcEZBY_Bt",
    "outputId": "1ff0ce40-44f6-42c8-f44f-237bd3d07c7b"
   },
   "outputs": [
    {
     "name": "stdout",
     "output_type": "stream",
     "text": [
      "18/18 [==============================] - 0s 2ms/step - loss: 612.6789 - mae: 612.6789\n"
     ]
    },
    {
     "data": {
      "text/plain": [
       "[612.6788940429688, 612.6788940429688]"
      ]
     },
     "execution_count": 43,
     "metadata": {},
     "output_type": "execute_result"
    }
   ],
   "source": [
    "# Evaluate model on test data\n",
    "model_1.evaluate(test_windows, test_labels)"
   ]
  },
  {
   "cell_type": "markdown",
   "metadata": {
    "id": "zwaUv85oox2F"
   },
   "source": [
    "You'll notice the model achieves the same `val_loss` (in this case, this is MAE) as the last epoch.\n",
    "\n",
    "But if we load in the version of `model_1` which was saved to file using the `ModelCheckpoint` callback, we should see an improvement in results."
   ]
  },
  {
   "cell_type": "code",
   "execution_count": 44,
   "metadata": {
    "colab": {
     "base_uri": "https://localhost:8080/"
    },
    "id": "FXey-AX-XZPK",
    "outputId": "9d03695c-a74d-4ead-fe7c-5b7ba97e6257"
   },
   "outputs": [
    {
     "name": "stdout",
     "output_type": "stream",
     "text": [
      "18/18 [==============================] - 0s 1ms/step - loss: 599.2580 - mae: 599.2580\n"
     ]
    },
    {
     "data": {
      "text/plain": [
       "[599.2579956054688, 599.2579956054688]"
      ]
     },
     "execution_count": 44,
     "metadata": {},
     "output_type": "execute_result"
    }
   ],
   "source": [
    "# Load in saved best performing model_1 and evaluate on test data\n",
    "model_1 = tf.keras.models.load_model(\"model_experiments/model_1_dense\")\n",
    "model_1.evaluate(test_windows, test_labels)"
   ]
  },
  {
   "cell_type": "markdown",
   "metadata": {
    "id": "YvVtmLRdpcyH"
   },
   "source": [
    "Much better! Due to the fluctuating performance of the model during training, loading back in the best performing model see's a sizeable improvement in MAE."
   ]
  },
  {
   "cell_type": "code",
   "execution_count": 45,
   "metadata": {
    "id": "hZrExWzyh3ur"
   },
   "outputs": [],
   "source": [
    "def make_preds(model, input_data):\n",
    "  \"\"\"\n",
    "  Uses model to make predictions on input_data.\n",
    "\n",
    "  Parameters\n",
    "  ----------\n",
    "  model: trained model \n",
    "  input_data: windowed input data (same kind of data model was trained on)\n",
    "\n",
    "  Returns model predictions on input_data.\n",
    "  \"\"\"\n",
    "  forecast = model.predict(input_data)\n",
    "  return tf.squeeze(forecast) # return 1D array of predictions"
   ]
  },
  {
   "cell_type": "markdown",
   "metadata": {
    "id": "vcsoVIrGvrDd"
   },
   "source": [
    "Nice! \n",
    "\n",
    "Now let's use our `make_preds()` and see how it goes.\n",
    "\n"
   ]
  },
  {
   "cell_type": "code",
   "execution_count": 46,
   "metadata": {
    "colab": {
     "base_uri": "https://localhost:8080/"
    },
    "id": "u1aAKQp6vapw",
    "outputId": "805987dd-1be4-4516-83fe-b303d9a49414"
   },
   "outputs": [
    {
     "name": "stdout",
     "output_type": "stream",
     "text": [
      "18/18 [==============================] - 0s 1ms/step\n"
     ]
    },
    {
     "data": {
      "text/plain": [
       "(556,\n",
       " <tf.Tensor: shape=(10,), dtype=float32, numpy=\n",
       " array([8959.415, 8824.7  , 8966.85 , 8886.551, 8781.875, 8659.543,\n",
       "        8765.922, 8592.071, 8451.733, 8537.931], dtype=float32)>)"
      ]
     },
     "execution_count": 46,
     "metadata": {},
     "output_type": "execute_result"
    }
   ],
   "source": [
    "# Make predictions using model_1 on the test dataset and view the results\n",
    "model_1_preds = make_preds(model_1, test_windows)\n",
    "len(model_1_preds), model_1_preds[:10]"
   ]
  },
  {
   "cell_type": "code",
   "execution_count": 47,
   "metadata": {
    "colab": {
     "base_uri": "https://localhost:8080/"
    },
    "id": "eHak7Jqd9aXv",
    "outputId": "7e1aa8e7-0dc2-48f5-e14e-cea11f268d3c"
   },
   "outputs": [
    {
     "data": {
      "text/plain": [
       "{'mae': 599.258,\n",
       " 'mse': 1256225.6,\n",
       " 'rmse': 1120.8147,\n",
       " 'mape': 2.7131338,\n",
       " 'mase': 1.0527303}"
      ]
     },
     "execution_count": 47,
     "metadata": {},
     "output_type": "execute_result"
    }
   ],
   "source": [
    "# Evaluate preds\n",
    "model_1_results = evaluate_preds(y_true=tf.squeeze(test_labels), # reduce to right shape\n",
    "                                 y_pred=model_1_preds)\n",
    "model_1_results"
   ]
  },
  {
   "cell_type": "markdown",
   "metadata": {
    "id": "hGL9Mj6Rwddw"
   },
   "source": [
    "How did our model go? Did it beat the naïve forecast?"
   ]
  },
  {
   "cell_type": "code",
   "execution_count": 48,
   "metadata": {
    "colab": {
     "base_uri": "https://localhost:8080/"
    },
    "id": "5WePaRbqxTXL",
    "outputId": "fe0479a7-f72e-4c86-9e5a-c7db71b481f3"
   },
   "outputs": [
    {
     "data": {
      "text/plain": [
       "{'mae': 567.9802,\n",
       " 'mse': 1147547.0,\n",
       " 'rmse': 1071.2362,\n",
       " 'mape': 2.5165248,\n",
       " 'mase': 0.99957}"
      ]
     },
     "execution_count": 48,
     "metadata": {},
     "output_type": "execute_result"
    }
   ],
   "source": [
    "naive_results"
   ]
  },
  {
   "cell_type": "code",
   "execution_count": 49,
   "metadata": {
    "colab": {
     "base_uri": "https://localhost:8080/",
     "height": 442
    },
    "id": "Wgxoqg_tIhFJ",
    "outputId": "f14ff658-f1f9-4770-a937-119698dc5d95"
   },
   "outputs": [
    {
     "data": {
      "image/png": "[encoded data removed]",
      "text/plain": [
       "<Figure size 720x504 with 1 Axes>"
      ]
     },
     "metadata": {
      "needs_background": "light"
     },
     "output_type": "display_data"
    }
   ],
   "source": [
    "offset = 300\n",
    "plt.figure(figsize=(10, 7))\n",
    "# Account for the test_window offset and index into test_labels to ensure correct plotting\n",
    "plot_time_series(timesteps=X_test[-len(test_windows):], values=test_labels[:, 0], start=offset, label=\"Test_data\")\n",
    "plot_time_series(timesteps=X_test[-len(test_windows):], values=model_1_preds, start=offset, format=\"-\", label=\"model_1_preds\")"
   ]
  },
  {
   "cell_type": "markdown",
   "metadata": {
    "id": "DiZLQ4KpqRqN"
   },
   "source": [
    "What's wrong with these predictions?\n",
    "\n",
    "As mentioned before, they're on the test dataset. So they're not actual forecasts.\n",
    "\n",
    "With our current model setup, how do you think we'd make forecasts for the future?\n",
    "\n",
    "Have a think about it for now, we'll cover this later on."
   ]
  },
  {
   "cell_type": "code",
   "execution_count": 50,
   "metadata": {
    "id": "Vz0eMi7F4wpn"
   },
   "outputs": [],
   "source": [
    "HORIZON = 1 # predict one step at a time\n",
    "WINDOW_SIZE = 30 # use 30 timesteps in the past"
   ]
  },
  {
   "cell_type": "code",
   "execution_count": 51,
   "metadata": {
    "colab": {
     "base_uri": "https://localhost:8080/"
    },
    "id": "1HlYaAxr6UoC",
    "outputId": "f7dab359-4a13-4d51-b71e-1db60422547f"
   },
   "outputs": [
    {
     "data": {
      "text/plain": [
       "(2757, 2757)"
      ]
     },
     "execution_count": 51,
     "metadata": {},
     "output_type": "execute_result"
    }
   ],
   "source": [
    "# Make windowed data with appropriate horizon and window sizes\n",
    "full_windows, full_labels = make_windows(prices, window_size=WINDOW_SIZE, horizon=HORIZON)\n",
    "len(full_windows), len(full_labels)"
   ]
  },
  {
   "cell_type": "code",
   "execution_count": 52,
   "metadata": {
    "colab": {
     "base_uri": "https://localhost:8080/"
    },
    "id": "jWxYZtOuelzO",
    "outputId": "e001aab2-3bf6-45c9-efde-a252259c8a72"
   },
   "outputs": [
    {
     "data": {
      "text/plain": [
       "(2205, 552, 2205, 552)"
      ]
     },
     "execution_count": 52,
     "metadata": {},
     "output_type": "execute_result"
    }
   ],
   "source": [
    "# Make train and testing windows\n",
    "train_windows, test_windows, train_labels, test_labels = make_train_test_splits(windows=full_windows, labels=full_labels)\n",
    "len(train_windows), len(test_windows), len(train_labels), len(test_labels)"
   ]
  },
  {
   "cell_type": "markdown",
   "metadata": {
    "id": "2xikvf8N0_dU"
   },
   "source": [
    "Data prepared!\n",
    "\n",
    "Now let's construct `model_2`, a model with the same architecture as `model_1` as well as the same training routine."
   ]
  },
  {
   "cell_type": "code",
   "execution_count": 53,
   "metadata": {
    "colab": {
     "base_uri": "https://localhost:8080/"
    },
    "id": "b_oz5aJE6UwN",
    "outputId": "c8708116-937f-47e1-d412-f30fe7188e82"
   },
   "outputs": [
    {
     "name": "stdout",
     "output_type": "stream",
     "text": [
      "INFO:tensorflow:Assets written to: model_experiments\\model_2_dense\\assets\n",
      "INFO:tensorflow:Assets written to: model_experiments\\model_2_dense\\assets\n",
      "INFO:tensorflow:Assets written to: model_experiments\\model_2_dense\\assets\n",
      "INFO:tensorflow:Assets written to: model_experiments\\model_2_dense\\assets\n",
      "INFO:tensorflow:Assets written to: model_experiments\\model_2_dense\\assets\n",
      "INFO:tensorflow:Assets written to: model_experiments\\model_2_dense\\assets\n",
      "INFO:tensorflow:Assets written to: model_experiments\\model_2_dense\\assets\n",
      "INFO:tensorflow:Assets written to: model_experiments\\model_2_dense\\assets\n",
      "INFO:tensorflow:Assets written to: model_experiments\\model_2_dense\\assets\n",
      "INFO:tensorflow:Assets written to: model_experiments\\model_2_dense\\assets\n",
      "INFO:tensorflow:Assets written to: model_experiments\\model_2_dense\\assets\n",
      "INFO:tensorflow:Assets written to: model_experiments\\model_2_dense\\assets\n",
      "INFO:tensorflow:Assets written to: model_experiments\\model_2_dense\\assets\n",
      "INFO:tensorflow:Assets written to: model_experiments\\model_2_dense\\assets\n",
      "INFO:tensorflow:Assets written to: model_experiments\\model_2_dense\\assets\n",
      "INFO:tensorflow:Assets written to: model_experiments\\model_2_dense\\assets\n",
      "INFO:tensorflow:Assets written to: model_experiments\\model_2_dense\\assets\n",
      "INFO:tensorflow:Assets written to: model_experiments\\model_2_dense\\assets\n",
      "INFO:tensorflow:Assets written to: model_experiments\\model_2_dense\\assets\n"
     ]
    },
    {
     "data": {
      "text/plain": [
       "<keras.callbacks.History at 0x221ed98b490>"
      ]
     },
     "execution_count": 53,
     "metadata": {},
     "output_type": "execute_result"
    }
   ],
   "source": [
    "tf.random.set_seed(42)\n",
    "\n",
    "# Create model (same model as model 1 but data input will be different)\n",
    "model_2 = tf.keras.Sequential([\n",
    "  layers.Dense(128, activation=\"relu\"),\n",
    "  layers.Dense(HORIZON) # need to predict horizon number of steps into the future\n",
    "], name=\"model_2_dense\")\n",
    "\n",
    "model_2.compile(loss=\"mae\",\n",
    "                optimizer=tf.keras.optimizers.Adam())\n",
    "\n",
    "model_2.fit(train_windows,\n",
    "            train_labels,\n",
    "            epochs=50,\n",
    "            batch_size=128,\n",
    "            verbose=0,\n",
    "            validation_data=(test_windows, test_labels),\n",
    "            callbacks=[create_model_checkpoint(model_name=model_2.name)])"
   ]
  },
  {
   "cell_type": "markdown",
   "metadata": {
    "id": "0oYd2nt51Ppj"
   },
   "source": [
    "Once again, training goes nice and fast.\n",
    "\n",
    "Let's evaluate our model's performance."
   ]
  },
  {
   "cell_type": "code",
   "execution_count": 54,
   "metadata": {
    "colab": {
     "base_uri": "https://localhost:8080/"
    },
    "id": "W42Fa-aO8rhg",
    "outputId": "defdd6b1-47f3-4c27-e1bb-b9cdb8059f2d"
   },
   "outputs": [
    {
     "name": "stdout",
     "output_type": "stream",
     "text": [
      "18/18 [==============================] - 0s 1ms/step - loss: 796.6062\n"
     ]
    },
    {
     "data": {
      "text/plain": [
       "796.606201171875"
      ]
     },
     "execution_count": 54,
     "metadata": {},
     "output_type": "execute_result"
    }
   ],
   "source": [
    "# Evaluate model 2 preds\n",
    "model_2.evaluate(test_windows, test_labels)"
   ]
  },
  {
   "cell_type": "markdown",
   "metadata": {
    "id": "W1P2DRrA1VlP"
   },
   "source": [
    "Hmmm... is that the best it did?\n",
    "\n",
    "How about we try loading in the best performing `model_2` which was saved to file thanks to our `ModelCheckpoint` callback."
   ]
  },
  {
   "cell_type": "code",
   "execution_count": 55,
   "metadata": {
    "colab": {
     "base_uri": "https://localhost:8080/"
    },
    "id": "c_hG89F5YV4i",
    "outputId": "6fca8878-fd69-4fad-ead8-098854dc766d"
   },
   "outputs": [
    {
     "name": "stdout",
     "output_type": "stream",
     "text": [
      "18/18 [==============================] - 0s 1ms/step - loss: 645.5732\n"
     ]
    },
    {
     "data": {
      "text/plain": [
       "645.5731811523438"
      ]
     },
     "execution_count": 55,
     "metadata": {},
     "output_type": "execute_result"
    }
   ],
   "source": [
    "# Load in best performing model\n",
    "model_2 = tf.keras.models.load_model(\"model_experiments/model_2_dense/\")\n",
    "model_2.evaluate(test_windows, test_labels)"
   ]
  },
  {
   "cell_type": "code",
   "execution_count": 56,
   "metadata": {
    "colab": {
     "base_uri": "https://localhost:8080/"
    },
    "id": "TPfvPgkUknY5",
    "outputId": "e76f131b-2ea1-4492-ce64-986c5c626407"
   },
   "outputs": [
    {
     "name": "stdout",
     "output_type": "stream",
     "text": [
      "18/18 [==============================] - 0s 2ms/step\n"
     ]
    }
   ],
   "source": [
    "# Get forecast predictions\n",
    "model_2_preds = make_preds(model_2,\n",
    "                           input_data=test_windows)"
   ]
  },
  {
   "cell_type": "code",
   "execution_count": 57,
   "metadata": {
    "colab": {
     "base_uri": "https://localhost:8080/"
    },
    "id": "dy7XZx7FllHX",
    "outputId": "b9e935c2-79de-41ee-96d1-dbb6db7170db"
   },
   "outputs": [
    {
     "data": {
      "text/plain": [
       "{'mae': 645.57336,\n",
       " 'mse': 1394154.0,\n",
       " 'rmse': 1180.743,\n",
       " 'mape': 3.0117738,\n",
       " 'mase': 1.1284686}"
      ]
     },
     "execution_count": 57,
     "metadata": {},
     "output_type": "execute_result"
    }
   ],
   "source": [
    "# Evaluate results for model 2 predictions\n",
    "model_2_results = evaluate_preds(y_true=tf.squeeze(test_labels), # remove 1 dimension of test labels\n",
    "                                 y_pred=model_2_preds)\n",
    "model_2_results"
   ]
  },
  {
   "cell_type": "markdown",
   "metadata": {
    "id": "a8djCXli1wGy"
   },
   "source": [
    "It looks like `model_2` performs worse than the naïve model as well as `model_1`!\n",
    "\n",
    "Does this mean a smaller window size is better? (I'll leave this as a challenge you can experiment with)\n",
    "\n",
    "How do the predictions look?"
   ]
  },
  {
   "cell_type": "code",
   "execution_count": 58,
   "metadata": {
    "colab": {
     "base_uri": "https://localhost:8080/",
     "height": 442
    },
    "id": "jHh_qtXflx7Z",
    "outputId": "d8ff8d0a-679a-4e37-e82b-f96f5d90eabd"
   },
   "outputs": [
    {
     "data": {
      "image/png": "[encoded data removed]",
      "text/plain": [
       "<Figure size 720x504 with 1 Axes>"
      ]
     },
     "metadata": {
      "needs_background": "light"
     },
     "output_type": "display_data"
    }
   ],
   "source": [
    "offset = 300\n",
    "plt.figure(figsize=(10, 7))\n",
    "# Account for the test_window offset\n",
    "plot_time_series(timesteps=X_test[-len(test_windows):], values=test_labels[:, 0], start=offset, label=\"test_data\")\n",
    "plot_time_series(timesteps=X_test[-len(test_windows):], values=model_2_preds, start=offset, format=\"-\", label=\"model_2_preds\") "
   ]
  },
  {
   "cell_type": "code",
   "execution_count": 59,
   "metadata": {
    "colab": {
     "base_uri": "https://localhost:8080/"
    },
    "id": "KpRn9_ZpuoV_",
    "outputId": "e230d6f5-c6f5-41ac-c1fb-d2373a7495f7"
   },
   "outputs": [
    {
     "name": "stdout",
     "output_type": "stream",
     "text": [
      "Model: \"model_2_dense\"\n",
      "_________________________________________________________________\n",
      " Layer (type)                Output Shape              Param #   \n",
      "=================================================================\n",
      " dense_2 (Dense)             (None, 128)               3968      \n",
      "                                                                 \n",
      " dense_3 (Dense)             (None, 1)                 129       \n",
      "                                                                 \n",
      "=================================================================\n",
      "Total params: 4,097\n",
      "Trainable params: 4,097\n",
      "Non-trainable params: 0\n",
      "_________________________________________________________________\n"
     ]
    }
   ],
   "source": [
    "model_2.summary()"
   ]
  },
  {
   "cell_type": "markdown",
   "metadata": {
    "id": "Sls7mUaq9lMl"
   },
   "source": [
    "## Model 3: Dense (window = 30, horizon = 7)\n",
    "\n",
    "Let's try and predict 7 days ahead given the previous 30 days.\n",
    "\n",
    "First, we'll update the `HORIZON` and `WINDOW_SIZE` variables and create windowed data.\n"
   ]
  },
  {
   "cell_type": "code",
   "execution_count": 60,
   "metadata": {
    "colab": {
     "base_uri": "https://localhost:8080/"
    },
    "id": "8PtmayTM98Mb",
    "outputId": "71130e0a-d548-4306-975f-fbd0ad6ba5e9"
   },
   "outputs": [
    {
     "data": {
      "text/plain": [
       "(2751, 2751)"
      ]
     },
     "execution_count": 60,
     "metadata": {},
     "output_type": "execute_result"
    }
   ],
   "source": [
    "HORIZON = 7\n",
    "WINDOW_SIZE = 30\n",
    "\n",
    "full_windows, full_labels = make_windows(prices, window_size=WINDOW_SIZE, horizon=HORIZON)\n",
    "len(full_windows), len(full_labels)"
   ]
  },
  {
   "cell_type": "markdown",
   "metadata": {
    "id": "c7lhMfxWZK83"
   },
   "source": [
    "And we'll split the full dataset windows into training and test sets."
   ]
  },
  {
   "cell_type": "code",
   "execution_count": 61,
   "metadata": {
    "colab": {
     "base_uri": "https://localhost:8080/"
    },
    "id": "E8xgoKunZ__e",
    "outputId": "72d39b69-fb97-4b94-d9b9-81abb4302ec5"
   },
   "outputs": [
    {
     "data": {
      "text/plain": [
       "(2200, 551, 2200, 551)"
      ]
     },
     "execution_count": 61,
     "metadata": {},
     "output_type": "execute_result"
    }
   ],
   "source": [
    "train_windows, test_windows, train_labels, test_labels = make_train_test_splits(windows=full_windows, labels=full_labels, test_split=0.2)\n",
    "len(train_windows), len(test_windows), len(train_labels), len(test_labels)"
   ]
  },
  {
   "cell_type": "markdown",
   "metadata": {
    "id": "dlwu4mQmZvSg"
   },
   "source": [
    "Now let's build, compile, fit and evaluate a model."
   ]
  },
  {
   "cell_type": "code",
   "execution_count": 62,
   "metadata": {
    "colab": {
     "base_uri": "https://localhost:8080/"
    },
    "id": "hxHh7xS2-CoH",
    "outputId": "ef644987-e380-4f39-fb7e-7816a6f58755"
   },
   "outputs": [
    {
     "name": "stdout",
     "output_type": "stream",
     "text": [
      "INFO:tensorflow:Assets written to: model_experiments\\model_3_dense\\assets\n",
      "INFO:tensorflow:Assets written to: model_experiments\\model_3_dense\\assets\n",
      "INFO:tensorflow:Assets written to: model_experiments\\model_3_dense\\assets\n",
      "INFO:tensorflow:Assets written to: model_experiments\\model_3_dense\\assets\n",
      "INFO:tensorflow:Assets written to: model_experiments\\model_3_dense\\assets\n",
      "INFO:tensorflow:Assets written to: model_experiments\\model_3_dense\\assets\n",
      "INFO:tensorflow:Assets written to: model_experiments\\model_3_dense\\assets\n",
      "INFO:tensorflow:Assets written to: model_experiments\\model_3_dense\\assets\n",
      "INFO:tensorflow:Assets written to: model_experiments\\model_3_dense\\assets\n",
      "INFO:tensorflow:Assets written to: model_experiments\\model_3_dense\\assets\n",
      "INFO:tensorflow:Assets written to: model_experiments\\model_3_dense\\assets\n",
      "INFO:tensorflow:Assets written to: model_experiments\\model_3_dense\\assets\n",
      "INFO:tensorflow:Assets written to: model_experiments\\model_3_dense\\assets\n",
      "INFO:tensorflow:Assets written to: model_experiments\\model_3_dense\\assets\n",
      "INFO:tensorflow:Assets written to: model_experiments\\model_3_dense\\assets\n",
      "INFO:tensorflow:Assets written to: model_experiments\\model_3_dense\\assets\n",
      "INFO:tensorflow:Assets written to: model_experiments\\model_3_dense\\assets\n",
      "INFO:tensorflow:Assets written to: model_experiments\\model_3_dense\\assets\n",
      "INFO:tensorflow:Assets written to: model_experiments\\model_3_dense\\assets\n",
      "INFO:tensorflow:Assets written to: model_experiments\\model_3_dense\\assets\n",
      "INFO:tensorflow:Assets written to: model_experiments\\model_3_dense\\assets\n",
      "INFO:tensorflow:Assets written to: model_experiments\\model_3_dense\\assets\n"
     ]
    },
    {
     "data": {
      "text/plain": [
       "<keras.callbacks.History at 0x221ec759df0>"
      ]
     },
     "execution_count": 62,
     "metadata": {},
     "output_type": "execute_result"
    }
   ],
   "source": [
    "tf.random.set_seed(42)\n",
    "\n",
    "# Create model (same as model_1 except with different data input size)\n",
    "model_3 = tf.keras.Sequential([\n",
    "  layers.Dense(128, activation=\"relu\"),\n",
    "  layers.Dense(HORIZON)\n",
    "], name=\"model_3_dense\")\n",
    "\n",
    "model_3.compile(loss=\"mae\",\n",
    "                optimizer=tf.keras.optimizers.Adam())\n",
    "\n",
    "model_3.fit(train_windows,\n",
    "            train_labels,\n",
    "            batch_size=128,\n",
    "            epochs=50,\n",
    "            verbose=0,\n",
    "            validation_data=(test_windows, test_labels),\n",
    "            callbacks=[create_model_checkpoint(model_name=model_3.name)])"
   ]
  },
  {
   "cell_type": "code",
   "execution_count": 63,
   "metadata": {
    "colab": {
     "base_uri": "https://localhost:8080/"
    },
    "id": "Pd-8pbfh-DDI",
    "outputId": "e8ea3a2c-a1a0-4d27-f4a6-a0b48e2a4f7b"
   },
   "outputs": [
    {
     "name": "stdout",
     "output_type": "stream",
     "text": [
      "18/18 [==============================] - 0s 1ms/step - loss: 1285.2476\n"
     ]
    },
    {
     "data": {
      "text/plain": [
       "1285.24755859375"
      ]
     },
     "execution_count": 63,
     "metadata": {},
     "output_type": "execute_result"
    }
   ],
   "source": [
    "# How did our model with a larger window size and horizon go?\n",
    "model_3.evaluate(test_windows, test_labels)"
   ]
  },
  {
   "cell_type": "markdown",
   "metadata": {
    "id": "BXqmKsQhS2qB"
   },
   "source": [
    "To compare apples to apples (best performing model to best performing model), we've got to load in the best version of `model_3`. "
   ]
  },
  {
   "cell_type": "code",
   "execution_count": 64,
   "metadata": {
    "colab": {
     "base_uri": "https://localhost:8080/"
    },
    "id": "XsltcXHYSrkX",
    "outputId": "32f4df38-4b99-43ac-c21b-0cb1288773f5"
   },
   "outputs": [
    {
     "name": "stdout",
     "output_type": "stream",
     "text": [
      "18/18 [==============================] - 0s 2ms/step - loss: 1285.2476\n"
     ]
    },
    {
     "data": {
      "text/plain": [
       "1285.24755859375"
      ]
     },
     "execution_count": 64,
     "metadata": {},
     "output_type": "execute_result"
    }
   ],
   "source": [
    "# Load in best version of model_3 and evaluate\n",
    "model_3 = tf.keras.models.load_model(\"model_experiments/model_3_dense/\")\n",
    "model_3.evaluate(test_windows, test_labels)"
   ]
  },
  {
   "cell_type": "markdown",
   "metadata": {
    "id": "q--5dtgITJbc"
   },
   "source": [
    "In this case, the error will be higher because we're predicting 7 steps at a time. \n",
    "\n",
    "This makes sense though because the further you try and predict, the larger your error will be (think of trying to predict the weather 7 days in advance).\n",
    "\n",
    "Let's make predictions with our model using the `make_preds()` function and evaluate them using the `evaluate_preds()` function."
   ]
  },
  {
   "cell_type": "code",
   "execution_count": 65,
   "metadata": {
    "colab": {
     "base_uri": "https://localhost:8080/"
    },
    "id": "uKBNVovRpvhd",
    "outputId": "824648e4-9aba-4789-81b0-8686c0db32a6"
   },
   "outputs": [
    {
     "name": "stdout",
     "output_type": "stream",
     "text": [
      "18/18 [==============================] - 0s 1ms/step\n"
     ]
    },
    {
     "data": {
      "text/plain": [
       "<tf.Tensor: shape=(5, 7), dtype=float32, numpy=\n",
       "array([[9514.146, 9262.387, 9572.427, 9321.   , 9225.87 , 9591.224,\n",
       "        9444.175],\n",
       "       [9095.346, 8965.848, 9234.075, 9143.85 , 8730.712, 9354.711,\n",
       "        8961.033],\n",
       "       [8892.419, 8898.687, 9116.271, 8901.661, 8716.676, 8998.25 ,\n",
       "        8853.021],\n",
       "       [9156.825, 9043.012, 9139.709, 8906.559, 8804.826, 9005.126,\n",
       "        8995.25 ],\n",
       "       [9089.448, 8834.902, 8825.912, 8901.913, 8798.955, 9003.318,\n",
       "        8902.523]], dtype=float32)>"
      ]
     },
     "execution_count": 65,
     "metadata": {},
     "output_type": "execute_result"
    }
   ],
   "source": [
    "# The predictions are going to be 7 steps at a time (this is the HORIZON size)\n",
    "model_3_preds = make_preds(model_3,\n",
    "                           input_data=test_windows)\n",
    "model_3_preds[:5]"
   ]
  },
  {
   "cell_type": "code",
   "execution_count": 66,
   "metadata": {
    "colab": {
     "base_uri": "https://localhost:8080/"
    },
    "id": "P9VQqenW-5to",
    "outputId": "c0d35d6c-ed49-4775-bf64-0e044d854e9f"
   },
   "outputs": [
    {
     "data": {
      "text/plain": [
       "{'mae': array([ 625.5319  ,  356.43988 ,  260.64453 ,  380.73492 ,  353.79117 ,\n",
       "         406.4935  ,  483.0057  ,  555.4356  ,  642.8706  ,  661.9746  ,\n",
       "         737.224   ,  706.47235 ,  934.6503  ,  894.7084  ,  544.4414  ,\n",
       "         354.774   ,  283.2022  ,  262.08463 ,  281.2188  ,  291.75125 ,\n",
       "         162.56717 ,  158.00453 ,  213.28426 ,  256.71136 ,  219.90535 ,\n",
       "         200.0053  ,  166.07088 ,  106.976845,  200.49477 ,  212.89217 ,\n",
       "         322.0286  ,  426.25467 ,  365.86105 ,  364.8044  ,  290.6888  ,\n",
       "         291.63162 ,  325.4949  ,  277.0472  ,  187.271   ,  239.07024 ,\n",
       "         394.6932  ,  100.01137 ,  118.93478 ,  109.27135 ,  106.00035 ,\n",
       "          92.191124,   78.78132 ,  180.21924 ,  162.47112 ,  108.91302 ,\n",
       "         143.59236 ,  186.655   ,  146.42278 ,  229.33168 ,  298.80573 ,\n",
       "         383.50406 ,  472.38895 ,  537.5581  ,  572.797   ,  593.7589  ,\n",
       "         423.9603  ,  312.56326 ,  364.29688 ,  434.4128  ,  483.01166 ,\n",
       "         508.00278 ,  489.3123  ,  478.48856 ,  197.00461 ,  135.42746 ,\n",
       "         200.43318 ,  338.05176 ,  495.9866  ,  316.59695 ,  302.78375 ,\n",
       "         298.20117 ,  338.7514  ,  460.99387 ,  524.24835 ,  704.96124 ,\n",
       "         795.4435  ,  568.65375 ,  426.5057  ,  264.507   ,  184.38965 ,\n",
       "         303.67593 ,  276.49985 ,  392.2973  ,  431.8361  ,  491.56223 ,\n",
       "         409.9414  ,  432.73746 ,  394.1561  ,  197.13281 ,  289.1437  ,\n",
       "         272.46484 ,  171.13156 ,  402.10855 ,  423.08676 ,  701.5317  ,\n",
       "         537.1608  ,  373.118   ,  214.9248  ,  455.22504 ,  322.00586 ,\n",
       "         407.2952  ,  502.86008 ,  581.8097  ,  889.3814  ,  971.57434 ,\n",
       "         750.4036  ,  465.2225  ,  241.56697 ,  203.66504 ,  212.06766 ,\n",
       "         285.5648  ,  363.14865 ,  415.07233 ,  473.98492 ,  971.0781  ,\n",
       "        1578.721   , 2033.5443  , 2086.8555  , 2190.117   , 2404.571   ,\n",
       "        2670.808   , 1369.1998  ,  683.5404  ,  447.04868 ,  479.78336 ,\n",
       "         763.16815 ,  795.10266 ,  961.5918  ,  551.4328  ,  482.19586 ,\n",
       "         445.50287 ,  377.03452 ,  190.50203 ,  267.8521  ,  360.0858  ,\n",
       "         556.5546  ,  388.58615 ,  149.8007  ,  446.85965 ,  365.49002 ,\n",
       "         384.88608 ,  548.9754  ,  475.33237 ,  334.35645 ,  313.72803 ,\n",
       "         147.52086 ,  135.51082 ,  305.69385 ,  519.4512  ,  656.2282  ,\n",
       "         176.67635 ,  187.55908 ,  227.4186  ,  198.90793 ,  242.23793 ,\n",
       "         342.15723 ,  219.40584 ,  216.2816  ,  267.6275  ,  414.29486 ,\n",
       "         457.73758 ,  528.6254  ,  731.08624 ,  592.50635 ,  657.7295  ,\n",
       "         843.4281  ,  902.80194 ,  958.04205 , 1063.547   ,  530.71906 ,\n",
       "         528.16925 ,  444.6938  ,  551.0894  ,  503.58707 ,  564.7496  ,\n",
       "         430.5007  ,  424.6971  ,  563.3698  ,  762.8969  ,  740.9999  ,\n",
       "         363.79047 ,  402.0572  ,  574.1694  ,  454.14926 ,  194.50781 ,\n",
       "         291.84988 ,  201.12486 ,  325.9463  ,  483.83804 ,  617.1603  ,\n",
       "         578.4082  ,  289.875   ,  246.83789 ,  324.9898  ,  264.34473 ,\n",
       "         513.5244  ,  644.6546  ,  706.1825  ,  464.0887  ,  355.83844 ,\n",
       "         336.10074 ,  260.20883 ,  381.86496 ,  251.85672 ,  154.34221 ,\n",
       "         269.23102 ,  187.26465 ,  275.44223 ,  419.2002  ,  363.58316 ,\n",
       "         311.19754 ,  455.68597 ,  267.03754 ,  179.7048  ,  256.33832 ,\n",
       "         111.54366 ,  192.49121 ,  297.0229  ,  207.54213 ,  229.32478 ,\n",
       "         150.10184 ,  198.89955 ,  174.524   ,  408.77594 ,  378.1652  ,\n",
       "         301.00043 ,  350.42355 ,  255.84807 ,  115.172295,   95.93304 ,\n",
       "         164.15709 ,   74.43346 ,  175.92313 ,  175.99023 ,  133.6324  ,\n",
       "         192.61928 ,  118.65025 ,  138.33998 ,   93.10156 ,  234.62305 ,\n",
       "         190.3192  ,  175.4799  ,  190.0586  ,  165.40974 ,  186.96791 ,\n",
       "         160.19783 ,  123.49512 ,  185.45885 ,  229.37068 ,  259.16714 ,\n",
       "         368.66086 ,  598.3366  ,  671.5485  ,  833.9844  ,  968.1822  ,\n",
       "        1151.5018  , 1315.302   , 1344.6315  ,  584.08453 ,  405.92648 ,\n",
       "         266.74344 ,  267.56207 ,  290.92984 ,  376.2585  ,  212.04408 ,\n",
       "         243.49178 ,  256.21875 ,  166.19518 ,  271.88156 ,  178.49875 ,\n",
       "         286.64633 ,  170.54018 ,  298.9234  ,  300.07938 ,  355.59793 ,\n",
       "         266.44266 ,  213.37918 ,  207.78822 ,  192.20256 ,  432.06766 ,\n",
       "         449.3711  ,  274.3213  ,  420.15472 ,  312.0389  ,  267.9481  ,\n",
       "         230.9008  ,  269.41727 ,  255.506   ,  245.6282  ,  317.95355 ,\n",
       "         423.81488 ,  513.52246 ,  836.9386  ,  943.4835  , 1416.8772  ,\n",
       "        1399.96    , 1008.83093 ,  754.03406 ,  244.74373 ,  104.70843 ,\n",
       "         188.00195 ,  345.2461  ,  426.94156 ,  433.96988 ,  424.21832 ,\n",
       "         524.9262  ,  521.69836 ,  278.93973 ,  182.90178 ,  394.2253  ,\n",
       "         447.4131  ,  475.2666  ,  587.09485 ,  436.08594 ,  249.46596 ,\n",
       "         149.66756 ,  294.3016  ,  137.30148 ,  164.71916 ,  180.63393 ,\n",
       "         182.85979 ,  209.45578 ,  247.14607 ,  268.5618  ,  271.46567 ,\n",
       "         135.12668 ,  290.1603  ,  360.97922 ,  450.94058 ,  559.3558  ,\n",
       "         582.10645 ,  609.0463  ,  420.12387 ,  213.03348 ,  110.42787 ,\n",
       "         156.97307 ,  271.14035 ,  468.84808 ,  681.0946  ,  768.8757  ,\n",
       "         998.6402  , 1113.285   , 1098.8754  , 1215.108   ,  530.22864 ,\n",
       "         379.25766 ,  368.80203 ,  388.46484 ,  383.8923  ,  407.7334  ,\n",
       "         243.49623 ,  273.56277 ,  477.46332 ,  658.0972  ,  772.7591  ,\n",
       "         951.6123  , 1139.212   , 1255.0431  , 1419.5037  ,  563.5036  ,\n",
       "         584.2741  ,  701.83856 ,  469.9312  ,  628.14075 ,  899.5114  ,\n",
       "         789.56    ,  906.5117  , 1161.6785  , 1471.8192  , 1634.1484  ,\n",
       "        1669.546   , 1252.5684  ,  973.69727 ,  730.4562  ,  641.9135  ,\n",
       "         710.0304  ,  842.00476 ,  934.02313 ,  916.60266 , 1136.5653  ,\n",
       "         878.58734 , 1201.1923  , 1246.651   , 1131.4475  ,  360.55246 ,\n",
       "         321.69754 ,  271.8044  ,  554.8446  ,  469.37613 ,  557.14984 ,\n",
       "         600.5519  ,  735.50336 ,  512.59125 ,  802.6727  , 1382.4707  ,\n",
       "        2132.51    , 2497.6707  , 3089.1836  , 3620.8145  , 3540.957   ,\n",
       "        2846.8462  , 1514.8783  ,  833.7679  , 1125.7737  , 1370.6432  ,\n",
       "        1577.8917  , 1727.3234  , 2260.8918  , 2902.432   , 3113.4028  ,\n",
       "        2762.172   , 3064.1047  , 3343.89    , 3876.0608  , 4042.4204  ,\n",
       "        4706.1436  , 5751.357   , 5191.4575  , 5070.735   , 5328.7163  ,\n",
       "        3426.9832  , 2653.8337  , 1997.5469  , 2933.6394  , 4258.1606  ,\n",
       "        4156.708   , 1599.625   ,  910.9414  , 1360.3359  , 2597.855   ,\n",
       "        2678.582   , 2476.244   , 3017.4531  , 3112.6047  , 3895.6157  ,\n",
       "        4071.172   , 1374.7057  , 1293.3075  , 1431.1912  , 1098.1908  ,\n",
       "        1657.6914  , 2473.3596  , 3941.0808  , 3187.3582  , 2672.589   ,\n",
       "        3238.3423  , 3693.934   , 4616.8813  , 5485.7993  , 4705.621   ,\n",
       "        5700.2544  , 7122.514   , 6070.159   , 7180.5503  , 4075.826   ,\n",
       "        2644.154   , 3273.7896  , 1958.0787  , 2737.3833  , 2966.5317  ,\n",
       "        3556.9531  , 3824.6658  , 3599.0999  , 2684.8481  , 2708.6707  ,\n",
       "        4650.816   , 5893.4673  , 8757.436   , 8299.372   , 5231.6123  ,\n",
       "        3242.4626  , 1601.7723  , 1490.3075  , 1993.7695  , 3840.5725  ,\n",
       "        2601.197   , 3816.859   , 3545.4983  , 4714.2515  , 5832.5127  ,\n",
       "        6394.814   , 7357.835   , 6398.137   , 4247.53    , 2630.013   ,\n",
       "        1779.0441  , 1724.4531  , 1815.778   , 3031.552   , 2102.234   ,\n",
       "        1890.3873  , 2798.3958  , 4116.932   , 4212.851   , 5277.57    ,\n",
       "        4677.251   , 2805.7896  , 2178.8308  , 2630.6887  , 4553.016   ,\n",
       "        3412.263   , 3252.2852  , 3153.1501  , 2028.9811  ,  957.5167  ,\n",
       "         878.37726 , 1258.8281  , 1286.5938  , 1038.5006  ,  827.9749  ,\n",
       "        1514.0463  , 1859.2389  , 1935.1389  , 2894.766   , 3627.135   ,\n",
       "        2673.2756  , 2444.4402  , 2939.476   , 3020.3035  , 4643.7856  ,\n",
       "        6981.46    , 8268.19    , 8667.851   , 6933.4404  , 6102.6006  ,\n",
       "        5813.101   , 3528.0686  , 1955.2333  , 2657.9548  , 4233.6846  ,\n",
       "        5925.2812  , 4323.3594  , 2860.3315  , 3253.681   , 2694.5647  ,\n",
       "        1021.53906 , 1278.5167  , 1635.3365  , 2021.2014  , 1574.1256  ,\n",
       "        1597.7539  , 2427.5469  , 3723.8164  , 6002.4185  , 7584.704   ,\n",
       "        7968.6763  ], dtype=float32),\n",
       " 'mse': array([4.12976438e+05, 1.74364516e+05, 8.83641875e+04, 1.54539531e+05,\n",
       "        1.59435141e+05, 2.52440656e+05, 2.66795062e+05, 3.57372750e+05,\n",
       "        5.08295938e+05, 5.75737125e+05, 7.00578125e+05, 7.09922312e+05,\n",
       "        9.63206312e+05, 8.24784312e+05, 3.12540188e+05, 1.43217109e+05,\n",
       "        9.09698359e+04, 1.17559805e+05, 1.07922273e+05, 1.02446867e+05,\n",
       "        4.63632500e+04, 3.42274961e+04, 5.93486328e+04, 1.02367383e+05,\n",
       "        6.13835352e+04, 5.09592930e+04, 3.60263125e+04, 1.90994434e+04,\n",
       "        5.84291289e+04, 5.56939375e+04, 1.16312500e+05, 1.96433625e+05,\n",
       "        1.58713656e+05, 1.92585141e+05, 1.90035750e+05, 1.16582102e+05,\n",
       "        1.34466578e+05, 1.45820453e+05, 8.65582578e+04, 9.19969141e+04,\n",
       "        1.72197406e+05, 1.68254023e+04, 1.71924043e+04, 1.88081992e+04,\n",
       "        1.38638135e+04, 1.26954268e+04, 1.35725254e+04, 3.85106523e+04,\n",
       "        2.90256113e+04, 1.63003037e+04, 3.35450898e+04, 4.86696172e+04,\n",
       "        3.26754316e+04, 7.89051953e+04, 1.24896305e+05, 2.53330000e+05,\n",
       "        3.47416688e+05, 4.23690500e+05, 3.64312656e+05, 3.82436781e+05,\n",
       "        2.22588750e+05, 1.59597875e+05, 2.19504969e+05, 3.07770219e+05,\n",
       "        3.49421219e+05, 3.58404094e+05, 2.63474250e+05, 2.59508969e+05,\n",
       "        4.99277695e+04, 2.30170098e+04, 5.29105703e+04, 1.46104609e+05,\n",
       "        2.63144031e+05, 1.40239344e+05, 1.18044500e+05, 1.20202664e+05,\n",
       "        1.27598539e+05, 2.76737969e+05, 3.84369812e+05, 6.11195500e+05,\n",
       "        6.98893062e+05, 3.75197969e+05, 2.04855922e+05, 1.07359086e+05,\n",
       "        5.20046328e+04, 1.06393977e+05, 8.98670000e+04, 1.89158219e+05,\n",
       "        2.53074516e+05, 3.32254500e+05, 2.32213281e+05, 2.48338625e+05,\n",
       "        2.22061219e+05, 6.16701797e+04, 9.39252500e+04, 8.44417656e+04,\n",
       "        8.70769375e+04, 2.03804672e+05, 2.52888156e+05, 5.51597000e+05,\n",
       "        3.20187594e+05, 1.69236609e+05, 6.23102852e+04, 2.38945297e+05,\n",
       "        1.97620672e+05, 3.07815406e+05, 3.86240938e+05, 4.91491531e+05,\n",
       "        9.44828938e+05, 9.83521000e+05, 5.70513875e+05, 2.53765266e+05,\n",
       "        9.42338047e+04, 6.11631758e+04, 5.87061445e+04, 1.32315484e+05,\n",
       "        1.91272000e+05, 2.20557656e+05, 3.29445188e+05, 1.87062612e+06,\n",
       "        3.80173400e+06, 5.55140800e+06, 5.53707200e+06, 6.01662650e+06,\n",
       "        6.71462450e+06, 7.19516900e+06, 2.12519550e+06, 6.30028875e+05,\n",
       "        2.59166391e+05, 2.91205188e+05, 7.19936438e+05, 8.09741438e+05,\n",
       "        1.01115144e+06, 4.48823250e+05, 3.61345062e+05, 2.43284969e+05,\n",
       "        2.28059828e+05, 5.99762891e+04, 1.62213359e+05, 2.08769172e+05,\n",
       "        4.37661562e+05, 2.24048906e+05, 4.79596680e+04, 2.41139531e+05,\n",
       "        1.54550031e+05, 1.73816000e+05, 3.41114531e+05, 2.85630844e+05,\n",
       "        1.50687094e+05, 1.27154055e+05, 3.27086465e+04, 2.87075918e+04,\n",
       "        1.68976797e+05, 3.17581656e+05, 4.83068344e+05, 4.51342422e+04,\n",
       "        4.73180391e+04, 7.12578828e+04, 5.29590273e+04, 8.28085625e+04,\n",
       "        1.34548156e+05, 9.50787734e+04, 5.93935742e+04, 9.11174766e+04,\n",
       "        1.91865859e+05, 3.03308469e+05, 3.52321344e+05, 7.40203438e+05,\n",
       "        6.67332375e+05, 6.96598625e+05, 1.06891088e+06, 1.13291512e+06,\n",
       "        1.09098825e+06, 1.16155888e+06, 3.39377469e+05, 4.40057938e+05,\n",
       "        3.96298594e+05, 4.06387562e+05, 3.32329562e+05, 3.86232719e+05,\n",
       "        2.47340406e+05, 2.45914531e+05, 5.43637750e+05, 7.71782062e+05,\n",
       "        7.45098875e+05, 1.58790859e+05, 1.92690500e+05, 3.96073281e+05,\n",
       "        2.33092000e+05, 5.60894453e+04, 1.05737805e+05, 4.98680664e+04,\n",
       "        1.48590141e+05, 2.82067156e+05, 3.98360062e+05, 3.80101219e+05,\n",
       "        1.05670242e+05, 7.65678516e+04, 1.31376516e+05, 1.00747148e+05,\n",
       "        3.83187656e+05, 5.61868062e+05, 6.30293688e+05, 3.42523750e+05,\n",
       "        1.89550031e+05, 1.95704297e+05, 1.03672992e+05, 1.78351234e+05,\n",
       "        8.98729766e+04, 3.26406602e+04, 1.06196430e+05, 8.13634141e+04,\n",
       "        1.09263391e+05, 2.05985344e+05, 1.66604406e+05, 1.17573180e+05,\n",
       "        2.36364375e+05, 8.00243203e+04, 4.97257734e+04, 8.81250859e+04,\n",
       "        1.64690762e+04, 5.06032812e+04, 1.14306898e+05, 4.92461602e+04,\n",
       "        7.27907578e+04, 3.12481289e+04, 5.04686680e+04, 4.14159023e+04,\n",
       "        1.83552109e+05, 1.44626953e+05, 1.05450625e+05, 1.57326500e+05,\n",
       "        7.67878047e+04, 1.70717129e+04, 1.14440674e+04, 3.63961523e+04,\n",
       "        8.58445605e+03, 3.99195547e+04, 3.74378555e+04, 3.61476680e+04,\n",
       "        5.02096250e+04, 1.94644277e+04, 2.64515098e+04, 1.19250947e+04,\n",
       "        6.61329219e+04, 4.62474727e+04, 4.43668320e+04, 4.58726484e+04,\n",
       "        3.23449102e+04, 4.95153125e+04, 3.78342461e+04, 2.51577168e+04,\n",
       "        3.97760977e+04, 6.01791484e+04, 9.35204297e+04, 1.71479156e+05,\n",
       "        7.42756000e+05, 9.15368000e+05, 1.27442738e+06, 1.37721025e+06,\n",
       "        1.71470138e+06, 2.08997062e+06, 1.87610912e+06, 4.51575781e+05,\n",
       "        2.20950094e+05, 1.04095250e+05, 9.54128047e+04, 9.07102578e+04,\n",
       "        2.20519109e+05, 7.18599531e+04, 8.89750703e+04, 7.88317891e+04,\n",
       "        3.63060234e+04, 1.01353078e+05, 4.68096172e+04, 1.21751234e+05,\n",
       "        5.33372148e+04, 1.48625766e+05, 1.34022469e+05, 2.11192266e+05,\n",
       "        1.09410633e+05, 7.76233750e+04, 6.10475703e+04, 5.56622617e+04,\n",
       "        1.99578859e+05, 2.29114656e+05, 1.24842430e+05, 2.06340672e+05,\n",
       "        1.22555180e+05, 9.64457109e+04, 6.96366094e+04, 1.07307953e+05,\n",
       "        8.72916172e+04, 7.09492422e+04, 1.81314094e+05, 2.82117562e+05,\n",
       "        4.89640219e+05, 9.80731688e+05, 1.15501975e+06, 2.11869475e+06,\n",
       "        2.03216212e+06, 1.06734475e+06, 5.87643688e+05, 8.22950703e+04,\n",
       "        1.62674443e+04, 6.39140195e+04, 1.39858781e+05, 2.43522703e+05,\n",
       "        2.50329859e+05, 2.62843656e+05, 3.23692719e+05, 3.33681188e+05,\n",
       "        1.38948266e+05, 4.11761602e+04, 1.87130391e+05, 2.32038453e+05,\n",
       "        2.57012516e+05, 3.80644188e+05, 2.64266406e+05, 9.30077031e+04,\n",
       "        6.28815000e+04, 1.21684766e+05, 2.51147090e+04, 3.82233711e+04,\n",
       "        5.90097227e+04, 4.24583555e+04, 7.26319453e+04, 7.99537422e+04,\n",
       "        9.65367656e+04, 9.81329453e+04, 3.20641348e+04, 1.41234031e+05,\n",
       "        1.68709781e+05, 2.75188219e+05, 3.73554281e+05, 4.33943719e+05,\n",
       "        4.46420156e+05, 1.93342078e+05, 7.12744219e+04, 1.92402695e+04,\n",
       "        3.06731777e+04, 9.11814922e+04, 4.10169156e+05, 6.98076125e+05,\n",
       "        1.05800025e+06, 1.43446200e+06, 1.54848125e+06, 1.41213225e+06,\n",
       "        1.54081512e+06, 3.88367156e+05, 2.32281016e+05, 2.00158672e+05,\n",
       "        1.90324875e+05, 1.86382984e+05, 2.48473328e+05, 9.37141641e+04,\n",
       "        1.09792500e+05, 5.74272500e+05, 9.57546000e+05, 9.92542188e+05,\n",
       "        1.38998662e+06, 1.56186212e+06, 1.91028938e+06, 2.12201250e+06,\n",
       "        5.13634250e+05, 5.02924656e+05, 7.40543938e+05, 3.44910344e+05,\n",
       "        5.90899625e+05, 1.25193625e+06, 1.22762812e+06, 1.43342800e+06,\n",
       "        1.93201888e+06, 2.72757750e+06, 3.30527400e+06, 3.01292550e+06,\n",
       "        1.85356000e+06, 1.12834600e+06, 6.37106312e+05, 6.33256125e+05,\n",
       "        8.09053938e+05, 9.50818562e+05, 1.40242812e+06, 1.60831962e+06,\n",
       "        1.89031325e+06, 9.59338062e+05, 1.71594712e+06, 1.79147562e+06,\n",
       "        1.29525375e+06, 1.60079234e+05, 1.34900750e+05, 1.32160641e+05,\n",
       "        4.04775531e+05, 3.39345031e+05, 4.91155938e+05, 4.40126656e+05,\n",
       "        8.40430000e+05, 3.64614812e+05, 1.24024162e+06, 3.69367175e+06,\n",
       "        7.31942000e+06, 9.87957500e+06, 1.33161980e+07, 1.58221230e+07,\n",
       "        1.35737600e+07, 8.28041950e+06, 2.55345325e+06, 1.06882925e+06,\n",
       "        1.91227225e+06, 2.63124950e+06, 4.22155200e+06, 4.44325700e+06,\n",
       "        7.19960150e+06, 1.03158700e+07, 1.12701760e+07, 1.15696070e+07,\n",
       "        1.45535090e+07, 1.48919890e+07, 2.00394760e+07, 2.19592640e+07,\n",
       "        3.32564060e+07, 4.61547000e+07, 4.07063040e+07, 3.19651220e+07,\n",
       "        3.42025280e+07, 1.75249340e+07, 8.42502700e+06, 6.35568450e+06,\n",
       "        1.29158670e+07, 2.13066120e+07, 1.98671460e+07, 3.37344525e+06,\n",
       "        9.56591000e+05, 2.62113425e+06, 1.03074090e+07, 1.05630020e+07,\n",
       "        1.07677490e+07, 1.33722500e+07, 1.33970460e+07, 1.59452970e+07,\n",
       "        1.77298280e+07, 2.81471475e+06, 1.94255862e+06, 2.82692050e+06,\n",
       "        1.71134375e+06, 3.29878850e+06, 7.30630050e+06, 1.88420400e+07,\n",
       "        1.43024660e+07, 1.14088340e+07, 1.41744650e+07, 1.59896620e+07,\n",
       "        3.03859300e+07, 4.54405800e+07, 3.64631800e+07, 4.73089400e+07,\n",
       "        6.11088200e+07, 4.11496640e+07, 5.43515960e+07, 1.95166720e+07,\n",
       "        7.54223600e+06, 1.44004870e+07, 6.65098700e+06, 1.15426160e+07,\n",
       "        1.45968220e+07, 1.75557940e+07, 1.95374340e+07, 1.66867290e+07,\n",
       "        1.00030560e+07, 9.78600900e+06, 3.03207640e+07, 4.70572400e+07,\n",
       "        8.20231760e+07, 7.20560560e+07, 2.89540020e+07, 1.40927030e+07,\n",
       "        4.28062500e+06, 3.27682575e+06, 4.88434150e+06, 1.66697510e+07,\n",
       "        9.13305600e+06, 1.93182260e+07, 2.08522880e+07, 3.68224680e+07,\n",
       "        4.70488400e+07, 5.89777000e+07, 6.51983800e+07, 4.81975000e+07,\n",
       "        2.19034120e+07, 9.17597600e+06, 4.08911775e+06, 3.82125950e+06,\n",
       "        4.44905950e+06, 9.95674100e+06, 6.70933150e+06, 7.42745550e+06,\n",
       "        1.44305690e+07, 2.51415360e+07, 2.49072200e+07, 3.03805800e+07,\n",
       "        2.37228440e+07, 1.10980560e+07, 6.16600400e+06, 9.78048300e+06,\n",
       "        2.37578180e+07, 1.55310170e+07, 1.27966650e+07, 1.09712420e+07,\n",
       "        5.52644800e+06, 1.37659188e+06, 1.19466988e+06, 2.14135675e+06,\n",
       "        2.56230650e+06, 1.63298475e+06, 1.34989625e+06, 3.43694075e+06,\n",
       "        5.37562500e+06, 6.11891750e+06, 1.19987600e+07, 1.72951400e+07,\n",
       "        9.04273600e+06, 7.62676150e+06, 9.42966600e+06, 1.42034980e+07,\n",
       "        2.88317940e+07, 5.59441320e+07, 7.61794400e+07, 8.08371040e+07,\n",
       "        5.55597960e+07, 4.46714160e+07, 3.75348080e+07, 1.68078060e+07,\n",
       "        6.82355150e+06, 9.77806700e+06, 1.99780520e+07, 3.90375120e+07,\n",
       "        2.36269920e+07, 1.17550240e+07, 1.25772450e+07, 9.14234900e+06,\n",
       "        1.39242288e+06, 3.54398975e+06, 3.53755775e+06, 7.02959050e+06,\n",
       "        3.52678400e+06, 4.63394750e+06, 1.31286050e+07, 2.40231220e+07,\n",
       "        5.23521680e+07, 7.10032400e+07, 8.07524960e+07], dtype=float32),\n",
       " 'rmse': array([ 642.63245 ,  417.56976 ,  297.26114 ,  393.11517 ,  399.2933  ,\n",
       "         502.43472 ,  516.5221  ,  597.80664 ,  712.9488  ,  758.77344 ,\n",
       "         837.00543 ,  842.56885 ,  981.4307  ,  908.1764  ,  559.0529  ,\n",
       "         378.44037 ,  301.61206 ,  342.86996 ,  328.51526 ,  320.0732  ,\n",
       "         215.32127 ,  185.00674 ,  243.61575 ,  319.94904 ,  247.757   ,\n",
       "         225.74165 ,  189.80598 ,  138.20073 ,  241.72118 ,  235.99564 ,\n",
       "         341.04617 ,  443.20834 ,  398.38882 ,  438.84525 ,  435.9309  ,\n",
       "         341.44122 ,  366.69684 ,  381.86444 ,  294.20786 ,  303.30994 ,\n",
       "         414.96677 ,  129.71277 ,  131.11981 ,  137.14299 ,  117.7447  ,\n",
       "         112.67398 ,  116.50118 ,  196.24132 ,  170.36905 ,  127.672646,\n",
       "         183.15318 ,  220.61191 ,  180.76347 ,  280.9007  ,  353.4067  ,\n",
       "         503.31897 ,  589.42065 ,  650.9151  ,  603.5832  ,  618.41473 ,\n",
       "         471.79312 ,  399.49704 ,  468.51358 ,  554.77045 ,  591.1186  ,\n",
       "         598.6686  ,  513.2974  ,  509.42023 ,  223.44522 ,  151.71358 ,\n",
       "         230.02298 ,  382.23633 ,  512.97565 ,  374.48544 ,  343.57605 ,\n",
       "         346.70255 ,  357.20938 ,  526.0589  ,  619.97565 ,  781.7899  ,\n",
       "         835.9982  ,  612.53406 ,  452.6101  ,  327.65695 ,  228.04524 ,\n",
       "         326.1809  ,  299.77826 ,  434.92325 ,  503.06512 ,  576.4152  ,\n",
       "         481.88513 ,  498.33585 ,  471.23373 ,  248.33481 ,  306.47226 ,\n",
       "         290.58865 ,  295.088   ,  451.4473  ,  502.87985 ,  742.69574 ,\n",
       "         565.8512  ,  411.3838  ,  249.62029 ,  488.8203  ,  444.54547 ,\n",
       "         554.81116 ,  621.48285 ,  701.0646  ,  972.02313 ,  991.72626 ,\n",
       "         755.32367 ,  503.7512  ,  306.97525 ,  247.3119  ,  242.2935  ,\n",
       "         363.75195 ,  437.34656 ,  469.63565 ,  573.97314 , 1367.7084  ,\n",
       "        1949.8036  , 2356.1426  , 2353.0984  , 2452.8813  , 2591.2593  ,\n",
       "        2682.381   , 1457.805   ,  793.7436  ,  509.08386 ,  539.63434 ,\n",
       "         848.49066 ,  899.8563  , 1005.56024 ,  669.94275 ,  601.1198  ,\n",
       "         493.23926 ,  477.5561  ,  244.90057 ,  402.7572  ,  456.91266 ,\n",
       "         661.55994 ,  473.33804 ,  218.99696 ,  491.0596  ,  393.1285  ,\n",
       "         416.91248 ,  584.0501  ,  534.4444  ,  388.18436 ,  356.58667 ,\n",
       "         180.85532 ,  169.43315 ,  411.06787 ,  563.5438  ,  695.0312  ,\n",
       "         212.44821 ,  217.5271  ,  266.9417  ,  230.12828 ,  287.76477 ,\n",
       "         366.80807 ,  308.34845 ,  243.70796 ,  301.85672 ,  438.02496 ,\n",
       "         550.7345  ,  593.56665 ,  860.35077 ,  816.9041  ,  834.6248  ,\n",
       "        1033.8815  , 1064.3849  , 1044.5038  , 1077.7563  ,  582.56116 ,\n",
       "         663.36865 ,  629.5225  ,  637.48535 ,  576.48035 ,  621.47626 ,\n",
       "         497.33328 ,  495.8977  ,  737.31793 ,  878.5113  ,  863.1911  ,\n",
       "         398.48572 ,  438.96527 ,  629.3435  ,  482.79602 ,  236.8321  ,\n",
       "         325.1735  ,  223.31158 ,  385.4739  ,  531.1     ,  631.1577  ,\n",
       "         616.5235  ,  325.0696  ,  276.70895 ,  362.45898 ,  317.40692 ,\n",
       "         619.02155 ,  749.5786  ,  793.9104  ,  585.2553  ,  435.37344 ,\n",
       "         442.3848  ,  321.9829  ,  422.3165  ,  299.7882  ,  180.66727 ,\n",
       "         325.87793 ,  285.24274 ,  330.55014 ,  453.85608 ,  408.17203 ,\n",
       "         342.88947 ,  486.1732  ,  282.8857  ,  222.99277 ,  296.8587  ,\n",
       "         128.3319  ,  224.95174 ,  338.09302 ,  221.91476 ,  269.79764 ,\n",
       "         176.77141 ,  224.65233 ,  203.50897 ,  428.4298  ,  380.2985  ,\n",
       "         324.73163 ,  396.64404 ,  277.10614 ,  130.65877 ,  106.97695 ,\n",
       "         190.77776 ,   92.652336,  199.79878 ,  193.48865 ,  190.1254  ,\n",
       "         224.07504 ,  139.51497 ,  162.6392  ,  109.20208 ,  257.1632  ,\n",
       "         215.05226 ,  210.63435 ,  214.17902 ,  179.84691 ,  222.52037 ,\n",
       "         194.51027 ,  158.61185 ,  199.43945 ,  245.31439 ,  305.8111  ,\n",
       "         414.1004  ,  861.83295 ,  956.74866 , 1128.9054  , 1173.546   ,\n",
       "        1309.4661  , 1445.6731  , 1369.7113  ,  671.9939  ,  470.05328 ,\n",
       "         322.63797 ,  308.88962 ,  301.18143 ,  469.59464 ,  268.06708 ,\n",
       "         298.2869  ,  280.77    ,  190.5414  ,  318.36    ,  216.3553  ,\n",
       "         348.92868 ,  230.94852 ,  385.5201  ,  366.0908  ,  459.5566  ,\n",
       "         330.77277 ,  278.6097  ,  247.07806 ,  235.92851 ,  446.7425  ,\n",
       "         478.65924 ,  353.33047 ,  454.24738 ,  350.07883 ,  310.5571  ,\n",
       "         263.88748 ,  327.57892 ,  295.45154 ,  266.36298 ,  425.80994 ,\n",
       "         531.1474  ,  699.743   ,  990.319   , 1074.7185  , 1455.5737  ,\n",
       "        1425.5392  , 1033.1238  ,  766.5792  ,  286.8712  ,  127.54389 ,\n",
       "         252.81223 ,  373.977   ,  493.4802  ,  500.32974 ,  512.6828  ,\n",
       "         568.94    ,  577.6514  ,  372.75766 ,  202.9191  ,  432.5857  ,\n",
       "         481.7037  ,  506.96402 ,  616.9637  ,  514.0685  ,  304.97165 ,\n",
       "         250.76184 ,  348.83344 ,  158.47621 ,  195.50798 ,  242.91917 ,\n",
       "         206.05426 ,  269.50314 ,  282.76093 ,  310.70367 ,  313.26178 ,\n",
       "         179.0646  ,  375.81116 ,  410.74295 ,  524.58386 ,  611.19086 ,\n",
       "         658.744   ,  668.1468  ,  439.70682 ,  266.9727  ,  138.7093  ,\n",
       "         175.1376  ,  301.96274 ,  640.4445  ,  835.5095  , 1028.5914  ,\n",
       "        1197.6903  , 1244.3799  , 1188.3317  , 1241.2958  ,  623.1911  ,\n",
       "         481.9554  ,  447.39096 ,  436.2624  ,  431.72095 ,  498.47098 ,\n",
       "         306.1277  ,  331.34952 ,  757.8077  ,  978.5428  ,  996.2641  ,\n",
       "        1178.9769  , 1249.7449  , 1382.1322  , 1456.7129  ,  716.6828  ,\n",
       "         709.1718  ,  860.54865 ,  587.2907  ,  768.69995 , 1118.8995  ,\n",
       "        1107.9838  , 1197.2585  , 1389.9708  , 1651.538   , 1818.0413  ,\n",
       "        1735.7781  , 1361.4551  , 1062.2363  ,  798.1894  ,  795.7739  ,\n",
       "         899.47424 ,  975.09924 , 1184.2416  , 1268.1954  , 1374.8866  ,\n",
       "         979.45807 , 1309.9417  , 1338.4602  , 1138.0922  ,  400.09903 ,\n",
       "         367.28836 ,  363.53906 ,  636.2197  ,  582.53326 ,  700.8252  ,\n",
       "         663.4204  ,  916.7497  ,  603.83344 , 1113.6614  , 1921.8927  ,\n",
       "        2705.4426  , 3143.1792  , 3649.1367  , 3977.7031  , 3684.2583  ,\n",
       "        2877.5718  , 1597.9529  , 1033.842   , 1382.8494  , 1622.1127  ,\n",
       "        2054.6416  , 2107.9036  , 2683.2073  , 3211.8328  , 3357.1084  ,\n",
       "        3401.4126  , 3814.9062  , 3859.014   , 4476.5474  , 4686.0713  ,\n",
       "        5766.837   , 6793.725   , 6380.1494  , 5653.7705  , 5848.293   ,\n",
       "        4186.2793  , 2902.5896  , 2521.0483  , 3593.8652  , 4615.9087  ,\n",
       "        4457.258   , 1836.6941  ,  978.0547  , 1618.9917  , 3210.5154  ,\n",
       "        3250.0771  , 3281.4248  , 3656.8088  , 3660.1975  , 3993.1562  ,\n",
       "        4210.68    , 1677.7112  , 1393.757   , 1681.3448  , 1308.1833  ,\n",
       "        1816.2567  , 2703.0168  , 4340.7417  , 3781.86    , 3377.6965  ,\n",
       "        3764.8992  , 3998.7075  , 5512.3433  , 6740.963   , 6038.475   ,\n",
       "        6878.1494  , 7817.213   , 6414.8003  , 7372.3535  , 4417.7676  ,\n",
       "        2746.3132  , 3794.7974  , 2578.9507  , 3397.4426  , 3820.5789  ,\n",
       "        4189.9634  , 4420.117   , 4084.9392  , 3162.7607  , 3128.2598  ,\n",
       "        5506.429   , 6859.828   , 9056.665   , 8488.584   , 5380.892   ,\n",
       "        3754.025   , 2068.967   , 1810.2004  , 2210.0547  , 4082.8606  ,\n",
       "        3022.0947  , 4395.2505  , 4566.4307  , 6068.152   , 6859.216   ,\n",
       "        7679.694   , 8074.5513  , 6942.442   , 4680.108   , 3029.1873  ,\n",
       "        2022.1567  , 1954.8042  , 2109.2793  , 3155.4304  , 2590.2378  ,\n",
       "        2725.336   , 3798.7588  , 5014.134   , 4990.7134  , 5511.858   ,\n",
       "        4870.6104  , 3331.3745  , 2483.144   , 3127.3765  , 4874.199   ,\n",
       "        3940.9412  , 3577.2427  , 3312.2866  , 2350.8398  , 1173.2825  ,\n",
       "        1093.0095  , 1463.3375  , 1600.7206  , 1277.8829  , 1161.8503  ,\n",
       "        1853.8988  , 2318.5393  , 2473.6445  , 3463.9226  , 4158.7427  ,\n",
       "        3007.1143  , 2761.6592  , 3070.7761  , 3768.753   , 5369.5244  ,\n",
       "        7479.581   , 8728.083   , 8990.945   , 7453.844   , 6683.668   ,\n",
       "        6126.566   , 4099.7324  , 2612.1929  , 3126.99    , 4469.6816  ,\n",
       "        6248.0005  , 4860.7603  , 3428.56    , 3546.4412  , 3023.6318  ,\n",
       "        1180.0096  , 1882.5487  , 1880.8396  , 2651.3374  , 1877.9734  ,\n",
       "        2152.6606  , 3623.3418  , 4901.339   , 7235.48    , 8426.342   ,\n",
       "        8986.239   ], dtype=float32),\n",
       " 'mape': array([ 7.1269555 ,  4.101362  ,  3.0138443 ,  4.4204984 ,  4.1770797 ,\n",
       "         4.8896294 ,  5.825534  ,  6.8598943 ,  8.21169   ,  8.69715   ,\n",
       "         9.938686  ,  9.721329  , 12.859008  , 12.309345  ,  7.5074806 ,\n",
       "         4.873563  ,  3.885432  ,  3.469138  ,  3.7460692 ,  3.8925376 ,\n",
       "         2.1609566 ,  2.1186135 ,  2.892391  ,  3.502802  ,  2.988436  ,\n",
       "         2.715347  ,  2.2512417 ,  1.4570036 ,  2.7590134 ,  2.9268274 ,\n",
       "         4.460714  ,  5.93198   ,  5.1587777 ,  5.292636  ,  4.268772  ,\n",
       "         4.2193727 ,  4.6909223 ,  4.045973  ,  2.753711  ,  3.4079947 ,\n",
       "         5.4380927 ,  1.3875824 ,  1.6500208 ,  1.511828  ,  1.4660293 ,\n",
       "         1.2745866 ,  1.0854629 ,  2.4906998 ,  2.246446  ,  1.5229714 ,\n",
       "         2.003894  ,  2.6105204 ,  2.051875  ,  3.1738634 ,  3.9876695 ,\n",
       "         4.92645   ,  5.994682  ,  6.749488  ,  7.199167  ,  7.3955665 ,\n",
       "         5.2375703 ,  3.7606378 ,  4.308852  ,  5.0358825 ,  5.523388  ,\n",
       "         5.759899  ,  5.5779185 ,  5.428606  ,  2.2337368 ,  1.545239  ,\n",
       "         2.3259168 ,  3.9496448 ,  5.8253317 ,  3.7382264 ,  3.5630085 ,\n",
       "         3.4967299 ,  3.8866763 ,  5.074999  ,  5.678642  ,  7.56988   ,\n",
       "         8.510782  ,  6.065336  ,  4.5492215 ,  2.794553  ,  1.9392166 ,\n",
       "         3.1946816 ,  2.89561   ,  4.045684  ,  4.3943653 ,  4.911027  ,\n",
       "         4.047693  ,  4.2482615 ,  3.8372464 ,  1.9197756 ,  2.853437  ,\n",
       "         2.69582   ,  1.7480172 ,  4.0737963 ,  4.3444033 ,  7.1979413 ,\n",
       "         5.525348  ,  3.847326  ,  2.2071946 ,  4.7326    ,  3.493209  ,\n",
       "         4.5141654 ,  5.6103745 ,  6.592568  , 10.137463  , 11.052123  ,\n",
       "         8.574219  ,  5.341833  ,  2.780205  ,  2.3173492 ,  2.379844  ,\n",
       "         3.2303512 ,  4.3081617 ,  4.9898973 ,  5.8502145 , 14.259471  ,\n",
       "        24.396732  , 33.352875  , 35.841328  , 39.9433    , 44.559307  ,\n",
       "        49.64023   , 25.65529   , 12.916015  ,  8.068232  ,  8.162838  ,\n",
       "        12.474341  , 12.53567   , 15.003809  ,  8.40104   ,  7.2949114 ,\n",
       "         6.8236446 ,  5.6439238 ,  3.0273616 ,  4.327338  ,  5.770977  ,\n",
       "         8.852549  ,  6.2016554 ,  2.3701365 ,  6.6561117 ,  5.3139424 ,\n",
       "         5.547155  ,  7.791927  ,  6.631087  ,  4.6399097 ,  4.392857  ,\n",
       "         2.0575056 ,  1.9148743 ,  4.4131494 ,  7.5337343 ,  9.51777   ,\n",
       "         2.5672827 ,  2.700584  ,  3.2835655 ,  2.8379948 ,  3.4292367 ,\n",
       "         4.8049355 ,  2.9976032 ,  2.9768023 ,  3.6971483 ,  5.7143693 ,\n",
       "         6.0389857 ,  6.913937  ,  9.126706  ,  7.0372715 ,  7.677921  ,\n",
       "         9.647783  , 10.202969  , 10.805171  , 11.969694  ,  5.8773613 ,\n",
       "         5.6458364 ,  4.5896907 ,  5.7482343 ,  5.2935405 ,  5.9946027 ,\n",
       "         4.593666  ,  4.662709  ,  6.364149  ,  8.530397  ,  8.312618  ,\n",
       "         3.9649706 ,  4.219475  ,  5.9602957 ,  4.708158  ,  2.059788  ,\n",
       "         3.046652  ,  2.12279   ,  3.540186  ,  5.2909665 ,  6.788183  ,\n",
       "         6.3931694 ,  3.175425  ,  2.717925  ,  3.5606499 ,  2.8920314 ,\n",
       "         5.299962  ,  6.6263013 ,  7.234405  ,  4.6958575 ,  3.6103282 ,\n",
       "         3.395066  ,  2.628849  ,  3.9486468 ,  2.5905797 ,  1.5839564 ,\n",
       "         2.8082154 ,  1.977149  ,  2.8991814 ,  4.4241157 ,  3.8562324 ,\n",
       "         3.2996259 ,  4.84401   ,  2.8302715 ,  1.9186947 ,  2.7370977 ,\n",
       "         1.1895695 ,  2.038854  ,  3.1638389 ,  2.2011962 ,  2.4501753 ,\n",
       "         1.5935087 ,  2.1348681 ,  1.8802538 ,  4.44347   ,  4.123492  ,\n",
       "         3.293157  ,  3.841118  ,  2.8107991 ,  1.2621169 ,  1.0486691 ,\n",
       "         1.7996514 ,  0.8136891 ,  1.9089851 ,  1.9131061 ,  1.4408618 ,\n",
       "         2.0808067 ,  1.2765014 ,  1.48654   ,  1.0054767 ,  2.5399878 ,\n",
       "         2.0640028 ,  1.9082931 ,  2.0605633 ,  1.7976403 ,  2.0363255 ,\n",
       "         1.7432483 ,  1.3342738 ,  1.9828525 ,  2.4388032 ,  2.7203207 ,\n",
       "         3.8210027 ,  5.7708273 ,  6.284381  ,  7.6137505 ,  8.809326  ,\n",
       "        10.354824  , 11.621896  , 11.903028  ,  5.1280746 ,  3.5613542 ,\n",
       "         2.32593   ,  2.3150058 ,  2.5337014 ,  3.3251579 ,  1.8559678 ,\n",
       "         2.0934844 ,  2.1938322 ,  1.43068   ,  2.3508575 ,  1.5432888 ,\n",
       "         2.4752398 ,  1.4729494 ,  2.5198665 ,  2.4950483 ,  2.9415045 ,\n",
       "         2.2097263 ,  1.7627083 ,  1.7345939 ,  1.6327673 ,  3.673188  ,\n",
       "         3.861377  ,  2.3773952 ,  3.64655   ,  2.7223701 ,  2.3310103 ,\n",
       "         2.0168245 ,  2.3587737 ,  2.2140374 ,  2.1196344 ,  2.783828  ,\n",
       "         3.8110728 ,  4.861957  ,  7.978572  ,  9.061856  , 13.66929   ,\n",
       "        13.6212435 ,  9.848295  ,  7.377524  ,  2.3912957 ,  1.0228981 ,\n",
       "         1.8270221 ,  3.275658  ,  3.9908867 ,  4.0190277 ,  3.894106  ,\n",
       "         4.8218446 ,  4.769283  ,  2.5408554 ,  1.6830136 ,  3.7120116 ,\n",
       "         4.222988  ,  4.493707  ,  5.556184  ,  4.1534348 ,  2.368188  ,\n",
       "         1.4300978 ,  2.7312768 ,  1.2792504 ,  1.5428917 ,  1.6976128 ,\n",
       "         1.7117372 ,  1.9650432 ,  2.3257928 ,  2.533536  ,  2.553749  ,\n",
       "         1.2549992 ,  2.6281123 ,  3.256221  ,  4.009355  ,  4.940602  ,\n",
       "         5.096569  ,  5.31235   ,  3.667007  ,  1.8521335 ,  0.96646917,\n",
       "         1.3653412 ,  2.3562076 ,  3.8382113 ,  5.4796915 ,  5.986849  ,\n",
       "         7.7340446 ,  8.580904  ,  8.419583  ,  9.215151  ,  3.9896007 ,\n",
       "         2.8312426 ,  2.7373552 ,  2.882388  ,  2.8220062 ,  2.9739273 ,\n",
       "         1.800842  ,  1.9757447 ,  3.2460423 ,  4.3591557 ,  5.150656  ,\n",
       "         6.25635   ,  7.4951105 ,  8.173062  ,  9.18873   ,  3.567799  ,\n",
       "         3.7156165 ,  4.3738365 ,  2.9316242 ,  3.8566716 ,  5.3634906 ,\n",
       "         4.555104  ,  5.1588993 ,  6.522461  ,  8.164029  ,  8.934629  ,\n",
       "         9.101912  ,  6.7393646 ,  5.2105536 ,  3.9203026 ,  3.6169925 ,\n",
       "         4.0455947 ,  4.7701006 ,  5.3133206 ,  5.263018  ,  6.4391127 ,\n",
       "         4.6954474 ,  6.3110156 ,  6.510209  ,  5.909177  ,  1.8833885 ,\n",
       "         1.6798993 ,  1.4332582 ,  2.9659643 ,  2.538066  ,  3.0172727 ,\n",
       "         3.2317872 ,  3.985288  ,  2.7499127 ,  4.0307817 ,  6.5481877 ,\n",
       "         9.802145  , 11.0440855 , 13.4438305 , 15.679778  , 15.234719  ,\n",
       "        12.197117  ,  6.448362  ,  3.488299  ,  4.575363  ,  5.4644575 ,\n",
       "         6.061568  ,  6.573518  ,  8.334911  , 10.518133  , 11.075458  ,\n",
       "         9.294728  ,  9.899885  , 10.73292   , 12.02535   , 12.063141  ,\n",
       "        13.165172  , 15.462647  , 13.368291  , 13.112775  , 13.748564  ,\n",
       "         8.695788  ,  6.8654456 ,  5.4826403 ,  8.227008  , 11.90364   ,\n",
       "        11.668415  ,  4.445741  ,  2.4659173 ,  3.7395556 ,  7.704188  ,\n",
       "         8.029163  ,  7.65066   ,  9.353863  ,  9.717508  , 12.055705  ,\n",
       "        12.837299  ,  4.2946253 ,  3.967062  ,  4.306907  ,  3.3389914 ,\n",
       "         4.974169  ,  7.3127723 , 11.198737  ,  8.834396  ,  7.2338796 ,\n",
       "         8.623888  ,  9.745372  , 11.456966  , 12.905131  , 10.644069  ,\n",
       "        12.578694  , 15.567878  , 13.123258  , 15.223525  ,  8.53233   ,\n",
       "         5.510756  ,  6.628022  ,  3.8637679 ,  5.255418  ,  5.5334625 ,\n",
       "         6.5535827 ,  6.974783  ,  6.5910473 ,  5.011309  ,  5.3345103 ,\n",
       "         9.5635    , 12.388415  , 18.511223  , 17.620377  , 11.121455  ,\n",
       "         6.9466166 ,  3.4619966 ,  3.0480149 ,  4.1021357 ,  7.7488527 ,\n",
       "         5.1722555 ,  7.423275  ,  6.6327133 ,  8.527185  , 10.458585  ,\n",
       "        11.078353  , 12.643428  , 10.956014  ,  7.2481766 ,  4.472122  ,\n",
       "         3.015277  ,  2.9390817 ,  3.1545184 ,  5.268595  ,  3.6955454 ,\n",
       "         3.4108977 ,  5.124285  ,  7.64755   ,  7.8584566 ,  9.750787  ,\n",
       "         8.670478  ,  5.22048   ,  3.9872885 ,  4.604558  ,  7.8936896 ,\n",
       "         5.831802  ,  5.560329  ,  5.390488  ,  3.4648452 ,  1.6365422 ,\n",
       "         1.5072185 ,  2.1798995 ,  2.2271638 ,  1.7965469 ,  1.4309635 ,\n",
       "         2.619234  ,  3.1059957 ,  3.147308  ,  4.660655  ,  5.8165865 ,\n",
       "         4.2954345 ,  3.9873514 ,  4.8862224 ,  5.2384386 ,  8.196482  ,\n",
       "        12.564789  , 15.273169  , 16.321983  , 13.459079  , 11.932247  ,\n",
       "        11.323849  ,  6.9419646 ,  3.8458388 ,  4.9478726 ,  7.6897607 ,\n",
       "        10.602597  ,  7.6293283 ,  5.0407343 ,  5.732918  ,  4.733478  ,\n",
       "         1.822269  ,  2.2916296 ,  2.900814  ,  3.6288898 ,  2.7382116 ,\n",
       "         2.912117  ,  4.661381  ,  7.2391763 , 11.911867  , 15.432966  ,\n",
       "        16.942766  ], dtype=float32),\n",
       " 'mase': 2.2870257}"
      ]
     },
     "execution_count": 66,
     "metadata": {},
     "output_type": "execute_result"
    }
   ],
   "source": [
    "# Calculate model_3 results - these are going to be multi-dimensional because\n",
    "# we're trying to predict more than one step at a time.\n",
    "model_3_results = evaluate_preds(y_true=tf.squeeze(test_labels),\n",
    "                                 y_pred=model_3_preds)\n",
    "model_3_results"
   ]
  },
  {
   "cell_type": "code",
   "execution_count": 67,
   "metadata": {
    "colab": {
     "base_uri": "https://localhost:8080/"
    },
    "id": "1I0HYSIvvAFo",
    "outputId": "f7b760cc-bfa5-4c8a-bebe-06591d6488cb"
   },
   "outputs": [
    {
     "name": "stdout",
     "output_type": "stream",
     "text": [
      "Model: \"model_3_dense\"\n",
      "_________________________________________________________________\n",
      " Layer (type)                Output Shape              Param #   \n",
      "=================================================================\n",
      " dense_4 (Dense)             (None, 128)               3968      \n",
      "                                                                 \n",
      " dense_5 (Dense)             (None, 7)                 903       \n",
      "                                                                 \n",
      "=================================================================\n",
      "Total params: 4,871\n",
      "Trainable params: 4,871\n",
      "Non-trainable params: 0\n",
      "_________________________________________________________________\n"
     ]
    }
   ],
   "source": [
    "model_3.summary()"
   ]
  },
  {
   "cell_type": "markdown",
   "metadata": {
    "id": "t405o940Twum"
   },
   "source": [
    "## Make our evaluation function work for larger horizons\n",
    "\n"
   ]
  },
  {
   "cell_type": "code",
   "execution_count": 68,
   "metadata": {
    "id": "ERkl26UFgSbz"
   },
   "outputs": [],
   "source": [
    "def evaluate_preds(y_true, y_pred):\n",
    "  # Make sure float32 (for metric calculations)\n",
    "  y_true = tf.cast(y_true, dtype=tf.float32)\n",
    "  y_pred = tf.cast(y_pred, dtype=tf.float32)\n",
    "\n",
    "  # Calculate various metrics\n",
    "  mae = tf.keras.metrics.mean_absolute_error(y_true, y_pred)\n",
    "  mse = tf.keras.metrics.mean_squared_error(y_true, y_pred)\n",
    "  rmse = tf.sqrt(mse)\n",
    "  mape = tf.keras.metrics.mean_absolute_percentage_error(y_true, y_pred)\n",
    "  mase = mean_absolute_scaled_error(y_true, y_pred)\n",
    "\n",
    "  # Account for different sized metrics (for longer horizons, reduce to single number)\n",
    "  if mae.ndim > 0: # if mae isn't already a scalar, reduce it to one by aggregating tensors to mean\n",
    "    mae = tf.reduce_mean(mae)\n",
    "    mse = tf.reduce_mean(mse)\n",
    "    rmse = tf.reduce_mean(rmse)\n",
    "    mape = tf.reduce_mean(mape)\n",
    "    mase = tf.reduce_mean(mase)\n",
    "\n",
    "  return {\"mae\": mae.numpy(),\n",
    "          \"mse\": mse.numpy(),\n",
    "          \"rmse\": rmse.numpy(),\n",
    "          \"mape\": mape.numpy(),\n",
    "          \"mase\": mase.numpy()}"
   ]
  },
  {
   "cell_type": "markdown",
   "metadata": {
    "id": "_RnoZl28Udx4"
   },
   "source": [
    "Now we've updated `evaluate_preds()` to work with multiple shapes, how does it look?"
   ]
  },
  {
   "cell_type": "code",
   "execution_count": 69,
   "metadata": {
    "colab": {
     "base_uri": "https://localhost:8080/"
    },
    "id": "Kt1Z8yjpUij2",
    "outputId": "69d247dc-7362-44c3-80ed-4ae38904812b"
   },
   "outputs": [
    {
     "data": {
      "text/plain": [
       "{'mae': 1285.2476,\n",
       " 'mse': 5613983.5,\n",
       " 'rmse': 1477.187,\n",
       " 'mape': 5.7566066,\n",
       " 'mase': 2.2870257}"
      ]
     },
     "execution_count": 69,
     "metadata": {},
     "output_type": "execute_result"
    }
   ],
   "source": [
    "# Get model_3 results aggregated to single values\n",
    "model_3_results = evaluate_preds(y_true=tf.squeeze(test_labels),\n",
    "                                 y_pred=model_3_preds)\n",
    "model_3_results"
   ]
  },
  {
   "cell_type": "markdown",
   "metadata": {
    "id": "0XNIJfcsTpdA"
   },
   "source": [
    "Time to visualize.\n",
    "\n",
    "If our prediction evaluation metrics were mutli-dimensional, how do you think the predictions will look like if we plot them?"
   ]
  },
  {
   "cell_type": "code",
   "execution_count": 70,
   "metadata": {
    "colab": {
     "base_uri": "https://localhost:8080/",
     "height": 0
    },
    "id": "gBdg1NcLs3gW",
    "outputId": "84ebc52c-29f1-49c0-8266-6d6a98dd20db"
   },
   "outputs": [
    {
     "data": {
      "image/png": "[encoded data removed]",
      "text/plain": [
       "<Figure size 720x504 with 1 Axes>"
      ]
     },
     "metadata": {
      "needs_background": "light"
     },
     "output_type": "display_data"
    }
   ],
   "source": [
    "offset = 300\n",
    "plt.figure(figsize=(10, 7))\n",
    "plot_time_series(timesteps=X_test[-len(test_windows):], values=test_labels[:, 0], start=offset, label=\"Test_data\")\n",
    "# Checking the shape of model_3_preds results in [n_test_samples, HORIZON] (this will screw up the plot)\n",
    "plot_time_series(timesteps=X_test[-len(test_windows):], values=model_3_preds, start=offset, label=\"model_3_preds\")"
   ]
  },
  {
   "cell_type": "markdown",
   "metadata": {
    "id": "j3nZnSG1Uute"
   },
   "source": [
    "When we try to plot our multi-horizon predicts, we get a funky looking plot.\n",
    "\n",
    "Again, we can fix this by aggregating our model's predictions.\n",
    "\n",
    "> 🔑 **Note:** Aggregating the predictions (e.g. reducing a 7-day horizon to one value such as the mean) loses information from the original prediction. As in, the model predictions were trained to be made for 7-days but by reducing them to one, we gain the ability to plot them visually but we lose the extra information contained across multiple days."
   ]
  },
  {
   "cell_type": "code",
   "execution_count": 71,
   "metadata": {
    "colab": {
     "base_uri": "https://localhost:8080/",
     "height": 0
    },
    "id": "wYpZb27bU6OO",
    "outputId": "b11fd44d-7acf-4b4c-f365-1d2d578730b7"
   },
   "outputs": [
    {
     "data": {
      "image/png": "[encoded data removed]",
      "text/plain": [
       "<Figure size 720x504 with 1 Axes>"
      ]
     },
     "metadata": {
      "needs_background": "light"
     },
     "output_type": "display_data"
    }
   ],
   "source": [
    "offset = 300\n",
    "plt.figure(figsize=(10, 7))\n",
    "# Plot model_3_preds by aggregating them (note: this condenses information so the preds will look fruther ahead than the test data)\n",
    "plot_time_series(timesteps=X_test[-len(test_windows):], \n",
    "                 values=test_labels[:, 0], \n",
    "                 start=offset, \n",
    "                 label=\"Test_data\")\n",
    "plot_time_series(timesteps=X_test[-len(test_windows):], \n",
    "                 values=tf.reduce_mean(model_3_preds, axis=1), \n",
    "                 format=\"-\",\n",
    "                 start=offset, \n",
    "                 label=\"model_3_preds\")"
   ]
  },
  {
   "cell_type": "markdown",
   "metadata": {
    "id": "Ojqon-Y5VpCC"
   },
   "source": [
    "## Which of our models is performing best so far?\n",
    "\n",
    "So far, we've trained 3 models which use the same architecture but use different data inputs.\n",
    "\n",
    "Let's compare them with the naïve model to see which model is performing the best so far."
   ]
  },
  {
   "cell_type": "code",
   "execution_count": 72,
   "metadata": {
    "colab": {
     "base_uri": "https://localhost:8080/",
     "height": 0
    },
    "id": "QA4EKseAVrYf",
    "outputId": "8d4050f8-5694-4f9a-cdcf-bf6c3d2e9b23"
   },
   "outputs": [
    {
     "data": {
      "image/png": "[encoded data removed]",
      "text/plain": [
       "<Figure size 720x504 with 1 Axes>"
      ]
     },
     "metadata": {
      "needs_background": "light"
     },
     "output_type": "display_data"
    }
   ],
   "source": [
    "pd.DataFrame({\"naive\": naive_results[\"mae\"], \n",
    "              \"horizon_1_window_7\": model_1_results[\"mae\"], \n",
    "              \"horizon_1_window_30\": model_2_results[\"mae\"], \n",
    "              \"horizon_7_window_30\": model_3_results[\"mae\"]}, index=[\"mae\"]).plot(figsize=(10, 7), kind=\"bar\");"
   ]
  },
  {
   "cell_type": "markdown",
   "metadata": {
    "id": "dIRwia9BWeI5"
   },
   "source": [
    "Woah, our naïve model is performing best (it's very hard to beat a naïve model in open systems) but the dense model with a horizon of 1 and a window size of 7 looks to be performing cloest.\n",
    "\n",
    "Because of this, let's use `HORIZON=1` and `WINDOW_SIZE=7` for our next series of modelling experiments (in other words, we'll use the previous week of Bitcoin prices to try and predict the next day).\n",
    "\n",
    "> 🔑 **Note:** You might be wondering, why are the naïve results so good? One of the reasons could be due the presence of **autocorrelation** in the data. If a time series has **autocorrelation** it means the value at `t+1` (the next timestep) is typically close to the value at `t` (the current timestep). In other words, today's value is probably pretty close to yesterday's value. Of course, this isn't always the case but when it is, a naïve model will often get fairly good results.\n",
    "\n",
    "> 📖 **Resource:** For more on how autocorrelation influences a model's predictions, see the article [*How (not) to use Machine Learning for time series forecasting: Avoiding the pitfalls*](https://towardsdatascience.com/how-not-to-use-machine-learning-for-time-series-forecasting-avoiding-the-pitfalls-19f9d7adf424) by Vegard Flovik"
   ]
  },
  {
   "cell_type": "code",
   "execution_count": 73,
   "metadata": {
    "id": "2_t9hXvXrZPD"
   },
   "outputs": [],
   "source": [
    "HORIZON = 1 # predict next day\n",
    "WINDOW_SIZE = 7 # use previous week worth of data"
   ]
  },
  {
   "cell_type": "code",
   "execution_count": 74,
   "metadata": {
    "colab": {
     "base_uri": "https://localhost:8080/"
    },
    "id": "CRCy-vXzsEGL",
    "outputId": "0c2d2ba2-da3f-4d26-9a57-37bcc3f1333e"
   },
   "outputs": [
    {
     "data": {
      "text/plain": [
       "(2780, 2780)"
      ]
     },
     "execution_count": 74,
     "metadata": {},
     "output_type": "execute_result"
    }
   ],
   "source": [
    "# Create windowed dataset\n",
    "full_windows, full_labels = make_windows(prices, window_size=WINDOW_SIZE, horizon=HORIZON)\n",
    "len(full_windows), len(full_labels)"
   ]
  },
  {
   "cell_type": "code",
   "execution_count": 75,
   "metadata": {
    "colab": {
     "base_uri": "https://localhost:8080/"
    },
    "id": "ZtsLeB3rsED2",
    "outputId": "06ec0bbc-04d1-4aa4-d93a-2e31c83b6beb"
   },
   "outputs": [
    {
     "data": {
      "text/plain": [
       "(2224, 556, 2224, 556)"
      ]
     },
     "execution_count": 75,
     "metadata": {},
     "output_type": "execute_result"
    }
   ],
   "source": [
    "# Create train/test splits\n",
    "train_windows, test_windows, train_labels, test_labels = make_train_test_splits(full_windows, full_labels)\n",
    "len(train_windows), len(test_windows), len(train_labels), len(test_labels)"
   ]
  },
  {
   "cell_type": "code",
   "execution_count": 77,
   "metadata": {
    "colab": {
     "base_uri": "https://localhost:8080/"
    },
    "id": "To_k7zIAX7Pj",
    "outputId": "9aa9db3a-13f7-42d7-f0fd-a6775b610bef"
   },
   "outputs": [
    {
     "data": {
      "text/plain": [
       "(7,)"
      ]
     },
     "execution_count": 77,
     "metadata": {},
     "output_type": "execute_result"
    }
   ],
   "source": [
    "# Check data sample shapes\n",
    "train_windows[0].shape # returns (WINDOW_SIZE, )"
   ]
  },
  {
   "cell_type": "code",
   "execution_count": 78,
   "metadata": {
    "colab": {
     "base_uri": "https://localhost:8080/"
    },
    "id": "62oSNy3VvZpv",
    "outputId": "da825bb1-d764-47eb-92d1-7b8047e716dc"
   },
   "outputs": [
    {
     "name": "stdout",
     "output_type": "stream",
     "text": [
      "Original shape: (7,)\n",
      "Expanded shape: (7, 1)\n",
      "Original values with expanded shape:\n",
      " [[123.65499]\n",
      " [125.455  ]\n",
      " [108.58483]\n",
      " [118.67466]\n",
      " [121.33866]\n",
      " [120.65533]\n",
      " [121.795  ]]\n"
     ]
    }
   ],
   "source": [
    "# Before we pass our data to the Conv1D layer, we have to reshape it in order to make sure it works\n",
    "x = tf.constant(train_windows[0])\n",
    "expand_dims_layer = layers.Lambda(lambda x: tf.expand_dims(x, axis=1)) # add an extra dimension for timesteps\n",
    "print(f\"Original shape: {x.shape}\") # (WINDOW_SIZE)\n",
    "print(f\"Expanded shape: {expand_dims_layer(x).shape}\") # (WINDOW_SIZE, input_dim) \n",
    "print(f\"Original values with expanded shape:\\n {expand_dims_layer(x)}\")"
   ]
  },
  {
   "cell_type": "markdown",
   "metadata": {
    "id": "vKt2YFb5ip4n"
   },
   "source": [
    "Looking good!\n",
    "\n",
    "Now we've got a Lambda layer, let's build, compile, fit and evaluate a Conv1D model on our data.\n",
    "\n",
    "> 🔑 **Note:** If you run the model below without the Lambda layer, you'll get an input shape error (one of the most common errors when building neural networks)."
   ]
  },
  {
   "cell_type": "code",
   "execution_count": 79,
   "metadata": {
    "colab": {
     "base_uri": "https://localhost:8080/"
    },
    "id": "jODevMWGsEBI",
    "outputId": "901be90a-664d-45d6-a2e8-369532f6e2f4"
   },
   "outputs": [
    {
     "name": "stderr",
     "output_type": "stream",
     "text": [
      "WARNING:absl:Found untraced functions such as _jit_compiled_convolution_op while saving (showing 1 of 1). These functions will not be directly callable after loading.\n"
     ]
    },
    {
     "name": "stdout",
     "output_type": "stream",
     "text": [
      "INFO:tensorflow:Assets written to: model_experiments\\model_4_conv1D\\assets\n"
     ]
    },
    {
     "name": "stderr",
     "output_type": "stream",
     "text": [
      "INFO:tensorflow:Assets written to: model_experiments\\model_4_conv1D\\assets\n",
      "WARNING:absl:Found untraced functions such as _jit_compiled_convolution_op while saving (showing 1 of 1). These functions will not be directly callable after loading.\n"
     ]
    },
    {
     "name": "stdout",
     "output_type": "stream",
     "text": [
      "INFO:tensorflow:Assets written to: model_experiments\\model_4_conv1D\\assets\n"
     ]
    },
    {
     "name": "stderr",
     "output_type": "stream",
     "text": [
      "INFO:tensorflow:Assets written to: model_experiments\\model_4_conv1D\\assets\n",
      "WARNING:absl:Found untraced functions such as _jit_compiled_convolution_op while saving (showing 1 of 1). These functions will not be directly callable after loading.\n"
     ]
    },
    {
     "name": "stdout",
     "output_type": "stream",
     "text": [
      "INFO:tensorflow:Assets written to: model_experiments\\model_4_conv1D\\assets\n"
     ]
    },
    {
     "name": "stderr",
     "output_type": "stream",
     "text": [
      "INFO:tensorflow:Assets written to: model_experiments\\model_4_conv1D\\assets\n",
      "WARNING:absl:Found untraced functions such as _jit_compiled_convolution_op while saving (showing 1 of 1). These functions will not be directly callable after loading.\n"
     ]
    },
    {
     "name": "stdout",
     "output_type": "stream",
     "text": [
      "INFO:tensorflow:Assets written to: model_experiments\\model_4_conv1D\\assets\n"
     ]
    },
    {
     "name": "stderr",
     "output_type": "stream",
     "text": [
      "INFO:tensorflow:Assets written to: model_experiments\\model_4_conv1D\\assets\n",
      "WARNING:absl:Found untraced functions such as _jit_compiled_convolution_op while saving (showing 1 of 1). These functions will not be directly callable after loading.\n"
     ]
    },
    {
     "name": "stdout",
     "output_type": "stream",
     "text": [
      "INFO:tensorflow:Assets written to: model_experiments\\model_4_conv1D\\assets\n"
     ]
    },
    {
     "name": "stderr",
     "output_type": "stream",
     "text": [
      "INFO:tensorflow:Assets written to: model_experiments\\model_4_conv1D\\assets\n",
      "WARNING:absl:Found untraced functions such as _jit_compiled_convolution_op while saving (showing 1 of 1). These functions will not be directly callable after loading.\n"
     ]
    },
    {
     "name": "stdout",
     "output_type": "stream",
     "text": [
      "INFO:tensorflow:Assets written to: model_experiments\\model_4_conv1D\\assets\n"
     ]
    },
    {
     "name": "stderr",
     "output_type": "stream",
     "text": [
      "INFO:tensorflow:Assets written to: model_experiments\\model_4_conv1D\\assets\n",
      "WARNING:absl:Found untraced functions such as _jit_compiled_convolution_op while saving (showing 1 of 1). These functions will not be directly callable after loading.\n"
     ]
    },
    {
     "name": "stdout",
     "output_type": "stream",
     "text": [
      "INFO:tensorflow:Assets written to: model_experiments\\model_4_conv1D\\assets\n"
     ]
    },
    {
     "name": "stderr",
     "output_type": "stream",
     "text": [
      "INFO:tensorflow:Assets written to: model_experiments\\model_4_conv1D\\assets\n",
      "WARNING:absl:Found untraced functions such as _jit_compiled_convolution_op while saving (showing 1 of 1). These functions will not be directly callable after loading.\n"
     ]
    },
    {
     "name": "stdout",
     "output_type": "stream",
     "text": [
      "INFO:tensorflow:Assets written to: model_experiments\\model_4_conv1D\\assets\n"
     ]
    },
    {
     "name": "stderr",
     "output_type": "stream",
     "text": [
      "INFO:tensorflow:Assets written to: model_experiments\\model_4_conv1D\\assets\n",
      "WARNING:absl:Found untraced functions such as _jit_compiled_convolution_op while saving (showing 1 of 1). These functions will not be directly callable after loading.\n"
     ]
    },
    {
     "name": "stdout",
     "output_type": "stream",
     "text": [
      "INFO:tensorflow:Assets written to: model_experiments\\model_4_conv1D\\assets\n"
     ]
    },
    {
     "name": "stderr",
     "output_type": "stream",
     "text": [
      "INFO:tensorflow:Assets written to: model_experiments\\model_4_conv1D\\assets\n",
      "WARNING:absl:Found untraced functions such as _jit_compiled_convolution_op while saving (showing 1 of 1). These functions will not be directly callable after loading.\n"
     ]
    },
    {
     "name": "stdout",
     "output_type": "stream",
     "text": [
      "INFO:tensorflow:Assets written to: model_experiments\\model_4_conv1D\\assets\n"
     ]
    },
    {
     "name": "stderr",
     "output_type": "stream",
     "text": [
      "INFO:tensorflow:Assets written to: model_experiments\\model_4_conv1D\\assets\n",
      "WARNING:absl:Found untraced functions such as _jit_compiled_convolution_op while saving (showing 1 of 1). These functions will not be directly callable after loading.\n"
     ]
    },
    {
     "name": "stdout",
     "output_type": "stream",
     "text": [
      "INFO:tensorflow:Assets written to: model_experiments\\model_4_conv1D\\assets\n"
     ]
    },
    {
     "name": "stderr",
     "output_type": "stream",
     "text": [
      "INFO:tensorflow:Assets written to: model_experiments\\model_4_conv1D\\assets\n",
      "WARNING:absl:Found untraced functions such as _jit_compiled_convolution_op while saving (showing 1 of 1). These functions will not be directly callable after loading.\n"
     ]
    },
    {
     "name": "stdout",
     "output_type": "stream",
     "text": [
      "INFO:tensorflow:Assets written to: model_experiments\\model_4_conv1D\\assets\n"
     ]
    },
    {
     "name": "stderr",
     "output_type": "stream",
     "text": [
      "INFO:tensorflow:Assets written to: model_experiments\\model_4_conv1D\\assets\n",
      "WARNING:absl:Found untraced functions such as _jit_compiled_convolution_op while saving (showing 1 of 1). These functions will not be directly callable after loading.\n"
     ]
    },
    {
     "name": "stdout",
     "output_type": "stream",
     "text": [
      "INFO:tensorflow:Assets written to: model_experiments\\model_4_conv1D\\assets\n"
     ]
    },
    {
     "name": "stderr",
     "output_type": "stream",
     "text": [
      "INFO:tensorflow:Assets written to: model_experiments\\model_4_conv1D\\assets\n",
      "WARNING:absl:Found untraced functions such as _jit_compiled_convolution_op while saving (showing 1 of 1). These functions will not be directly callable after loading.\n"
     ]
    },
    {
     "name": "stdout",
     "output_type": "stream",
     "text": [
      "INFO:tensorflow:Assets written to: model_experiments\\model_4_conv1D\\assets\n"
     ]
    },
    {
     "name": "stderr",
     "output_type": "stream",
     "text": [
      "INFO:tensorflow:Assets written to: model_experiments\\model_4_conv1D\\assets\n",
      "WARNING:absl:Found untraced functions such as _jit_compiled_convolution_op while saving (showing 1 of 1). These functions will not be directly callable after loading.\n"
     ]
    },
    {
     "name": "stdout",
     "output_type": "stream",
     "text": [
      "INFO:tensorflow:Assets written to: model_experiments\\model_4_conv1D\\assets\n"
     ]
    },
    {
     "name": "stderr",
     "output_type": "stream",
     "text": [
      "INFO:tensorflow:Assets written to: model_experiments\\model_4_conv1D\\assets\n",
      "WARNING:absl:Found untraced functions such as _jit_compiled_convolution_op while saving (showing 1 of 1). These functions will not be directly callable after loading.\n"
     ]
    },
    {
     "name": "stdout",
     "output_type": "stream",
     "text": [
      "INFO:tensorflow:Assets written to: model_experiments\\model_4_conv1D\\assets\n"
     ]
    },
    {
     "name": "stderr",
     "output_type": "stream",
     "text": [
      "INFO:tensorflow:Assets written to: model_experiments\\model_4_conv1D\\assets\n",
      "WARNING:absl:Found untraced functions such as _jit_compiled_convolution_op while saving (showing 1 of 1). These functions will not be directly callable after loading.\n"
     ]
    },
    {
     "name": "stdout",
     "output_type": "stream",
     "text": [
      "INFO:tensorflow:Assets written to: model_experiments\\model_4_conv1D\\assets\n"
     ]
    },
    {
     "name": "stderr",
     "output_type": "stream",
     "text": [
      "INFO:tensorflow:Assets written to: model_experiments\\model_4_conv1D\\assets\n",
      "WARNING:absl:Found untraced functions such as _jit_compiled_convolution_op while saving (showing 1 of 1). These functions will not be directly callable after loading.\n"
     ]
    },
    {
     "name": "stdout",
     "output_type": "stream",
     "text": [
      "INFO:tensorflow:Assets written to: model_experiments\\model_4_conv1D\\assets\n"
     ]
    },
    {
     "name": "stderr",
     "output_type": "stream",
     "text": [
      "INFO:tensorflow:Assets written to: model_experiments\\model_4_conv1D\\assets\n",
      "WARNING:absl:Found untraced functions such as _jit_compiled_convolution_op while saving (showing 1 of 1). These functions will not be directly callable after loading.\n"
     ]
    },
    {
     "name": "stdout",
     "output_type": "stream",
     "text": [
      "INFO:tensorflow:Assets written to: model_experiments\\model_4_conv1D\\assets\n"
     ]
    },
    {
     "name": "stderr",
     "output_type": "stream",
     "text": [
      "INFO:tensorflow:Assets written to: model_experiments\\model_4_conv1D\\assets\n",
      "WARNING:absl:Found untraced functions such as _jit_compiled_convolution_op while saving (showing 1 of 1). These functions will not be directly callable after loading.\n"
     ]
    },
    {
     "name": "stdout",
     "output_type": "stream",
     "text": [
      "INFO:tensorflow:Assets written to: model_experiments\\model_4_conv1D\\assets\n"
     ]
    },
    {
     "name": "stderr",
     "output_type": "stream",
     "text": [
      "INFO:tensorflow:Assets written to: model_experiments\\model_4_conv1D\\assets\n",
      "WARNING:absl:Found untraced functions such as _jit_compiled_convolution_op while saving (showing 1 of 1). These functions will not be directly callable after loading.\n"
     ]
    },
    {
     "name": "stdout",
     "output_type": "stream",
     "text": [
      "INFO:tensorflow:Assets written to: model_experiments\\model_4_conv1D\\assets\n"
     ]
    },
    {
     "name": "stderr",
     "output_type": "stream",
     "text": [
      "INFO:tensorflow:Assets written to: model_experiments\\model_4_conv1D\\assets\n",
      "WARNING:absl:Found untraced functions such as _jit_compiled_convolution_op while saving (showing 1 of 1). These functions will not be directly callable after loading.\n"
     ]
    },
    {
     "name": "stdout",
     "output_type": "stream",
     "text": [
      "INFO:tensorflow:Assets written to: model_experiments\\model_4_conv1D\\assets\n"
     ]
    },
    {
     "name": "stderr",
     "output_type": "stream",
     "text": [
      "INFO:tensorflow:Assets written to: model_experiments\\model_4_conv1D\\assets\n",
      "WARNING:absl:Found untraced functions such as _jit_compiled_convolution_op while saving (showing 1 of 1). These functions will not be directly callable after loading.\n"
     ]
    },
    {
     "name": "stdout",
     "output_type": "stream",
     "text": [
      "INFO:tensorflow:Assets written to: model_experiments\\model_4_conv1D\\assets\n"
     ]
    },
    {
     "name": "stderr",
     "output_type": "stream",
     "text": [
      "INFO:tensorflow:Assets written to: model_experiments\\model_4_conv1D\\assets\n",
      "WARNING:absl:Found untraced functions such as _jit_compiled_convolution_op while saving (showing 1 of 1). These functions will not be directly callable after loading.\n"
     ]
    },
    {
     "name": "stdout",
     "output_type": "stream",
     "text": [
      "INFO:tensorflow:Assets written to: model_experiments\\model_4_conv1D\\assets\n"
     ]
    },
    {
     "name": "stderr",
     "output_type": "stream",
     "text": [
      "INFO:tensorflow:Assets written to: model_experiments\\model_4_conv1D\\assets\n",
      "WARNING:absl:Found untraced functions such as _jit_compiled_convolution_op while saving (showing 1 of 1). These functions will not be directly callable after loading.\n"
     ]
    },
    {
     "name": "stdout",
     "output_type": "stream",
     "text": [
      "INFO:tensorflow:Assets written to: model_experiments\\model_4_conv1D\\assets\n"
     ]
    },
    {
     "name": "stderr",
     "output_type": "stream",
     "text": [
      "INFO:tensorflow:Assets written to: model_experiments\\model_4_conv1D\\assets\n",
      "WARNING:absl:Found untraced functions such as _jit_compiled_convolution_op while saving (showing 1 of 1). These functions will not be directly callable after loading.\n"
     ]
    },
    {
     "name": "stdout",
     "output_type": "stream",
     "text": [
      "INFO:tensorflow:Assets written to: model_experiments\\model_4_conv1D\\assets\n"
     ]
    },
    {
     "name": "stderr",
     "output_type": "stream",
     "text": [
      "INFO:tensorflow:Assets written to: model_experiments\\model_4_conv1D\\assets\n",
      "WARNING:absl:Found untraced functions such as _jit_compiled_convolution_op while saving (showing 1 of 1). These functions will not be directly callable after loading.\n"
     ]
    },
    {
     "name": "stdout",
     "output_type": "stream",
     "text": [
      "INFO:tensorflow:Assets written to: model_experiments\\model_4_conv1D\\assets\n"
     ]
    },
    {
     "name": "stderr",
     "output_type": "stream",
     "text": [
      "INFO:tensorflow:Assets written to: model_experiments\\model_4_conv1D\\assets\n",
      "WARNING:absl:Found untraced functions such as _jit_compiled_convolution_op while saving (showing 1 of 1). These functions will not be directly callable after loading.\n"
     ]
    },
    {
     "name": "stdout",
     "output_type": "stream",
     "text": [
      "INFO:tensorflow:Assets written to: model_experiments\\model_4_conv1D\\assets\n"
     ]
    },
    {
     "name": "stderr",
     "output_type": "stream",
     "text": [
      "INFO:tensorflow:Assets written to: model_experiments\\model_4_conv1D\\assets\n",
      "WARNING:absl:Found untraced functions such as _jit_compiled_convolution_op while saving (showing 1 of 1). These functions will not be directly callable after loading.\n"
     ]
    },
    {
     "name": "stdout",
     "output_type": "stream",
     "text": [
      "INFO:tensorflow:Assets written to: model_experiments\\model_4_conv1D\\assets\n"
     ]
    },
    {
     "name": "stderr",
     "output_type": "stream",
     "text": [
      "INFO:tensorflow:Assets written to: model_experiments\\model_4_conv1D\\assets\n",
      "WARNING:absl:Found untraced functions such as _jit_compiled_convolution_op while saving (showing 1 of 1). These functions will not be directly callable after loading.\n"
     ]
    },
    {
     "name": "stdout",
     "output_type": "stream",
     "text": [
      "INFO:tensorflow:Assets written to: model_experiments\\model_4_conv1D\\assets\n"
     ]
    },
    {
     "name": "stderr",
     "output_type": "stream",
     "text": [
      "INFO:tensorflow:Assets written to: model_experiments\\model_4_conv1D\\assets\n",
      "WARNING:absl:Found untraced functions such as _jit_compiled_convolution_op while saving (showing 1 of 1). These functions will not be directly callable after loading.\n"
     ]
    },
    {
     "name": "stdout",
     "output_type": "stream",
     "text": [
      "INFO:tensorflow:Assets written to: model_experiments\\model_4_conv1D\\assets\n"
     ]
    },
    {
     "name": "stderr",
     "output_type": "stream",
     "text": [
      "INFO:tensorflow:Assets written to: model_experiments\\model_4_conv1D\\assets\n",
      "WARNING:absl:Found untraced functions such as _jit_compiled_convolution_op while saving (showing 1 of 1). These functions will not be directly callable after loading.\n"
     ]
    },
    {
     "name": "stdout",
     "output_type": "stream",
     "text": [
      "INFO:tensorflow:Assets written to: model_experiments\\model_4_conv1D\\assets\n"
     ]
    },
    {
     "name": "stderr",
     "output_type": "stream",
     "text": [
      "INFO:tensorflow:Assets written to: model_experiments\\model_4_conv1D\\assets\n",
      "WARNING:absl:Found untraced functions such as _jit_compiled_convolution_op while saving (showing 1 of 1). These functions will not be directly callable after loading.\n"
     ]
    },
    {
     "name": "stdout",
     "output_type": "stream",
     "text": [
      "INFO:tensorflow:Assets written to: model_experiments\\model_4_conv1D\\assets\n"
     ]
    },
    {
     "name": "stderr",
     "output_type": "stream",
     "text": [
      "INFO:tensorflow:Assets written to: model_experiments\\model_4_conv1D\\assets\n",
      "WARNING:absl:Found untraced functions such as _jit_compiled_convolution_op while saving (showing 1 of 1). These functions will not be directly callable after loading.\n"
     ]
    },
    {
     "name": "stdout",
     "output_type": "stream",
     "text": [
      "INFO:tensorflow:Assets written to: model_experiments\\model_4_conv1D\\assets\n"
     ]
    },
    {
     "name": "stderr",
     "output_type": "stream",
     "text": [
      "INFO:tensorflow:Assets written to: model_experiments\\model_4_conv1D\\assets\n",
      "WARNING:absl:Found untraced functions such as _jit_compiled_convolution_op while saving (showing 1 of 1). These functions will not be directly callable after loading.\n"
     ]
    },
    {
     "name": "stdout",
     "output_type": "stream",
     "text": [
      "INFO:tensorflow:Assets written to: model_experiments\\model_4_conv1D\\assets\n"
     ]
    },
    {
     "name": "stderr",
     "output_type": "stream",
     "text": [
      "INFO:tensorflow:Assets written to: model_experiments\\model_4_conv1D\\assets\n",
      "WARNING:absl:Found untraced functions such as _jit_compiled_convolution_op while saving (showing 1 of 1). These functions will not be directly callable after loading.\n"
     ]
    },
    {
     "name": "stdout",
     "output_type": "stream",
     "text": [
      "INFO:tensorflow:Assets written to: model_experiments\\model_4_conv1D\\assets\n"
     ]
    },
    {
     "name": "stderr",
     "output_type": "stream",
     "text": [
      "INFO:tensorflow:Assets written to: model_experiments\\model_4_conv1D\\assets\n",
      "WARNING:absl:Found untraced functions such as _jit_compiled_convolution_op while saving (showing 1 of 1). These functions will not be directly callable after loading.\n"
     ]
    },
    {
     "name": "stdout",
     "output_type": "stream",
     "text": [
      "INFO:tensorflow:Assets written to: model_experiments\\model_4_conv1D\\assets\n"
     ]
    },
    {
     "name": "stderr",
     "output_type": "stream",
     "text": [
      "INFO:tensorflow:Assets written to: model_experiments\\model_4_conv1D\\assets\n",
      "WARNING:absl:Found untraced functions such as _jit_compiled_convolution_op while saving (showing 1 of 1). These functions will not be directly callable after loading.\n"
     ]
    },
    {
     "name": "stdout",
     "output_type": "stream",
     "text": [
      "INFO:tensorflow:Assets written to: model_experiments\\model_4_conv1D\\assets\n"
     ]
    },
    {
     "name": "stderr",
     "output_type": "stream",
     "text": [
      "INFO:tensorflow:Assets written to: model_experiments\\model_4_conv1D\\assets\n",
      "WARNING:absl:Found untraced functions such as _jit_compiled_convolution_op while saving (showing 1 of 1). These functions will not be directly callable after loading.\n"
     ]
    },
    {
     "name": "stdout",
     "output_type": "stream",
     "text": [
      "INFO:tensorflow:Assets written to: model_experiments\\model_4_conv1D\\assets\n"
     ]
    },
    {
     "name": "stderr",
     "output_type": "stream",
     "text": [
      "INFO:tensorflow:Assets written to: model_experiments\\model_4_conv1D\\assets\n"
     ]
    },
    {
     "data": {
      "text/plain": [
       "<keras.callbacks.History at 0x221d9623f70>"
      ]
     },
     "execution_count": 79,
     "metadata": {},
     "output_type": "execute_result"
    }
   ],
   "source": [
    "tf.random.set_seed(42)\n",
    "\n",
    "# Create model\n",
    "model_4 = tf.keras.Sequential([\n",
    "  # Create Lambda layer to reshape inputs, without this layer, the model will error\n",
    "  layers.Lambda(lambda x: tf.expand_dims(x, axis=1)), # resize the inputs to adjust for window size / Conv1D 3D input requirements\n",
    "  layers.Conv1D(filters=128, kernel_size=5, padding=\"causal\", activation=\"relu\"),\n",
    "  layers.Dense(HORIZON)\n",
    "], name=\"model_4_conv1D\")\n",
    "\n",
    "# Compile model\n",
    "model_4.compile(loss=\"mae\",\n",
    "                optimizer=tf.keras.optimizers.Adam())\n",
    "\n",
    "# Fit model\n",
    "model_4.fit(train_windows,\n",
    "            train_labels,\n",
    "            batch_size=128, \n",
    "            epochs=80,\n",
    "            verbose=0,\n",
    "            validation_data=(test_windows, test_labels),\n",
    "            callbacks=[create_model_checkpoint(model_name=model_4.name)])"
   ]
  },
  {
   "cell_type": "markdown",
   "metadata": {
    "id": "dWqZR5cSjHCf"
   },
   "source": [
    "What does the Lambda layer look like in a summary?"
   ]
  },
  {
   "cell_type": "code",
   "execution_count": 80,
   "metadata": {
    "colab": {
     "base_uri": "https://localhost:8080/"
    },
    "id": "2FcGUALG4RxJ",
    "outputId": "08fdb7b6-0741-42de-bfb4-d699a4808327"
   },
   "outputs": [
    {
     "name": "stdout",
     "output_type": "stream",
     "text": [
      "Model: \"model_4_conv1D\"\n",
      "_________________________________________________________________\n",
      " Layer (type)                Output Shape              Param #   \n",
      "=================================================================\n",
      " lambda_1 (Lambda)           (None, 1, 7)              0         \n",
      "                                                                 \n",
      " conv1d (Conv1D)             (None, 1, 128)            4608      \n",
      "                                                                 \n",
      " dense_6 (Dense)             (None, 1, 1)              129       \n",
      "                                                                 \n",
      "=================================================================\n",
      "Total params: 4,737\n",
      "Trainable params: 4,737\n",
      "Non-trainable params: 0\n",
      "_________________________________________________________________\n"
     ]
    }
   ],
   "source": [
    "model_4.summary()"
   ]
  },
  {
   "cell_type": "markdown",
   "metadata": {
    "id": "MIZEau4Vjk-M"
   },
   "source": [
    "The Lambda layer appears the same as any other regular layer. \n",
    "\n",
    "Time to evaluate the Conv1D model."
   ]
  },
  {
   "cell_type": "code",
   "execution_count": 81,
   "metadata": {
    "colab": {
     "base_uri": "https://localhost:8080/"
    },
    "id": "KXEL9FuhsD-3",
    "outputId": "bc84dcc7-cf3f-43d3-ecd8-cb21d17a2cf4"
   },
   "outputs": [
    {
     "name": "stdout",
     "output_type": "stream",
     "text": [
      "18/18 [==============================] - 0s 1ms/step - loss: 573.7255\n"
     ]
    },
    {
     "data": {
      "text/plain": [
       "573.7255249023438"
      ]
     },
     "execution_count": 81,
     "metadata": {},
     "output_type": "execute_result"
    }
   ],
   "source": [
    "# Load in best performing Conv1D model and evaluate it on the test data\n",
    "model_4 = tf.keras.models.load_model(\"model_experiments/model_4_conv1D\")\n",
    "model_4.evaluate(test_windows, test_labels)"
   ]
  },
  {
   "cell_type": "code",
   "execution_count": 82,
   "metadata": {
    "colab": {
     "base_uri": "https://localhost:8080/"
    },
    "id": "j99tbnwSsD8R",
    "outputId": "9beccf78-ba5c-4a11-9b6b-d407b0b26987"
   },
   "outputs": [
    {
     "name": "stdout",
     "output_type": "stream",
     "text": [
      "18/18 [==============================] - 0s 1ms/step\n"
     ]
    },
    {
     "data": {
      "text/plain": [
       "<tf.Tensor: shape=(10,), dtype=float32, numpy=\n",
       "array([8909.864, 8796.134, 8992.685, 8786.074, 8752.468, 8751.412,\n",
       "       8682.784, 8537.95 , 8475.386, 8516.62 ], dtype=float32)>"
      ]
     },
     "execution_count": 82,
     "metadata": {},
     "output_type": "execute_result"
    }
   ],
   "source": [
    "# Make predictions\n",
    "model_4_preds = make_preds(model_4, test_windows)\n",
    "model_4_preds[:10]"
   ]
  },
  {
   "cell_type": "code",
   "execution_count": 83,
   "metadata": {
    "colab": {
     "base_uri": "https://localhost:8080/"
    },
    "id": "yjfEDWxjrZW2",
    "outputId": "bad55583-2d21-406f-c141-e8b21c80a7c7"
   },
   "outputs": [
    {
     "data": {
      "text/plain": [
       "{'mae': 573.7255,\n",
       " 'mse': 1193796.9,\n",
       " 'rmse': 1092.6101,\n",
       " 'mape': 2.5681117,\n",
       " 'mase': 1.0078769}"
      ]
     },
     "execution_count": 83,
     "metadata": {},
     "output_type": "execute_result"
    }
   ],
   "source": [
    "# Evaluate predictions\n",
    "model_4_results = evaluate_preds(y_true=tf.squeeze(test_labels),\n",
    "                                 y_pred=model_4_preds)\n",
    "model_4_results"
   ]
  },
  {
   "cell_type": "markdown",
   "metadata": {
    "id": "pZ2s0Rx0rZjE"
   },
   "source": [
    "## Model 5: RNN (LSTM)\n",
    "\n",
    " "
   ]
  },
  {
   "cell_type": "code",
   "execution_count": 89,
   "metadata": {
    "colab": {
     "base_uri": "https://localhost:8080/"
    },
    "id": "a6YFL_b-rZrt",
    "outputId": "6b45d331-6486-4326-a5e1-7aabe543e953"
   },
   "outputs": [
    {
     "name": "stdout",
     "output_type": "stream",
     "text": [
      "INFO:tensorflow:Assets written to: model_experiments\\model_5_lstm\\assets\n"
     ]
    },
    {
     "name": "stderr",
     "output_type": "stream",
     "text": [
      "INFO:tensorflow:Assets written to: model_experiments\\model_5_lstm\\assets\n"
     ]
    },
    {
     "name": "stdout",
     "output_type": "stream",
     "text": [
      "INFO:tensorflow:Assets written to: model_experiments\\model_5_lstm\\assets\n"
     ]
    },
    {
     "name": "stderr",
     "output_type": "stream",
     "text": [
      "INFO:tensorflow:Assets written to: model_experiments\\model_5_lstm\\assets\n"
     ]
    },
    {
     "name": "stdout",
     "output_type": "stream",
     "text": [
      "INFO:tensorflow:Assets written to: model_experiments\\model_5_lstm\\assets\n"
     ]
    },
    {
     "name": "stderr",
     "output_type": "stream",
     "text": [
      "INFO:tensorflow:Assets written to: model_experiments\\model_5_lstm\\assets\n"
     ]
    },
    {
     "name": "stdout",
     "output_type": "stream",
     "text": [
      "INFO:tensorflow:Assets written to: model_experiments\\model_5_lstm\\assets\n"
     ]
    },
    {
     "name": "stderr",
     "output_type": "stream",
     "text": [
      "INFO:tensorflow:Assets written to: model_experiments\\model_5_lstm\\assets\n"
     ]
    },
    {
     "name": "stdout",
     "output_type": "stream",
     "text": [
      "INFO:tensorflow:Assets written to: model_experiments\\model_5_lstm\\assets\n"
     ]
    },
    {
     "name": "stderr",
     "output_type": "stream",
     "text": [
      "INFO:tensorflow:Assets written to: model_experiments\\model_5_lstm\\assets\n"
     ]
    },
    {
     "name": "stdout",
     "output_type": "stream",
     "text": [
      "INFO:tensorflow:Assets written to: model_experiments\\model_5_lstm\\assets\n"
     ]
    },
    {
     "name": "stderr",
     "output_type": "stream",
     "text": [
      "INFO:tensorflow:Assets written to: model_experiments\\model_5_lstm\\assets\n"
     ]
    },
    {
     "name": "stdout",
     "output_type": "stream",
     "text": [
      "INFO:tensorflow:Assets written to: model_experiments\\model_5_lstm\\assets\n"
     ]
    },
    {
     "name": "stderr",
     "output_type": "stream",
     "text": [
      "INFO:tensorflow:Assets written to: model_experiments\\model_5_lstm\\assets\n"
     ]
    },
    {
     "name": "stdout",
     "output_type": "stream",
     "text": [
      "INFO:tensorflow:Assets written to: model_experiments\\model_5_lstm\\assets\n"
     ]
    },
    {
     "name": "stderr",
     "output_type": "stream",
     "text": [
      "INFO:tensorflow:Assets written to: model_experiments\\model_5_lstm\\assets\n"
     ]
    },
    {
     "name": "stdout",
     "output_type": "stream",
     "text": [
      "INFO:tensorflow:Assets written to: model_experiments\\model_5_lstm\\assets\n"
     ]
    },
    {
     "name": "stderr",
     "output_type": "stream",
     "text": [
      "INFO:tensorflow:Assets written to: model_experiments\\model_5_lstm\\assets\n"
     ]
    },
    {
     "name": "stdout",
     "output_type": "stream",
     "text": [
      "INFO:tensorflow:Assets written to: model_experiments\\model_5_lstm\\assets\n"
     ]
    },
    {
     "name": "stderr",
     "output_type": "stream",
     "text": [
      "INFO:tensorflow:Assets written to: model_experiments\\model_5_lstm\\assets\n"
     ]
    },
    {
     "name": "stdout",
     "output_type": "stream",
     "text": [
      "INFO:tensorflow:Assets written to: model_experiments\\model_5_lstm\\assets\n"
     ]
    },
    {
     "name": "stderr",
     "output_type": "stream",
     "text": [
      "INFO:tensorflow:Assets written to: model_experiments\\model_5_lstm\\assets\n"
     ]
    },
    {
     "name": "stdout",
     "output_type": "stream",
     "text": [
      "INFO:tensorflow:Assets written to: model_experiments\\model_5_lstm\\assets\n"
     ]
    },
    {
     "name": "stderr",
     "output_type": "stream",
     "text": [
      "INFO:tensorflow:Assets written to: model_experiments\\model_5_lstm\\assets\n"
     ]
    },
    {
     "name": "stdout",
     "output_type": "stream",
     "text": [
      "INFO:tensorflow:Assets written to: model_experiments\\model_5_lstm\\assets\n"
     ]
    },
    {
     "name": "stderr",
     "output_type": "stream",
     "text": [
      "INFO:tensorflow:Assets written to: model_experiments\\model_5_lstm\\assets\n"
     ]
    },
    {
     "name": "stdout",
     "output_type": "stream",
     "text": [
      "INFO:tensorflow:Assets written to: model_experiments\\model_5_lstm\\assets\n"
     ]
    },
    {
     "name": "stderr",
     "output_type": "stream",
     "text": [
      "INFO:tensorflow:Assets written to: model_experiments\\model_5_lstm\\assets\n"
     ]
    },
    {
     "name": "stdout",
     "output_type": "stream",
     "text": [
      "INFO:tensorflow:Assets written to: model_experiments\\model_5_lstm\\assets\n"
     ]
    },
    {
     "name": "stderr",
     "output_type": "stream",
     "text": [
      "INFO:tensorflow:Assets written to: model_experiments\\model_5_lstm\\assets\n"
     ]
    },
    {
     "name": "stdout",
     "output_type": "stream",
     "text": [
      "INFO:tensorflow:Assets written to: model_experiments\\model_5_lstm\\assets\n"
     ]
    },
    {
     "name": "stderr",
     "output_type": "stream",
     "text": [
      "INFO:tensorflow:Assets written to: model_experiments\\model_5_lstm\\assets\n"
     ]
    },
    {
     "name": "stdout",
     "output_type": "stream",
     "text": [
      "INFO:tensorflow:Assets written to: model_experiments\\model_5_lstm\\assets\n"
     ]
    },
    {
     "name": "stderr",
     "output_type": "stream",
     "text": [
      "INFO:tensorflow:Assets written to: model_experiments\\model_5_lstm\\assets\n"
     ]
    },
    {
     "name": "stdout",
     "output_type": "stream",
     "text": [
      "INFO:tensorflow:Assets written to: model_experiments\\model_5_lstm\\assets\n"
     ]
    },
    {
     "name": "stderr",
     "output_type": "stream",
     "text": [
      "INFO:tensorflow:Assets written to: model_experiments\\model_5_lstm\\assets\n"
     ]
    },
    {
     "name": "stdout",
     "output_type": "stream",
     "text": [
      "INFO:tensorflow:Assets written to: model_experiments\\model_5_lstm\\assets\n"
     ]
    },
    {
     "name": "stderr",
     "output_type": "stream",
     "text": [
      "INFO:tensorflow:Assets written to: model_experiments\\model_5_lstm\\assets\n"
     ]
    },
    {
     "name": "stdout",
     "output_type": "stream",
     "text": [
      "INFO:tensorflow:Assets written to: model_experiments\\model_5_lstm\\assets\n"
     ]
    },
    {
     "name": "stderr",
     "output_type": "stream",
     "text": [
      "INFO:tensorflow:Assets written to: model_experiments\\model_5_lstm\\assets\n"
     ]
    },
    {
     "name": "stdout",
     "output_type": "stream",
     "text": [
      "INFO:tensorflow:Assets written to: model_experiments\\model_5_lstm\\assets\n"
     ]
    },
    {
     "name": "stderr",
     "output_type": "stream",
     "text": [
      "INFO:tensorflow:Assets written to: model_experiments\\model_5_lstm\\assets\n"
     ]
    },
    {
     "name": "stdout",
     "output_type": "stream",
     "text": [
      "INFO:tensorflow:Assets written to: model_experiments\\model_5_lstm\\assets\n"
     ]
    },
    {
     "name": "stderr",
     "output_type": "stream",
     "text": [
      "INFO:tensorflow:Assets written to: model_experiments\\model_5_lstm\\assets\n"
     ]
    },
    {
     "name": "stdout",
     "output_type": "stream",
     "text": [
      "INFO:tensorflow:Assets written to: model_experiments\\model_5_lstm\\assets\n"
     ]
    },
    {
     "name": "stderr",
     "output_type": "stream",
     "text": [
      "INFO:tensorflow:Assets written to: model_experiments\\model_5_lstm\\assets\n"
     ]
    },
    {
     "name": "stdout",
     "output_type": "stream",
     "text": [
      "INFO:tensorflow:Assets written to: model_experiments\\model_5_lstm\\assets\n"
     ]
    },
    {
     "name": "stderr",
     "output_type": "stream",
     "text": [
      "INFO:tensorflow:Assets written to: model_experiments\\model_5_lstm\\assets\n"
     ]
    },
    {
     "name": "stdout",
     "output_type": "stream",
     "text": [
      "INFO:tensorflow:Assets written to: model_experiments\\model_5_lstm\\assets\n"
     ]
    },
    {
     "name": "stderr",
     "output_type": "stream",
     "text": [
      "INFO:tensorflow:Assets written to: model_experiments\\model_5_lstm\\assets\n"
     ]
    },
    {
     "name": "stdout",
     "output_type": "stream",
     "text": [
      "INFO:tensorflow:Assets written to: model_experiments\\model_5_lstm\\assets\n"
     ]
    },
    {
     "name": "stderr",
     "output_type": "stream",
     "text": [
      "INFO:tensorflow:Assets written to: model_experiments\\model_5_lstm\\assets\n"
     ]
    },
    {
     "name": "stdout",
     "output_type": "stream",
     "text": [
      "INFO:tensorflow:Assets written to: model_experiments\\model_5_lstm\\assets\n"
     ]
    },
    {
     "name": "stderr",
     "output_type": "stream",
     "text": [
      "INFO:tensorflow:Assets written to: model_experiments\\model_5_lstm\\assets\n"
     ]
    },
    {
     "name": "stdout",
     "output_type": "stream",
     "text": [
      "INFO:tensorflow:Assets written to: model_experiments\\model_5_lstm\\assets\n"
     ]
    },
    {
     "name": "stderr",
     "output_type": "stream",
     "text": [
      "INFO:tensorflow:Assets written to: model_experiments\\model_5_lstm\\assets\n"
     ]
    },
    {
     "name": "stdout",
     "output_type": "stream",
     "text": [
      "INFO:tensorflow:Assets written to: model_experiments\\model_5_lstm\\assets\n"
     ]
    },
    {
     "name": "stderr",
     "output_type": "stream",
     "text": [
      "INFO:tensorflow:Assets written to: model_experiments\\model_5_lstm\\assets\n"
     ]
    },
    {
     "data": {
      "text/plain": [
       "<keras.callbacks.History at 0x221f25608b0>"
      ]
     },
     "execution_count": 89,
     "metadata": {},
     "output_type": "execute_result"
    }
   ],
   "source": [
    "tf.random.set_seed(42)\n",
    "\n",
    "# Let's build an LSTM model with the Functional API\n",
    "inputs = layers.Input(shape=(WINDOW_SIZE))\n",
    "x = layers.Lambda(lambda x: tf.expand_dims(x, axis=1))(inputs) # expand input dimension to be compatible with LSTM\n",
    "# print(x.shape)\n",
    "# x = layers.LSTM(128, activation=\"relu\", return_sequences=True)(x) # this layer will error if the inputs are not the right shape\n",
    "x = layers.LSTM(128, activation=\"relu\")(x) # using the tanh loss function results in a massive error\n",
    "# print(x.shape)\n",
    "# Add another optional dense layer (you could add more of these to see if they improve model performance)\n",
    "x = layers.Dense(32, activation=\"relu\")(x)\n",
    "x = layers.Dense(32, activation=\"relu\")(x)\n",
    "output = layers.Dense(HORIZON)(x)\n",
    "model_5 = tf.keras.Model(inputs=inputs, outputs=output, name=\"model_5_lstm\")\n",
    "\n",
    "# Compile model\n",
    "model_5.compile(loss=\"mae\",\n",
    "                optimizer=tf.keras.optimizers.Adam())\n",
    "\n",
    "# Seems when saving the model several warnings are appearing: https://github.com/tensorflow/tensorflow/issues/47554 \n",
    "model_5.fit(train_windows,\n",
    "            train_labels,\n",
    "            epochs=120,\n",
    "            verbose=0,\n",
    "            batch_size=128,\n",
    "            validation_data=(test_windows, test_labels),\n",
    "            callbacks=[create_model_checkpoint(model_name=model_5.name)])"
   ]
  },
  {
   "cell_type": "code",
   "execution_count": 90,
   "metadata": {
    "colab": {
     "base_uri": "https://localhost:8080/"
    },
    "id": "6LMTnM_5vn9t",
    "outputId": "247c74db-a057-46dd-cd81-f79c712334e2"
   },
   "outputs": [
    {
     "name": "stdout",
     "output_type": "stream",
     "text": [
      "Model: \"model_5_lstm\"\n",
      "_________________________________________________________________\n",
      " Layer (type)                Output Shape              Param #   \n",
      "=================================================================\n",
      " input_2 (InputLayer)        [(None, 7)]               0         \n",
      "                                                                 \n",
      " lambda_3 (Lambda)           (None, 1, 7)              0         \n",
      "                                                                 \n",
      " lstm_1 (LSTM)               (None, 128)               69632     \n",
      "                                                                 \n",
      " dense_9 (Dense)             (None, 32)                4128      \n",
      "                                                                 \n",
      " dense_10 (Dense)            (None, 32)                1056      \n",
      "                                                                 \n",
      " dense_11 (Dense)            (None, 1)                 33        \n",
      "                                                                 \n",
      "=================================================================\n",
      "Total params: 74,849\n",
      "Trainable params: 74,849\n",
      "Non-trainable params: 0\n",
      "_________________________________________________________________\n"
     ]
    }
   ],
   "source": [
    "model_5.summary()"
   ]
  },
  {
   "cell_type": "code",
   "execution_count": 91,
   "metadata": {
    "colab": {
     "base_uri": "https://localhost:8080/"
    },
    "id": "cOpHqmEtSsNw",
    "outputId": "8a52888c-6db5-4c2a-b601-bbcd1cedaad1"
   },
   "outputs": [
    {
     "name": "stdout",
     "output_type": "stream",
     "text": [
      "18/18 [==============================] - 0s 2ms/step - loss: 568.0328\n"
     ]
    },
    {
     "data": {
      "text/plain": [
       "568.0328369140625"
      ]
     },
     "execution_count": 91,
     "metadata": {},
     "output_type": "execute_result"
    }
   ],
   "source": [
    "# Load in best version of model 5 and evaluate on the test data\n",
    "model_5 = tf.keras.models.load_model(\"model_experiments/model_5_lstm/\")\n",
    "model_5.evaluate(test_windows, test_labels)"
   ]
  },
  {
   "cell_type": "markdown",
   "metadata": {
    "id": "Pm_ZVNomnWvP"
   },
   "source": [
    "Now we've got the best performing LSTM model loaded in, let's make predictions with it and evaluate them."
   ]
  },
  {
   "cell_type": "code",
   "execution_count": 92,
   "metadata": {
    "colab": {
     "base_uri": "https://localhost:8080/"
    },
    "id": "yfG11v_51UWa",
    "outputId": "9b5b8591-d823-4dea-c953-0bb0778a7262"
   },
   "outputs": [
    {
     "name": "stdout",
     "output_type": "stream",
     "text": [
      "18/18 [==============================] - 0s 2ms/step\n"
     ]
    },
    {
     "data": {
      "text/plain": [
       "<tf.Tensor: shape=(10,), dtype=float32, numpy=\n",
       "array([8874.656, 8783.858, 9001.114, 8777.031, 8735.805, 8733.79 ,\n",
       "       8669.377, 8528.447, 8455.852, 8511.442], dtype=float32)>"
      ]
     },
     "execution_count": 92,
     "metadata": {},
     "output_type": "execute_result"
    }
   ],
   "source": [
    "# Make predictions with our LSTM model\n",
    "model_5_preds = make_preds(model_5, test_windows)\n",
    "model_5_preds[:10]"
   ]
  },
  {
   "cell_type": "code",
   "execution_count": 93,
   "metadata": {
    "colab": {
     "base_uri": "https://localhost:8080/"
    },
    "id": "sVv5Kg5N1axK",
    "outputId": "08dbf55e-83fe-418e-9438-7ec6f2bb4cd3"
   },
   "outputs": [
    {
     "data": {
      "text/plain": [
       "{'mae': 568.0328,\n",
       " 'mse': 1170161.9,\n",
       " 'rmse': 1081.7402,\n",
       " 'mape': 2.5410707,\n",
       " 'mase': 0.9978762}"
      ]
     },
     "execution_count": 93,
     "metadata": {},
     "output_type": "execute_result"
    }
   ],
   "source": [
    "# Evaluate model 5 preds\n",
    "model_5_results = evaluate_preds(y_true=tf.squeeze(test_labels),\n",
    "                                 y_pred=model_5_preds)\n",
    "model_5_results"
   ]
  },
  {
   "cell_type": "markdown",
   "metadata": {
    "id": "Y82CDMWp5Wva"
   },
   "source": [
    "## Make a multivariate time series \n",
    "\n",
    " "
   ]
  },
  {
   "cell_type": "code",
   "execution_count": 111,
   "metadata": {
    "colab": {
     "base_uri": "https://localhost:8080/",
     "height": 237
    },
    "id": "Z06o2ls4sSoF",
    "outputId": "8c57f214-e523-4119-bf3d-bed90618d820"
   },
   "outputs": [
    {
     "data": {
      "text/html": [
       "<div>\n",
       "<style scoped>\n",
       "    .dataframe tbody tr th:only-of-type {\n",
       "        vertical-align: middle;\n",
       "    }\n",
       "\n",
       "    .dataframe tbody tr th {\n",
       "        vertical-align: top;\n",
       "    }\n",
       "\n",
       "    .dataframe thead th {\n",
       "        text-align: right;\n",
       "    }\n",
       "</style>\n",
       "<table border=\"1\" class=\"dataframe\">\n",
       "  <thead>\n",
       "    <tr style=\"text-align: right;\">\n",
       "      <th></th>\n",
       "      <th>Price</th>\n",
       "    </tr>\n",
       "    <tr>\n",
       "      <th>Date</th>\n",
       "      <th></th>\n",
       "    </tr>\n",
       "  </thead>\n",
       "  <tbody>\n",
       "    <tr>\n",
       "      <th>2013-10-01</th>\n",
       "      <td>123.65499</td>\n",
       "    </tr>\n",
       "    <tr>\n",
       "      <th>2013-10-02</th>\n",
       "      <td>125.45500</td>\n",
       "    </tr>\n",
       "    <tr>\n",
       "      <th>2013-10-03</th>\n",
       "      <td>108.58483</td>\n",
       "    </tr>\n",
       "    <tr>\n",
       "      <th>2013-10-04</th>\n",
       "      <td>118.67466</td>\n",
       "    </tr>\n",
       "    <tr>\n",
       "      <th>2013-10-05</th>\n",
       "      <td>121.33866</td>\n",
       "    </tr>\n",
       "  </tbody>\n",
       "</table>\n",
       "</div>"
      ],
      "text/plain": [
       "                Price\n",
       "Date                 \n",
       "2013-10-01  123.65499\n",
       "2013-10-02  125.45500\n",
       "2013-10-03  108.58483\n",
       "2013-10-04  118.67466\n",
       "2013-10-05  121.33866"
      ]
     },
     "execution_count": 111,
     "metadata": {},
     "output_type": "execute_result"
    }
   ],
   "source": [
    "# Let's make a multivariate time series\n",
    "bitcoin_prices.head()"
   ]
  },
  {
   "cell_type": "code",
   "execution_count": 112,
   "metadata": {
    "id": "HrUKQXnssWHt"
   },
   "outputs": [],
   "source": [
    "# Block reward values\n",
    "block_reward_1 = 50 # 3 January 2009 (2009-01-03) - this block reward isn't in our dataset (it starts from 01 October 2013)\n",
    "block_reward_2 = 25 # 28 November 2012 \n",
    "block_reward_3 = 12.5 # 9 July 2016\n",
    "block_reward_4 = 6.25 # 11 May 2020\n",
    "\n",
    "# Block reward dates (datetime form of the above date stamps)\n",
    "block_reward_2_datetime = np.datetime64(\"2012-11-28\")\n",
    "block_reward_3_datetime = np.datetime64(\"2016-07-09\")\n",
    "block_reward_4_datetime = np.datetime64(\"2020-05-11\")"
   ]
  },
  {
   "cell_type": "code",
   "execution_count": 113,
   "metadata": {
    "colab": {
     "base_uri": "https://localhost:8080/"
    },
    "id": "jmawWFj9udzC",
    "outputId": "b9ba06d8-2338-4519-e59f-533c95a0d519"
   },
   "outputs": [
    {
     "data": {
      "text/plain": [
       "(1012, 2414)"
      ]
     },
     "execution_count": 113,
     "metadata": {},
     "output_type": "execute_result"
    }
   ],
   "source": [
    "# Get date indexes for when to add in different block dates\n",
    "block_reward_2_days = (block_reward_3_datetime - bitcoin_prices.index[0]).days\n",
    "block_reward_3_days = (block_reward_4_datetime - bitcoin_prices.index[0]).days\n",
    "block_reward_2_days, block_reward_3_days"
   ]
  },
  {
   "cell_type": "markdown",
   "metadata": {
    "id": "B2ZxThVAy0B3"
   },
   "source": [
    "Now we can add another feature to our dataset `block_reward` (this gets lower over time so it may lead to increasing prices of Bitcoin)."
   ]
  },
  {
   "cell_type": "code",
   "execution_count": 114,
   "metadata": {
    "colab": {
     "base_uri": "https://localhost:8080/",
     "height": 237
    },
    "id": "BM9zRZDQvw7m",
    "outputId": "08ab8bf0-950a-45e2-c2f2-4a09de6db0a3"
   },
   "outputs": [
    {
     "data": {
      "text/html": [
       "<div>\n",
       "<style scoped>\n",
       "    .dataframe tbody tr th:only-of-type {\n",
       "        vertical-align: middle;\n",
       "    }\n",
       "\n",
       "    .dataframe tbody tr th {\n",
       "        vertical-align: top;\n",
       "    }\n",
       "\n",
       "    .dataframe thead th {\n",
       "        text-align: right;\n",
       "    }\n",
       "</style>\n",
       "<table border=\"1\" class=\"dataframe\">\n",
       "  <thead>\n",
       "    <tr style=\"text-align: right;\">\n",
       "      <th></th>\n",
       "      <th>Price</th>\n",
       "      <th>block_reward</th>\n",
       "    </tr>\n",
       "    <tr>\n",
       "      <th>Date</th>\n",
       "      <th></th>\n",
       "      <th></th>\n",
       "    </tr>\n",
       "  </thead>\n",
       "  <tbody>\n",
       "    <tr>\n",
       "      <th>2013-10-01</th>\n",
       "      <td>123.65499</td>\n",
       "      <td>25</td>\n",
       "    </tr>\n",
       "    <tr>\n",
       "      <th>2013-10-02</th>\n",
       "      <td>125.45500</td>\n",
       "      <td>25</td>\n",
       "    </tr>\n",
       "    <tr>\n",
       "      <th>2013-10-03</th>\n",
       "      <td>108.58483</td>\n",
       "      <td>25</td>\n",
       "    </tr>\n",
       "    <tr>\n",
       "      <th>2013-10-04</th>\n",
       "      <td>118.67466</td>\n",
       "      <td>25</td>\n",
       "    </tr>\n",
       "    <tr>\n",
       "      <th>2013-10-05</th>\n",
       "      <td>121.33866</td>\n",
       "      <td>25</td>\n",
       "    </tr>\n",
       "  </tbody>\n",
       "</table>\n",
       "</div>"
      ],
      "text/plain": [
       "                Price block_reward\n",
       "Date                              \n",
       "2013-10-01  123.65499           25\n",
       "2013-10-02  125.45500           25\n",
       "2013-10-03  108.58483           25\n",
       "2013-10-04  118.67466           25\n",
       "2013-10-05  121.33866           25"
      ]
     },
     "execution_count": 114,
     "metadata": {},
     "output_type": "execute_result"
    }
   ],
   "source": [
    "# Add block_reward column\n",
    "bitcoin_prices_block = bitcoin_prices.copy()\n",
    "bitcoin_prices_block[\"block_reward\"] = None\n",
    "\n",
    "# Set values of block_reward column (it's the last column hence -1 indexing on iloc)\n",
    "bitcoin_prices_block.iloc[:block_reward_2_days, -1] = block_reward_2\n",
    "bitcoin_prices_block.iloc[block_reward_2_days:block_reward_3_days, -1] = block_reward_3\n",
    "bitcoin_prices_block.iloc[block_reward_3_days:, -1] = block_reward_4\n",
    "bitcoin_prices_block.head()"
   ]
  },
  {
   "cell_type": "markdown",
   "metadata": {
    "id": "PZuC3pvWwfXq"
   },
   "source": [
    "Woohoo! We've officially added another variable to our time series data.\n",
    "\n",
    "Let's see what it looks like."
   ]
  },
  {
   "cell_type": "code",
   "execution_count": 169,
   "metadata": {
    "colab": {
     "base_uri": "https://localhost:8080/",
     "height": 442
    },
    "id": "Tfh8dmtF46Lf",
    "outputId": "1539c4d0-d75f-4429-fbfe-3b640b2559b1"
   },
   "outputs": [
    {
     "data": {
      "text/plain": [
       "Text(0.5, 1.0, 'multivariate model coupling block reward knoweldge')"
      ]
     },
     "execution_count": 169,
     "metadata": {},
     "output_type": "execute_result"
    },
    {
     "data": {
      "image/png": "[encoded data removed]",
      "text/plain": [
       "<Figure size 720x504 with 1 Axes>"
      ]
     },
     "metadata": {
      "needs_background": "light"
     },
     "output_type": "display_data"
    }
   ],
   "source": [
    "# Plot the block reward/price over time\n",
    "# Note: Because of the different scales of our values we'll scale them to be between 0 and 1.\n",
    "from sklearn.preprocessing import minmax_scale\n",
    "scaled_price_block_df = pd.DataFrame(minmax_scale(bitcoin_prices_block[[\"Price\", \"block_reward\"]]), # we need to scale the data first\n",
    "                                     columns=bitcoin_prices_block.columns,\n",
    "                                     index=bitcoin_prices_block.index)\n",
    "scaled_price_block_df.plot(figsize=(10, 7));\n",
    "plt.title('multivariate model coupling block reward knoweldge')"
   ]
  },
  {
   "cell_type": "markdown",
   "metadata": {
    "id": "7m0h2WcP5Ko8"
   },
   "source": [
    "## Making a windowed dataset with pandas\n",
    "\n",
    " "
   ]
  },
  {
   "cell_type": "code",
   "execution_count": 116,
   "metadata": {
    "id": "8_9iFxKS8Sed"
   },
   "outputs": [],
   "source": [
    "# Setup dataset hyperparameters\n",
    "HORIZON = 1\n",
    "WINDOW_SIZE = 7"
   ]
  },
  {
   "cell_type": "code",
   "execution_count": 117,
   "metadata": {
    "colab": {
     "base_uri": "https://localhost:8080/",
     "height": 438
    },
    "id": "DqPp3HdHsXO8",
    "outputId": "d5ec4866-776c-4ede-c6f1-7c6c3a6b9d87"
   },
   "outputs": [
    {
     "data": {
      "text/html": [
       "<div>\n",
       "<style scoped>\n",
       "    .dataframe tbody tr th:only-of-type {\n",
       "        vertical-align: middle;\n",
       "    }\n",
       "\n",
       "    .dataframe tbody tr th {\n",
       "        vertical-align: top;\n",
       "    }\n",
       "\n",
       "    .dataframe thead th {\n",
       "        text-align: right;\n",
       "    }\n",
       "</style>\n",
       "<table border=\"1\" class=\"dataframe\">\n",
       "  <thead>\n",
       "    <tr style=\"text-align: right;\">\n",
       "      <th></th>\n",
       "      <th>Price</th>\n",
       "      <th>block_reward</th>\n",
       "      <th>Price+1</th>\n",
       "      <th>Price+2</th>\n",
       "      <th>Price+3</th>\n",
       "      <th>Price+4</th>\n",
       "      <th>Price+5</th>\n",
       "      <th>Price+6</th>\n",
       "      <th>Price+7</th>\n",
       "    </tr>\n",
       "    <tr>\n",
       "      <th>Date</th>\n",
       "      <th></th>\n",
       "      <th></th>\n",
       "      <th></th>\n",
       "      <th></th>\n",
       "      <th></th>\n",
       "      <th></th>\n",
       "      <th></th>\n",
       "      <th></th>\n",
       "      <th></th>\n",
       "    </tr>\n",
       "  </thead>\n",
       "  <tbody>\n",
       "    <tr>\n",
       "      <th>2013-10-01</th>\n",
       "      <td>123.65499</td>\n",
       "      <td>25</td>\n",
       "      <td>NaN</td>\n",
       "      <td>NaN</td>\n",
       "      <td>NaN</td>\n",
       "      <td>NaN</td>\n",
       "      <td>NaN</td>\n",
       "      <td>NaN</td>\n",
       "      <td>NaN</td>\n",
       "    </tr>\n",
       "    <tr>\n",
       "      <th>2013-10-02</th>\n",
       "      <td>125.45500</td>\n",
       "      <td>25</td>\n",
       "      <td>123.65499</td>\n",
       "      <td>NaN</td>\n",
       "      <td>NaN</td>\n",
       "      <td>NaN</td>\n",
       "      <td>NaN</td>\n",
       "      <td>NaN</td>\n",
       "      <td>NaN</td>\n",
       "    </tr>\n",
       "    <tr>\n",
       "      <th>2013-10-03</th>\n",
       "      <td>108.58483</td>\n",
       "      <td>25</td>\n",
       "      <td>125.45500</td>\n",
       "      <td>123.65499</td>\n",
       "      <td>NaN</td>\n",
       "      <td>NaN</td>\n",
       "      <td>NaN</td>\n",
       "      <td>NaN</td>\n",
       "      <td>NaN</td>\n",
       "    </tr>\n",
       "    <tr>\n",
       "      <th>2013-10-04</th>\n",
       "      <td>118.67466</td>\n",
       "      <td>25</td>\n",
       "      <td>108.58483</td>\n",
       "      <td>125.45500</td>\n",
       "      <td>123.65499</td>\n",
       "      <td>NaN</td>\n",
       "      <td>NaN</td>\n",
       "      <td>NaN</td>\n",
       "      <td>NaN</td>\n",
       "    </tr>\n",
       "    <tr>\n",
       "      <th>2013-10-05</th>\n",
       "      <td>121.33866</td>\n",
       "      <td>25</td>\n",
       "      <td>118.67466</td>\n",
       "      <td>108.58483</td>\n",
       "      <td>125.45500</td>\n",
       "      <td>123.65499</td>\n",
       "      <td>NaN</td>\n",
       "      <td>NaN</td>\n",
       "      <td>NaN</td>\n",
       "    </tr>\n",
       "    <tr>\n",
       "      <th>2013-10-06</th>\n",
       "      <td>120.65533</td>\n",
       "      <td>25</td>\n",
       "      <td>121.33866</td>\n",
       "      <td>118.67466</td>\n",
       "      <td>108.58483</td>\n",
       "      <td>125.45500</td>\n",
       "      <td>123.65499</td>\n",
       "      <td>NaN</td>\n",
       "      <td>NaN</td>\n",
       "    </tr>\n",
       "    <tr>\n",
       "      <th>2013-10-07</th>\n",
       "      <td>121.79500</td>\n",
       "      <td>25</td>\n",
       "      <td>120.65533</td>\n",
       "      <td>121.33866</td>\n",
       "      <td>118.67466</td>\n",
       "      <td>108.58483</td>\n",
       "      <td>125.45500</td>\n",
       "      <td>123.65499</td>\n",
       "      <td>NaN</td>\n",
       "    </tr>\n",
       "    <tr>\n",
       "      <th>2013-10-08</th>\n",
       "      <td>123.03300</td>\n",
       "      <td>25</td>\n",
       "      <td>121.79500</td>\n",
       "      <td>120.65533</td>\n",
       "      <td>121.33866</td>\n",
       "      <td>118.67466</td>\n",
       "      <td>108.58483</td>\n",
       "      <td>125.45500</td>\n",
       "      <td>123.65499</td>\n",
       "    </tr>\n",
       "    <tr>\n",
       "      <th>2013-10-09</th>\n",
       "      <td>124.04900</td>\n",
       "      <td>25</td>\n",
       "      <td>123.03300</td>\n",
       "      <td>121.79500</td>\n",
       "      <td>120.65533</td>\n",
       "      <td>121.33866</td>\n",
       "      <td>118.67466</td>\n",
       "      <td>108.58483</td>\n",
       "      <td>125.45500</td>\n",
       "    </tr>\n",
       "    <tr>\n",
       "      <th>2013-10-10</th>\n",
       "      <td>125.96116</td>\n",
       "      <td>25</td>\n",
       "      <td>124.04900</td>\n",
       "      <td>123.03300</td>\n",
       "      <td>121.79500</td>\n",
       "      <td>120.65533</td>\n",
       "      <td>121.33866</td>\n",
       "      <td>118.67466</td>\n",
       "      <td>108.58483</td>\n",
       "    </tr>\n",
       "  </tbody>\n",
       "</table>\n",
       "</div>"
      ],
      "text/plain": [
       "                Price block_reward    Price+1    Price+2    Price+3  \\\n",
       "Date                                                                  \n",
       "2013-10-01  123.65499           25        NaN        NaN        NaN   \n",
       "2013-10-02  125.45500           25  123.65499        NaN        NaN   \n",
       "2013-10-03  108.58483           25  125.45500  123.65499        NaN   \n",
       "2013-10-04  118.67466           25  108.58483  125.45500  123.65499   \n",
       "2013-10-05  121.33866           25  118.67466  108.58483  125.45500   \n",
       "2013-10-06  120.65533           25  121.33866  118.67466  108.58483   \n",
       "2013-10-07  121.79500           25  120.65533  121.33866  118.67466   \n",
       "2013-10-08  123.03300           25  121.79500  120.65533  121.33866   \n",
       "2013-10-09  124.04900           25  123.03300  121.79500  120.65533   \n",
       "2013-10-10  125.96116           25  124.04900  123.03300  121.79500   \n",
       "\n",
       "              Price+4    Price+5    Price+6    Price+7  \n",
       "Date                                                    \n",
       "2013-10-01        NaN        NaN        NaN        NaN  \n",
       "2013-10-02        NaN        NaN        NaN        NaN  \n",
       "2013-10-03        NaN        NaN        NaN        NaN  \n",
       "2013-10-04        NaN        NaN        NaN        NaN  \n",
       "2013-10-05  123.65499        NaN        NaN        NaN  \n",
       "2013-10-06  125.45500  123.65499        NaN        NaN  \n",
       "2013-10-07  108.58483  125.45500  123.65499        NaN  \n",
       "2013-10-08  118.67466  108.58483  125.45500  123.65499  \n",
       "2013-10-09  121.33866  118.67466  108.58483  125.45500  \n",
       "2013-10-10  120.65533  121.33866  118.67466  108.58483  "
      ]
     },
     "execution_count": 117,
     "metadata": {},
     "output_type": "execute_result"
    }
   ],
   "source": [
    "# Make a copy of the Bitcoin historical data with block reward feature\n",
    "bitcoin_prices_windowed = bitcoin_prices_block.copy()\n",
    "\n",
    "# Add windowed columns\n",
    "for i in range(WINDOW_SIZE): # Shift values for each step in WINDOW_SIZE\n",
    "  bitcoin_prices_windowed[f\"Price+{i+1}\"] = bitcoin_prices_windowed[\"Price\"].shift(periods=i+1)\n",
    "bitcoin_prices_windowed.head(10)"
   ]
  },
  {
   "cell_type": "code",
   "execution_count": 118,
   "metadata": {
    "colab": {
     "base_uri": "https://localhost:8080/",
     "height": 281
    },
    "id": "VpMH6_Dax2wJ",
    "outputId": "3257cea9-515f-4e28-f855-20c459080c1c"
   },
   "outputs": [
    {
     "data": {
      "text/html": [
       "<div>\n",
       "<style scoped>\n",
       "    .dataframe tbody tr th:only-of-type {\n",
       "        vertical-align: middle;\n",
       "    }\n",
       "\n",
       "    .dataframe tbody tr th {\n",
       "        vertical-align: top;\n",
       "    }\n",
       "\n",
       "    .dataframe thead th {\n",
       "        text-align: right;\n",
       "    }\n",
       "</style>\n",
       "<table border=\"1\" class=\"dataframe\">\n",
       "  <thead>\n",
       "    <tr style=\"text-align: right;\">\n",
       "      <th></th>\n",
       "      <th>block_reward</th>\n",
       "      <th>Price+1</th>\n",
       "      <th>Price+2</th>\n",
       "      <th>Price+3</th>\n",
       "      <th>Price+4</th>\n",
       "      <th>Price+5</th>\n",
       "      <th>Price+6</th>\n",
       "      <th>Price+7</th>\n",
       "    </tr>\n",
       "    <tr>\n",
       "      <th>Date</th>\n",
       "      <th></th>\n",
       "      <th></th>\n",
       "      <th></th>\n",
       "      <th></th>\n",
       "      <th></th>\n",
       "      <th></th>\n",
       "      <th></th>\n",
       "      <th></th>\n",
       "    </tr>\n",
       "  </thead>\n",
       "  <tbody>\n",
       "    <tr>\n",
       "      <th>2013-10-08</th>\n",
       "      <td>25.0</td>\n",
       "      <td>121.794998</td>\n",
       "      <td>120.655327</td>\n",
       "      <td>121.338661</td>\n",
       "      <td>118.674660</td>\n",
       "      <td>108.584831</td>\n",
       "      <td>125.455002</td>\n",
       "      <td>123.654991</td>\n",
       "    </tr>\n",
       "    <tr>\n",
       "      <th>2013-10-09</th>\n",
       "      <td>25.0</td>\n",
       "      <td>123.032997</td>\n",
       "      <td>121.794998</td>\n",
       "      <td>120.655327</td>\n",
       "      <td>121.338661</td>\n",
       "      <td>118.674660</td>\n",
       "      <td>108.584831</td>\n",
       "      <td>125.455002</td>\n",
       "    </tr>\n",
       "    <tr>\n",
       "      <th>2013-10-10</th>\n",
       "      <td>25.0</td>\n",
       "      <td>124.049004</td>\n",
       "      <td>123.032997</td>\n",
       "      <td>121.794998</td>\n",
       "      <td>120.655327</td>\n",
       "      <td>121.338661</td>\n",
       "      <td>118.674660</td>\n",
       "      <td>108.584831</td>\n",
       "    </tr>\n",
       "    <tr>\n",
       "      <th>2013-10-11</th>\n",
       "      <td>25.0</td>\n",
       "      <td>125.961159</td>\n",
       "      <td>124.049004</td>\n",
       "      <td>123.032997</td>\n",
       "      <td>121.794998</td>\n",
       "      <td>120.655327</td>\n",
       "      <td>121.338661</td>\n",
       "      <td>118.674660</td>\n",
       "    </tr>\n",
       "    <tr>\n",
       "      <th>2013-10-12</th>\n",
       "      <td>25.0</td>\n",
       "      <td>125.279663</td>\n",
       "      <td>125.961159</td>\n",
       "      <td>124.049004</td>\n",
       "      <td>123.032997</td>\n",
       "      <td>121.794998</td>\n",
       "      <td>120.655327</td>\n",
       "      <td>121.338661</td>\n",
       "    </tr>\n",
       "  </tbody>\n",
       "</table>\n",
       "</div>"
      ],
      "text/plain": [
       "            block_reward     Price+1     Price+2     Price+3     Price+4  \\\n",
       "Date                                                                       \n",
       "2013-10-08          25.0  121.794998  120.655327  121.338661  118.674660   \n",
       "2013-10-09          25.0  123.032997  121.794998  120.655327  121.338661   \n",
       "2013-10-10          25.0  124.049004  123.032997  121.794998  120.655327   \n",
       "2013-10-11          25.0  125.961159  124.049004  123.032997  121.794998   \n",
       "2013-10-12          25.0  125.279663  125.961159  124.049004  123.032997   \n",
       "\n",
       "               Price+5     Price+6     Price+7  \n",
       "Date                                            \n",
       "2013-10-08  108.584831  125.455002  123.654991  \n",
       "2013-10-09  118.674660  108.584831  125.455002  \n",
       "2013-10-10  121.338661  118.674660  108.584831  \n",
       "2013-10-11  120.655327  121.338661  118.674660  \n",
       "2013-10-12  121.794998  120.655327  121.338661  "
      ]
     },
     "execution_count": 118,
     "metadata": {},
     "output_type": "execute_result"
    }
   ],
   "source": [
    "# Let's create X & y, remove the NaN's and convert to float32 to prevent TensorFlow errors \n",
    "X = bitcoin_prices_windowed.dropna().drop(\"Price\", axis=1).astype(np.float32) \n",
    "y = bitcoin_prices_windowed.dropna()[\"Price\"].astype(np.float32)\n",
    "X.head()"
   ]
  },
  {
   "cell_type": "code",
   "execution_count": 119,
   "metadata": {
    "colab": {
     "base_uri": "https://localhost:8080/"
    },
    "id": "5k_UmcPqzTmm",
    "outputId": "01f2e36f-e247-4127-8353-7b6dadea3bf5"
   },
   "outputs": [
    {
     "data": {
      "text/plain": [
       "Date\n",
       "2013-10-08    123.032997\n",
       "2013-10-09    124.049004\n",
       "2013-10-10    125.961159\n",
       "2013-10-11    125.279663\n",
       "2013-10-12    125.927498\n",
       "Name: Price, dtype: float32"
      ]
     },
     "execution_count": 119,
     "metadata": {},
     "output_type": "execute_result"
    }
   ],
   "source": [
    "# View labels\n",
    "y.head()"
   ]
  },
  {
   "cell_type": "markdown",
   "metadata": {
    "id": "ECzmudIK8BW5"
   },
   "source": [
    "What a good looking dataset, let's split it into train and test sets using an 80/20 split just as we've done before."
   ]
  },
  {
   "cell_type": "code",
   "execution_count": 120,
   "metadata": {
    "colab": {
     "base_uri": "https://localhost:8080/"
    },
    "id": "8GtEFj6HsVwy",
    "outputId": "2a267038-1cb6-49eb-efc0-abe6fcfa8f10"
   },
   "outputs": [
    {
     "data": {
      "text/plain": [
       "(2224, 2224, 556, 556)"
      ]
     },
     "execution_count": 120,
     "metadata": {},
     "output_type": "execute_result"
    }
   ],
   "source": [
    "# Make train and test sets\n",
    "split_size = int(len(X) * 0.8)\n",
    "X_train, y_train = X[:split_size], y[:split_size]\n",
    "X_test, y_test = X[split_size:], y[split_size:]\n",
    "len(X_train), len(y_train), len(X_test), len(y_test)"
   ]
  },
  {
   "cell_type": "markdown",
   "metadata": {
    "id": "Pbfw5uqEzlZ3"
   },
   "source": [
    "Training and test multivariate time series datasets made! Time to build a model."
   ]
  },
  {
   "cell_type": "markdown",
   "metadata": {
    "id": "APXrtOva8cNH"
   },
   "source": [
    "## Model 6: Dense (multivariate time series)\n",
    "\n",
    " "
   ]
  },
  {
   "cell_type": "code",
   "execution_count": 121,
   "metadata": {
    "colab": {
     "base_uri": "https://localhost:8080/"
    },
    "id": "AppTkPafzVyg",
    "outputId": "0e0eb027-bead-464d-b494-8fca9b42d782"
   },
   "outputs": [
    {
     "name": "stdout",
     "output_type": "stream",
     "text": [
      "INFO:tensorflow:Assets written to: model_experiments\\model_6_dense_multivariate\\assets\n"
     ]
    },
    {
     "name": "stderr",
     "output_type": "stream",
     "text": [
      "INFO:tensorflow:Assets written to: model_experiments\\model_6_dense_multivariate\\assets\n"
     ]
    },
    {
     "name": "stdout",
     "output_type": "stream",
     "text": [
      "INFO:tensorflow:Assets written to: model_experiments\\model_6_dense_multivariate\\assets\n"
     ]
    },
    {
     "name": "stderr",
     "output_type": "stream",
     "text": [
      "INFO:tensorflow:Assets written to: model_experiments\\model_6_dense_multivariate\\assets\n"
     ]
    },
    {
     "name": "stdout",
     "output_type": "stream",
     "text": [
      "INFO:tensorflow:Assets written to: model_experiments\\model_6_dense_multivariate\\assets\n"
     ]
    },
    {
     "name": "stderr",
     "output_type": "stream",
     "text": [
      "INFO:tensorflow:Assets written to: model_experiments\\model_6_dense_multivariate\\assets\n"
     ]
    },
    {
     "name": "stdout",
     "output_type": "stream",
     "text": [
      "INFO:tensorflow:Assets written to: model_experiments\\model_6_dense_multivariate\\assets\n"
     ]
    },
    {
     "name": "stderr",
     "output_type": "stream",
     "text": [
      "INFO:tensorflow:Assets written to: model_experiments\\model_6_dense_multivariate\\assets\n"
     ]
    },
    {
     "name": "stdout",
     "output_type": "stream",
     "text": [
      "INFO:tensorflow:Assets written to: model_experiments\\model_6_dense_multivariate\\assets\n"
     ]
    },
    {
     "name": "stderr",
     "output_type": "stream",
     "text": [
      "INFO:tensorflow:Assets written to: model_experiments\\model_6_dense_multivariate\\assets\n"
     ]
    },
    {
     "name": "stdout",
     "output_type": "stream",
     "text": [
      "INFO:tensorflow:Assets written to: model_experiments\\model_6_dense_multivariate\\assets\n"
     ]
    },
    {
     "name": "stderr",
     "output_type": "stream",
     "text": [
      "INFO:tensorflow:Assets written to: model_experiments\\model_6_dense_multivariate\\assets\n"
     ]
    },
    {
     "name": "stdout",
     "output_type": "stream",
     "text": [
      "INFO:tensorflow:Assets written to: model_experiments\\model_6_dense_multivariate\\assets\n"
     ]
    },
    {
     "name": "stderr",
     "output_type": "stream",
     "text": [
      "INFO:tensorflow:Assets written to: model_experiments\\model_6_dense_multivariate\\assets\n"
     ]
    },
    {
     "name": "stdout",
     "output_type": "stream",
     "text": [
      "INFO:tensorflow:Assets written to: model_experiments\\model_6_dense_multivariate\\assets\n"
     ]
    },
    {
     "name": "stderr",
     "output_type": "stream",
     "text": [
      "INFO:tensorflow:Assets written to: model_experiments\\model_6_dense_multivariate\\assets\n"
     ]
    },
    {
     "name": "stdout",
     "output_type": "stream",
     "text": [
      "INFO:tensorflow:Assets written to: model_experiments\\model_6_dense_multivariate\\assets\n"
     ]
    },
    {
     "name": "stderr",
     "output_type": "stream",
     "text": [
      "INFO:tensorflow:Assets written to: model_experiments\\model_6_dense_multivariate\\assets\n"
     ]
    },
    {
     "name": "stdout",
     "output_type": "stream",
     "text": [
      "INFO:tensorflow:Assets written to: model_experiments\\model_6_dense_multivariate\\assets\n"
     ]
    },
    {
     "name": "stderr",
     "output_type": "stream",
     "text": [
      "INFO:tensorflow:Assets written to: model_experiments\\model_6_dense_multivariate\\assets\n"
     ]
    },
    {
     "name": "stdout",
     "output_type": "stream",
     "text": [
      "INFO:tensorflow:Assets written to: model_experiments\\model_6_dense_multivariate\\assets\n"
     ]
    },
    {
     "name": "stderr",
     "output_type": "stream",
     "text": [
      "INFO:tensorflow:Assets written to: model_experiments\\model_6_dense_multivariate\\assets\n"
     ]
    },
    {
     "name": "stdout",
     "output_type": "stream",
     "text": [
      "INFO:tensorflow:Assets written to: model_experiments\\model_6_dense_multivariate\\assets\n"
     ]
    },
    {
     "name": "stderr",
     "output_type": "stream",
     "text": [
      "INFO:tensorflow:Assets written to: model_experiments\\model_6_dense_multivariate\\assets\n"
     ]
    },
    {
     "name": "stdout",
     "output_type": "stream",
     "text": [
      "INFO:tensorflow:Assets written to: model_experiments\\model_6_dense_multivariate\\assets\n"
     ]
    },
    {
     "name": "stderr",
     "output_type": "stream",
     "text": [
      "INFO:tensorflow:Assets written to: model_experiments\\model_6_dense_multivariate\\assets\n"
     ]
    },
    {
     "name": "stdout",
     "output_type": "stream",
     "text": [
      "INFO:tensorflow:Assets written to: model_experiments\\model_6_dense_multivariate\\assets\n"
     ]
    },
    {
     "name": "stderr",
     "output_type": "stream",
     "text": [
      "INFO:tensorflow:Assets written to: model_experiments\\model_6_dense_multivariate\\assets\n"
     ]
    },
    {
     "name": "stdout",
     "output_type": "stream",
     "text": [
      "INFO:tensorflow:Assets written to: model_experiments\\model_6_dense_multivariate\\assets\n"
     ]
    },
    {
     "name": "stderr",
     "output_type": "stream",
     "text": [
      "INFO:tensorflow:Assets written to: model_experiments\\model_6_dense_multivariate\\assets\n"
     ]
    },
    {
     "name": "stdout",
     "output_type": "stream",
     "text": [
      "INFO:tensorflow:Assets written to: model_experiments\\model_6_dense_multivariate\\assets\n"
     ]
    },
    {
     "name": "stderr",
     "output_type": "stream",
     "text": [
      "INFO:tensorflow:Assets written to: model_experiments\\model_6_dense_multivariate\\assets\n"
     ]
    },
    {
     "name": "stdout",
     "output_type": "stream",
     "text": [
      "INFO:tensorflow:Assets written to: model_experiments\\model_6_dense_multivariate\\assets\n"
     ]
    },
    {
     "name": "stderr",
     "output_type": "stream",
     "text": [
      "INFO:tensorflow:Assets written to: model_experiments\\model_6_dense_multivariate\\assets\n"
     ]
    },
    {
     "name": "stdout",
     "output_type": "stream",
     "text": [
      "INFO:tensorflow:Assets written to: model_experiments\\model_6_dense_multivariate\\assets\n"
     ]
    },
    {
     "name": "stderr",
     "output_type": "stream",
     "text": [
      "INFO:tensorflow:Assets written to: model_experiments\\model_6_dense_multivariate\\assets\n"
     ]
    },
    {
     "name": "stdout",
     "output_type": "stream",
     "text": [
      "INFO:tensorflow:Assets written to: model_experiments\\model_6_dense_multivariate\\assets\n"
     ]
    },
    {
     "name": "stderr",
     "output_type": "stream",
     "text": [
      "INFO:tensorflow:Assets written to: model_experiments\\model_6_dense_multivariate\\assets\n"
     ]
    },
    {
     "name": "stdout",
     "output_type": "stream",
     "text": [
      "INFO:tensorflow:Assets written to: model_experiments\\model_6_dense_multivariate\\assets\n"
     ]
    },
    {
     "name": "stderr",
     "output_type": "stream",
     "text": [
      "INFO:tensorflow:Assets written to: model_experiments\\model_6_dense_multivariate\\assets\n"
     ]
    },
    {
     "name": "stdout",
     "output_type": "stream",
     "text": [
      "INFO:tensorflow:Assets written to: model_experiments\\model_6_dense_multivariate\\assets\n"
     ]
    },
    {
     "name": "stderr",
     "output_type": "stream",
     "text": [
      "INFO:tensorflow:Assets written to: model_experiments\\model_6_dense_multivariate\\assets\n"
     ]
    },
    {
     "name": "stdout",
     "output_type": "stream",
     "text": [
      "INFO:tensorflow:Assets written to: model_experiments\\model_6_dense_multivariate\\assets\n"
     ]
    },
    {
     "name": "stderr",
     "output_type": "stream",
     "text": [
      "INFO:tensorflow:Assets written to: model_experiments\\model_6_dense_multivariate\\assets\n"
     ]
    },
    {
     "name": "stdout",
     "output_type": "stream",
     "text": [
      "INFO:tensorflow:Assets written to: model_experiments\\model_6_dense_multivariate\\assets\n"
     ]
    },
    {
     "name": "stderr",
     "output_type": "stream",
     "text": [
      "INFO:tensorflow:Assets written to: model_experiments\\model_6_dense_multivariate\\assets\n"
     ]
    },
    {
     "name": "stdout",
     "output_type": "stream",
     "text": [
      "INFO:tensorflow:Assets written to: model_experiments\\model_6_dense_multivariate\\assets\n"
     ]
    },
    {
     "name": "stderr",
     "output_type": "stream",
     "text": [
      "INFO:tensorflow:Assets written to: model_experiments\\model_6_dense_multivariate\\assets\n"
     ]
    },
    {
     "name": "stdout",
     "output_type": "stream",
     "text": [
      "INFO:tensorflow:Assets written to: model_experiments\\model_6_dense_multivariate\\assets\n"
     ]
    },
    {
     "name": "stderr",
     "output_type": "stream",
     "text": [
      "INFO:tensorflow:Assets written to: model_experiments\\model_6_dense_multivariate\\assets\n"
     ]
    },
    {
     "name": "stdout",
     "output_type": "stream",
     "text": [
      "INFO:tensorflow:Assets written to: model_experiments\\model_6_dense_multivariate\\assets\n"
     ]
    },
    {
     "name": "stderr",
     "output_type": "stream",
     "text": [
      "INFO:tensorflow:Assets written to: model_experiments\\model_6_dense_multivariate\\assets\n"
     ]
    },
    {
     "name": "stdout",
     "output_type": "stream",
     "text": [
      "INFO:tensorflow:Assets written to: model_experiments\\model_6_dense_multivariate\\assets\n"
     ]
    },
    {
     "name": "stderr",
     "output_type": "stream",
     "text": [
      "INFO:tensorflow:Assets written to: model_experiments\\model_6_dense_multivariate\\assets\n"
     ]
    },
    {
     "name": "stdout",
     "output_type": "stream",
     "text": [
      "INFO:tensorflow:Assets written to: model_experiments\\model_6_dense_multivariate\\assets\n"
     ]
    },
    {
     "name": "stderr",
     "output_type": "stream",
     "text": [
      "INFO:tensorflow:Assets written to: model_experiments\\model_6_dense_multivariate\\assets\n"
     ]
    },
    {
     "name": "stdout",
     "output_type": "stream",
     "text": [
      "INFO:tensorflow:Assets written to: model_experiments\\model_6_dense_multivariate\\assets\n"
     ]
    },
    {
     "name": "stderr",
     "output_type": "stream",
     "text": [
      "INFO:tensorflow:Assets written to: model_experiments\\model_6_dense_multivariate\\assets\n"
     ]
    },
    {
     "name": "stdout",
     "output_type": "stream",
     "text": [
      "INFO:tensorflow:Assets written to: model_experiments\\model_6_dense_multivariate\\assets\n"
     ]
    },
    {
     "name": "stderr",
     "output_type": "stream",
     "text": [
      "INFO:tensorflow:Assets written to: model_experiments\\model_6_dense_multivariate\\assets\n"
     ]
    },
    {
     "name": "stdout",
     "output_type": "stream",
     "text": [
      "INFO:tensorflow:Assets written to: model_experiments\\model_6_dense_multivariate\\assets\n"
     ]
    },
    {
     "name": "stderr",
     "output_type": "stream",
     "text": [
      "INFO:tensorflow:Assets written to: model_experiments\\model_6_dense_multivariate\\assets\n"
     ]
    },
    {
     "name": "stdout",
     "output_type": "stream",
     "text": [
      "INFO:tensorflow:Assets written to: model_experiments\\model_6_dense_multivariate\\assets\n"
     ]
    },
    {
     "name": "stderr",
     "output_type": "stream",
     "text": [
      "INFO:tensorflow:Assets written to: model_experiments\\model_6_dense_multivariate\\assets\n"
     ]
    },
    {
     "name": "stdout",
     "output_type": "stream",
     "text": [
      "INFO:tensorflow:Assets written to: model_experiments\\model_6_dense_multivariate\\assets\n"
     ]
    },
    {
     "name": "stderr",
     "output_type": "stream",
     "text": [
      "INFO:tensorflow:Assets written to: model_experiments\\model_6_dense_multivariate\\assets\n"
     ]
    },
    {
     "name": "stdout",
     "output_type": "stream",
     "text": [
      "INFO:tensorflow:Assets written to: model_experiments\\model_6_dense_multivariate\\assets\n"
     ]
    },
    {
     "name": "stderr",
     "output_type": "stream",
     "text": [
      "INFO:tensorflow:Assets written to: model_experiments\\model_6_dense_multivariate\\assets\n"
     ]
    },
    {
     "name": "stdout",
     "output_type": "stream",
     "text": [
      "INFO:tensorflow:Assets written to: model_experiments\\model_6_dense_multivariate\\assets\n"
     ]
    },
    {
     "name": "stderr",
     "output_type": "stream",
     "text": [
      "INFO:tensorflow:Assets written to: model_experiments\\model_6_dense_multivariate\\assets\n"
     ]
    },
    {
     "data": {
      "text/plain": [
       "<keras.callbacks.History at 0x221f24ed430>"
      ]
     },
     "execution_count": 121,
     "metadata": {},
     "output_type": "execute_result"
    }
   ],
   "source": [
    "tf.random.set_seed(42)\n",
    "\n",
    "# Make multivariate time series model\n",
    "model_6 = tf.keras.Sequential([\n",
    "  layers.Dense(128, activation=\"relu\"),\n",
    "  # layers.Dense(128, activation=\"relu\"), # adding an extra layer here should lead to beating the naive model\n",
    "  layers.Dense(HORIZON)\n",
    "], name=\"model_6_dense_multivariate\")\n",
    "\n",
    "# Compile\n",
    "model_6.compile(loss=\"mae\",\n",
    "                optimizer=tf.keras.optimizers.Adam())\n",
    "\n",
    "# Fit\n",
    "model_6.fit(X_train, y_train,\n",
    "            epochs=120,\n",
    "            batch_size=128,\n",
    "            verbose=0, # only print 1 line per epoch\n",
    "            validation_data=(X_test, y_test),\n",
    "            callbacks=[create_model_checkpoint(model_name=model_6.name)])"
   ]
  },
  {
   "cell_type": "code",
   "execution_count": 122,
   "metadata": {
    "colab": {
     "base_uri": "https://localhost:8080/"
    },
    "id": "_uXgORhbwYF-",
    "outputId": "ef5d4f6f-97c2-4336-cf66-4b47b3417692"
   },
   "outputs": [
    {
     "name": "stdout",
     "output_type": "stream",
     "text": [
      "Model: \"model_6_dense_multivariate\"\n",
      "_________________________________________________________________\n",
      " Layer (type)                Output Shape              Param #   \n",
      "=================================================================\n",
      " dense_14 (Dense)            (None, 128)               1152      \n",
      "                                                                 \n",
      " dense_15 (Dense)            (None, 1)                 129       \n",
      "                                                                 \n",
      "=================================================================\n",
      "Total params: 1,281\n",
      "Trainable params: 1,281\n",
      "Non-trainable params: 0\n",
      "_________________________________________________________________\n"
     ]
    }
   ],
   "source": [
    "model_6.summary()"
   ]
  },
  {
   "cell_type": "code",
   "execution_count": 123,
   "metadata": {
    "colab": {
     "base_uri": "https://localhost:8080/"
    },
    "id": "K1miRk_b3g97",
    "outputId": "1220b6c7-566e-4c49-b520-fe3f032d2541"
   },
   "outputs": [
    {
     "name": "stdout",
     "output_type": "stream",
     "text": [
      "18/18 [==============================] - 0s 2ms/step - loss: 568.1834\n"
     ]
    },
    {
     "data": {
      "text/plain": [
       "568.1834106445312"
      ]
     },
     "execution_count": 123,
     "metadata": {},
     "output_type": "execute_result"
    }
   ],
   "source": [
    "# Make sure best model is loaded and evaluate\n",
    "model_6 = tf.keras.models.load_model(\"model_experiments/model_6_dense_multivariate\")\n",
    "model_6.evaluate(X_test, y_test)"
   ]
  },
  {
   "cell_type": "code",
   "execution_count": 124,
   "metadata": {
    "colab": {
     "base_uri": "https://localhost:8080/"
    },
    "id": "1t9d_Yyx17dE",
    "outputId": "8df3b289-ade2-4628-8d73-0783c1fe189f"
   },
   "outputs": [
    {
     "name": "stdout",
     "output_type": "stream",
     "text": [
      "18/18 [==============================] - 0s 1ms/step\n"
     ]
    },
    {
     "data": {
      "text/plain": [
       "<tf.Tensor: shape=(10,), dtype=float32, numpy=\n",
       "array([8845.445, 8772.664, 9060.355, 8765.934, 8731.343, 8771.575,\n",
       "       8679.82 , 8496.494, 8480.422, 8531.794], dtype=float32)>"
      ]
     },
     "execution_count": 124,
     "metadata": {},
     "output_type": "execute_result"
    }
   ],
   "source": [
    "# Make predictions on multivariate data\n",
    "model_6_preds = tf.squeeze(model_6.predict(X_test))\n",
    "model_6_preds[:10]"
   ]
  },
  {
   "cell_type": "code",
   "execution_count": 125,
   "metadata": {
    "colab": {
     "base_uri": "https://localhost:8080/"
    },
    "id": "MsMPgRO117aB",
    "outputId": "154f0ac2-527e-4276-b7d3-ad4199dce071"
   },
   "outputs": [
    {
     "data": {
      "text/plain": [
       "{'mae': 568.1832,\n",
       " 'mse': 1159775.8,\n",
       " 'rmse': 1076.9288,\n",
       " 'mape': 2.529535,\n",
       " 'mase': 0.9981406}"
      ]
     },
     "execution_count": 125,
     "metadata": {},
     "output_type": "execute_result"
    }
   ],
   "source": [
    "# Evaluate preds\n",
    "model_6_results = evaluate_preds(y_true=y_test,\n",
    "                                 y_pred=model_6_preds)\n",
    "model_6_results"
   ]
  },
  {
   "cell_type": "markdown",
   "metadata": {
    "id": "KY6-tZcK0jJF"
   },
   "source": [
    "Hmmm... how do these results compare to `model_1` (same window size and horizon but without the block reward feature)?"
   ]
  },
  {
   "cell_type": "code",
   "execution_count": 126,
   "metadata": {
    "colab": {
     "base_uri": "https://localhost:8080/"
    },
    "id": "HwS5Onbh0ir7",
    "outputId": "d64a9ddf-2756-4365-99c5-1d8a9de2e961"
   },
   "outputs": [
    {
     "data": {
      "text/plain": [
       "{'mae': 599.258,\n",
       " 'mse': 1256225.6,\n",
       " 'rmse': 1120.8147,\n",
       " 'mape': 2.7131338,\n",
       " 'mase': 1.0527303}"
      ]
     },
     "execution_count": 126,
     "metadata": {},
     "output_type": "execute_result"
    }
   ],
   "source": [
    "model_1_results"
   ]
  },
  {
   "cell_type": "markdown",
   "metadata": {
    "id": "TPkzQccU-dtR"
   },
   "source": [
    "## Model 7: N-BEATS algorithm\n",
    "\n",
    " "
   ]
  },
  {
   "cell_type": "markdown",
   "metadata": {
    "id": "Qukx3nigVsCg"
   },
   "source": [
    "### Building and testing an N-BEATS block layer\n",
    "\n",
    "Let's start by building an N-BEATS block layer, we'll write the code first and then discuss what's going on."
   ]
  },
  {
   "cell_type": "code",
   "execution_count": 127,
   "metadata": {
    "id": "llwhXCn9-hQt"
   },
   "outputs": [],
   "source": [
    "# Create NBeatsBlock custom layer \n",
    "class NBeatsBlock(tf.keras.layers.Layer):\n",
    "  def __init__(self, # the constructor takes all the hyperparameters for the layer\n",
    "               input_size: int,\n",
    "               theta_size: int,\n",
    "               horizon: int,\n",
    "               n_neurons: int,\n",
    "               n_layers: int,\n",
    "               **kwargs): # the **kwargs argument takes care of all of the arguments for the parent class (input_shape, trainable, name)\n",
    "    super().__init__(**kwargs)\n",
    "    self.input_size = input_size\n",
    "    self.theta_size = theta_size\n",
    "    self.horizon = horizon\n",
    "    self.n_neurons = n_neurons\n",
    "    self.n_layers = n_layers\n",
    "\n",
    "    # Block contains stack of 4 fully connected layers each has ReLU activation\n",
    "    self.hidden = [tf.keras.layers.Dense(n_neurons, activation=\"relu\") for _ in range(n_layers)]\n",
    "    # Output of block is a theta layer with linear activation\n",
    "    self.theta_layer = tf.keras.layers.Dense(theta_size, activation=\"linear\", name=\"theta\")\n",
    "\n",
    "  def call(self, inputs): # the call method is what runs when the layer is called \n",
    "    x = inputs \n",
    "    for layer in self.hidden: # pass inputs through each hidden layer \n",
    "      x = layer(x)\n",
    "    theta = self.theta_layer(x) \n",
    "    # Output the backcast and forecast from theta\n",
    "    backcast, forecast = theta[:, :self.input_size], theta[:, -self.horizon:]\n",
    "    return backcast, forecast"
   ]
  },
  {
   "cell_type": "code",
   "execution_count": 128,
   "metadata": {
    "id": "l6mdJ3pSOGwG"
   },
   "outputs": [],
   "source": [
    "# Set up dummy NBeatsBlock layer to represent inputs and outputs\n",
    "dummy_nbeats_block_layer = NBeatsBlock(input_size=WINDOW_SIZE, \n",
    "                                       theta_size=WINDOW_SIZE+HORIZON, # backcast + forecast \n",
    "                                       horizon=HORIZON,\n",
    "                                       n_neurons=128,\n",
    "                                       n_layers=4)"
   ]
  },
  {
   "cell_type": "code",
   "execution_count": 129,
   "metadata": {
    "colab": {
     "base_uri": "https://localhost:8080/"
    },
    "id": "ne7XLO4gAGfm",
    "outputId": "e3177717-73d5-4b53-be1d-b4bb4d4e7da6"
   },
   "outputs": [
    {
     "data": {
      "text/plain": [
       "<tf.Tensor: shape=(1, 7), dtype=int32, numpy=array([[1, 2, 3, 4, 5, 6, 7]])>"
      ]
     },
     "execution_count": 129,
     "metadata": {},
     "output_type": "execute_result"
    }
   ],
   "source": [
    "# Create dummy inputs (have to be same size as input_size)\n",
    "dummy_inputs = tf.expand_dims(tf.range(WINDOW_SIZE) + 1, axis=0) # input shape to the model has to reflect Dense layer input requirements (ndim=2)\n",
    "dummy_inputs"
   ]
  },
  {
   "cell_type": "code",
   "execution_count": 130,
   "metadata": {
    "colab": {
     "base_uri": "https://localhost:8080/"
    },
    "id": "DtAT8Onk-hX_",
    "outputId": "af1d6d68-d807-43fe-f54c-d1fa8589df8b"
   },
   "outputs": [
    {
     "name": "stdout",
     "output_type": "stream",
     "text": [
      "Backcast: [ 0.16897504  0.84619     1.4174215  -0.83255535  0.5823934  -0.15420172\n",
      "  0.47122666]\n",
      "Forecast: -0.564083993434906\n"
     ]
    }
   ],
   "source": [
    "# Pass dummy inputs to dummy NBeatsBlock layer\n",
    "backcast, forecast = dummy_nbeats_block_layer(dummy_inputs)\n",
    "# These are the activation outputs of the theta layer (they'll be random due to no training of the model)\n",
    "print(f\"Backcast: {tf.squeeze(backcast.numpy())}\")\n",
    "print(f\"Forecast: {tf.squeeze(forecast.numpy())}\")"
   ]
  },
  {
   "cell_type": "code",
   "execution_count": 131,
   "metadata": {
    "id": "s2IMhORJV3gg"
   },
   "outputs": [],
   "source": [
    "HORIZON = 1 # how far to predict forward\n",
    "WINDOW_SIZE = 7 # how far to lookback"
   ]
  },
  {
   "cell_type": "code",
   "execution_count": 132,
   "metadata": {
    "colab": {
     "base_uri": "https://localhost:8080/",
     "height": 237
    },
    "id": "WsUh9T2uvpA1",
    "outputId": "6d30a510-b79d-476f-8f54-36f4ad3123d7"
   },
   "outputs": [
    {
     "data": {
      "text/html": [
       "<div>\n",
       "<style scoped>\n",
       "    .dataframe tbody tr th:only-of-type {\n",
       "        vertical-align: middle;\n",
       "    }\n",
       "\n",
       "    .dataframe tbody tr th {\n",
       "        vertical-align: top;\n",
       "    }\n",
       "\n",
       "    .dataframe thead th {\n",
       "        text-align: right;\n",
       "    }\n",
       "</style>\n",
       "<table border=\"1\" class=\"dataframe\">\n",
       "  <thead>\n",
       "    <tr style=\"text-align: right;\">\n",
       "      <th></th>\n",
       "      <th>Price</th>\n",
       "    </tr>\n",
       "    <tr>\n",
       "      <th>Date</th>\n",
       "      <th></th>\n",
       "    </tr>\n",
       "  </thead>\n",
       "  <tbody>\n",
       "    <tr>\n",
       "      <th>2013-10-01</th>\n",
       "      <td>123.65499</td>\n",
       "    </tr>\n",
       "    <tr>\n",
       "      <th>2013-10-02</th>\n",
       "      <td>125.45500</td>\n",
       "    </tr>\n",
       "    <tr>\n",
       "      <th>2013-10-03</th>\n",
       "      <td>108.58483</td>\n",
       "    </tr>\n",
       "    <tr>\n",
       "      <th>2013-10-04</th>\n",
       "      <td>118.67466</td>\n",
       "    </tr>\n",
       "    <tr>\n",
       "      <th>2013-10-05</th>\n",
       "      <td>121.33866</td>\n",
       "    </tr>\n",
       "  </tbody>\n",
       "</table>\n",
       "</div>"
      ],
      "text/plain": [
       "                Price\n",
       "Date                 \n",
       "2013-10-01  123.65499\n",
       "2013-10-02  125.45500\n",
       "2013-10-03  108.58483\n",
       "2013-10-04  118.67466\n",
       "2013-10-05  121.33866"
      ]
     },
     "execution_count": 132,
     "metadata": {},
     "output_type": "execute_result"
    }
   ],
   "source": [
    "# Create NBEATS data inputs (NBEATS works with univariate time series)\n",
    "bitcoin_prices.head()"
   ]
  },
  {
   "cell_type": "code",
   "execution_count": 133,
   "metadata": {
    "colab": {
     "base_uri": "https://localhost:8080/",
     "height": 237
    },
    "id": "iqAnqJvVvsgb",
    "outputId": "f98ab57d-b232-48e4-b583-15199324cbab"
   },
   "outputs": [
    {
     "data": {
      "text/html": [
       "<div>\n",
       "<style scoped>\n",
       "    .dataframe tbody tr th:only-of-type {\n",
       "        vertical-align: middle;\n",
       "    }\n",
       "\n",
       "    .dataframe tbody tr th {\n",
       "        vertical-align: top;\n",
       "    }\n",
       "\n",
       "    .dataframe thead th {\n",
       "        text-align: right;\n",
       "    }\n",
       "</style>\n",
       "<table border=\"1\" class=\"dataframe\">\n",
       "  <thead>\n",
       "    <tr style=\"text-align: right;\">\n",
       "      <th></th>\n",
       "      <th>Price</th>\n",
       "      <th>Price+1</th>\n",
       "      <th>Price+2</th>\n",
       "      <th>Price+3</th>\n",
       "      <th>Price+4</th>\n",
       "      <th>Price+5</th>\n",
       "      <th>Price+6</th>\n",
       "      <th>Price+7</th>\n",
       "    </tr>\n",
       "    <tr>\n",
       "      <th>Date</th>\n",
       "      <th></th>\n",
       "      <th></th>\n",
       "      <th></th>\n",
       "      <th></th>\n",
       "      <th></th>\n",
       "      <th></th>\n",
       "      <th></th>\n",
       "      <th></th>\n",
       "    </tr>\n",
       "  </thead>\n",
       "  <tbody>\n",
       "    <tr>\n",
       "      <th>2013-10-08</th>\n",
       "      <td>123.03300</td>\n",
       "      <td>121.79500</td>\n",
       "      <td>120.65533</td>\n",
       "      <td>121.33866</td>\n",
       "      <td>118.67466</td>\n",
       "      <td>108.58483</td>\n",
       "      <td>125.45500</td>\n",
       "      <td>123.65499</td>\n",
       "    </tr>\n",
       "    <tr>\n",
       "      <th>2013-10-09</th>\n",
       "      <td>124.04900</td>\n",
       "      <td>123.03300</td>\n",
       "      <td>121.79500</td>\n",
       "      <td>120.65533</td>\n",
       "      <td>121.33866</td>\n",
       "      <td>118.67466</td>\n",
       "      <td>108.58483</td>\n",
       "      <td>125.45500</td>\n",
       "    </tr>\n",
       "    <tr>\n",
       "      <th>2013-10-10</th>\n",
       "      <td>125.96116</td>\n",
       "      <td>124.04900</td>\n",
       "      <td>123.03300</td>\n",
       "      <td>121.79500</td>\n",
       "      <td>120.65533</td>\n",
       "      <td>121.33866</td>\n",
       "      <td>118.67466</td>\n",
       "      <td>108.58483</td>\n",
       "    </tr>\n",
       "    <tr>\n",
       "      <th>2013-10-11</th>\n",
       "      <td>125.27966</td>\n",
       "      <td>125.96116</td>\n",
       "      <td>124.04900</td>\n",
       "      <td>123.03300</td>\n",
       "      <td>121.79500</td>\n",
       "      <td>120.65533</td>\n",
       "      <td>121.33866</td>\n",
       "      <td>118.67466</td>\n",
       "    </tr>\n",
       "    <tr>\n",
       "      <th>2013-10-12</th>\n",
       "      <td>125.92750</td>\n",
       "      <td>125.27966</td>\n",
       "      <td>125.96116</td>\n",
       "      <td>124.04900</td>\n",
       "      <td>123.03300</td>\n",
       "      <td>121.79500</td>\n",
       "      <td>120.65533</td>\n",
       "      <td>121.33866</td>\n",
       "    </tr>\n",
       "  </tbody>\n",
       "</table>\n",
       "</div>"
      ],
      "text/plain": [
       "                Price    Price+1    Price+2    Price+3    Price+4    Price+5  \\\n",
       "Date                                                                           \n",
       "2013-10-08  123.03300  121.79500  120.65533  121.33866  118.67466  108.58483   \n",
       "2013-10-09  124.04900  123.03300  121.79500  120.65533  121.33866  118.67466   \n",
       "2013-10-10  125.96116  124.04900  123.03300  121.79500  120.65533  121.33866   \n",
       "2013-10-11  125.27966  125.96116  124.04900  123.03300  121.79500  120.65533   \n",
       "2013-10-12  125.92750  125.27966  125.96116  124.04900  123.03300  121.79500   \n",
       "\n",
       "              Price+6    Price+7  \n",
       "Date                              \n",
       "2013-10-08  125.45500  123.65499  \n",
       "2013-10-09  108.58483  125.45500  \n",
       "2013-10-10  118.67466  108.58483  \n",
       "2013-10-11  121.33866  118.67466  \n",
       "2013-10-12  120.65533  121.33866  "
      ]
     },
     "execution_count": 133,
     "metadata": {},
     "output_type": "execute_result"
    }
   ],
   "source": [
    "# Add windowed columns\n",
    "bitcoin_prices_nbeats = bitcoin_prices.copy()\n",
    "for i in range(WINDOW_SIZE):\n",
    "  bitcoin_prices_nbeats[f\"Price+{i+1}\"] = bitcoin_prices_nbeats[\"Price\"].shift(periods=i+1)\n",
    "bitcoin_prices_nbeats.dropna().head()"
   ]
  },
  {
   "cell_type": "code",
   "execution_count": 134,
   "metadata": {
    "colab": {
     "base_uri": "https://localhost:8080/"
    },
    "id": "2tOweM-6wRBH",
    "outputId": "b0d8b652-91ad-42d1-f57e-50e1d45abc59"
   },
   "outputs": [
    {
     "data": {
      "text/plain": [
       "(2224, 2224, 556, 556)"
      ]
     },
     "execution_count": 134,
     "metadata": {},
     "output_type": "execute_result"
    }
   ],
   "source": [
    "# Make features and labels\n",
    "X = bitcoin_prices_nbeats.dropna().drop(\"Price\", axis=1)\n",
    "y = bitcoin_prices_nbeats.dropna()[\"Price\"]\n",
    "\n",
    "# Make train and test sets\n",
    "split_size = int(len(X) * 0.8)\n",
    "X_train, y_train = X[:split_size], y[:split_size]\n",
    "X_test, y_test = X[split_size:], y[split_size:]\n",
    "len(X_train), len(y_train), len(X_test), len(y_test)"
   ]
  },
  {
   "cell_type": "code",
   "execution_count": 135,
   "metadata": {
    "colab": {
     "base_uri": "https://localhost:8080/"
    },
    "id": "BxCwT-b1v6cw",
    "outputId": "c2e7e190-63dc-4f62-e6f7-5897962cdede"
   },
   "outputs": [
    {
     "data": {
      "text/plain": [
       "(<PrefetchDataset element_spec=(TensorSpec(shape=(None, 7), dtype=tf.float64, name=None), TensorSpec(shape=(None,), dtype=tf.float64, name=None))>,\n",
       " <PrefetchDataset element_spec=(TensorSpec(shape=(None, 7), dtype=tf.float64, name=None), TensorSpec(shape=(None,), dtype=tf.float64, name=None))>)"
      ]
     },
     "execution_count": 135,
     "metadata": {},
     "output_type": "execute_result"
    }
   ],
   "source": [
    "# 1. Turn train and test arrays into tensor Datasets\n",
    "train_features_dataset = tf.data.Dataset.from_tensor_slices(X_train)\n",
    "train_labels_dataset = tf.data.Dataset.from_tensor_slices(y_train)\n",
    "\n",
    "test_features_dataset = tf.data.Dataset.from_tensor_slices(X_test)\n",
    "test_labels_dataset = tf.data.Dataset.from_tensor_slices(y_test)\n",
    "\n",
    "# 2. Combine features & labels\n",
    "train_dataset = tf.data.Dataset.zip((train_features_dataset, train_labels_dataset))\n",
    "test_dataset = tf.data.Dataset.zip((test_features_dataset, test_labels_dataset))\n",
    "\n",
    "# 3. Batch and prefetch for optimal performance\n",
    "BATCH_SIZE = 1024 # taken from Appendix D in N-BEATS paper\n",
    "train_dataset = train_dataset.batch(BATCH_SIZE).prefetch(tf.data.AUTOTUNE)\n",
    "test_dataset = test_dataset.batch(BATCH_SIZE).prefetch(tf.data.AUTOTUNE)\n",
    "\n",
    "train_dataset, test_dataset"
   ]
  },
  {
   "cell_type": "markdown",
   "metadata": {
    "id": "4niwahKFb03y"
   },
   "source": [
    "Data prepared! Notice the input shape for the features `(None, 7)`, the `None` leaves space for the batch size where as the `7` represents the `WINDOW_SIZE`.\n",
    "\n",
    "Time to get create the N-BEATS architecture. "
   ]
  },
  {
   "cell_type": "code",
   "execution_count": 136,
   "metadata": {
    "colab": {
     "base_uri": "https://localhost:8080/"
    },
    "id": "wK9Ix_zOesPO",
    "outputId": "b0f4a7fc-cdef-44f5-ab35-20d8c670ae0f"
   },
   "outputs": [
    {
     "data": {
      "text/plain": [
       "(7, 8)"
      ]
     },
     "execution_count": 136,
     "metadata": {},
     "output_type": "execute_result"
    }
   ],
   "source": [
    "# Values from N-BEATS paper Figure 1 and Table 18/Appendix D\n",
    "N_EPOCHS = 5000 # called \"Iterations\" in Table 18\n",
    "N_NEURONS = 512 # called \"Width\" in Table 18\n",
    "N_LAYERS = 4\n",
    "N_STACKS = 30\n",
    "\n",
    "INPUT_SIZE = WINDOW_SIZE * HORIZON # called \"Lookback\" in Table 18\n",
    "THETA_SIZE = INPUT_SIZE + HORIZON\n",
    "\n",
    "INPUT_SIZE, THETA_SIZE"
   ]
  },
  {
   "cell_type": "code",
   "execution_count": 137,
   "metadata": {
    "colab": {
     "base_uri": "https://localhost:8080/"
    },
    "id": "iZ_BEvNB--8J",
    "outputId": "b45dbb18-389c-4365-9c46-fc5da6ccbd6e"
   },
   "outputs": [
    {
     "name": "stdout",
     "output_type": "stream",
     "text": [
      "Input tensors: [10 11 12 13 14 15 16 17 18 19] & [0 1 2 3 4 5 6 7 8 9]\n",
      "Subtracted: [10 10 10 10 10 10 10 10 10 10]\n",
      "Added: [10 12 14 16 18 20 22 24 26 28]\n"
     ]
    }
   ],
   "source": [
    "# Make tensors\n",
    "tensor_1 = tf.range(10) + 10\n",
    "tensor_2 = tf.range(10)\n",
    "\n",
    "# Subtract\n",
    "subtracted = layers.subtract([tensor_1, tensor_2])\n",
    "\n",
    "# Add\n",
    "added = layers.add([tensor_1, tensor_2])\n",
    "\n",
    "print(f\"Input tensors: {tensor_1.numpy()} & {tensor_2.numpy()}\")\n",
    "print(f\"Subtracted: {subtracted.numpy()}\")\n",
    "print(f\"Added: {added.numpy()}\")"
   ]
  },
  {
   "cell_type": "code",
   "execution_count": 138,
   "metadata": {
    "colab": {
     "base_uri": "https://localhost:8080/"
    },
    "id": "2U3-Wv94-hfQ",
    "outputId": "1f726ec8-2f75-4ecb-a76f-c8cae8f29c4c"
   },
   "outputs": [
    {
     "name": "stdout",
     "output_type": "stream",
     "text": [
      "\n",
      "Epoch 220: ReduceLROnPlateau reducing learning rate to 0.00010000000474974513.\n",
      "\n",
      "Epoch 320: ReduceLROnPlateau reducing learning rate to 1.0000000474974514e-05.\n",
      "CPU times: total: 1h 28min 15s\n",
      "Wall time: 14min 35s\n"
     ]
    },
    {
     "data": {
      "text/plain": [
       "<keras.callbacks.History at 0x221f9fda520>"
      ]
     },
     "execution_count": 138,
     "metadata": {},
     "output_type": "execute_result"
    }
   ],
   "source": [
    " %%time\n",
    "\n",
    "tf.random.set_seed(42)\n",
    "\n",
    "# 1. Setup N-BEATS Block layer\n",
    "nbeats_block_layer = NBeatsBlock(input_size=INPUT_SIZE,\n",
    "                                 theta_size=THETA_SIZE,\n",
    "                                 horizon=HORIZON,\n",
    "                                 n_neurons=N_NEURONS,\n",
    "                                 n_layers=N_LAYERS,\n",
    "                                 name=\"InitialBlock\")\n",
    "\n",
    "# 2. Create input to stacks\n",
    "stack_input = layers.Input(shape=(INPUT_SIZE), name=\"stack_input\")\n",
    "\n",
    "# 3. Create initial backcast and forecast input (backwards predictions are referred to as residuals in the paper)\n",
    "backcast, forecast = nbeats_block_layer(stack_input)\n",
    "# Add in subtraction residual link, thank you to: https://github.com/mrdbourke/tensorflow-deep-learning/discussions/174 \n",
    "residuals = layers.subtract([stack_input, backcast], name=f\"subtract_00\") \n",
    "\n",
    "# 4. Create stacks of blocks\n",
    "for i, _ in enumerate(range(N_STACKS-1)): # first stack is already creted in (3)\n",
    "\n",
    "  # 5. Use the NBeatsBlock to calculate the backcast as well as block forecast\n",
    "  backcast, block_forecast = NBeatsBlock(\n",
    "      input_size=INPUT_SIZE,\n",
    "      theta_size=THETA_SIZE,\n",
    "      horizon=HORIZON,\n",
    "      n_neurons=N_NEURONS,\n",
    "      n_layers=N_LAYERS,\n",
    "      name=f\"NBeatsBlock_{i}\"\n",
    "  )(residuals) # pass it in residuals (the backcast)\n",
    "\n",
    "  # 6. Create the double residual stacking\n",
    "  residuals = layers.subtract([residuals, backcast], name=f\"subtract_{i}\") \n",
    "  forecast = layers.add([forecast, block_forecast], name=f\"add_{i}\")\n",
    "\n",
    "# 7. Put the stack model together\n",
    "model_7 = tf.keras.Model(inputs=stack_input, \n",
    "                         outputs=forecast, \n",
    "                         name=\"model_7_N-BEATS\")\n",
    "\n",
    "# 8. Compile with MAE loss and Adam optimizer\n",
    "model_7.compile(loss=\"mae\",\n",
    "                optimizer=tf.keras.optimizers.Adam(0.001),\n",
    "                metrics=[\"mae\", \"mse\"])\n",
    "\n",
    "# 9. Fit the model with EarlyStopping and ReduceLROnPlateau callbacks\n",
    "model_7.fit(train_dataset,\n",
    "            epochs=N_EPOCHS,\n",
    "            validation_data=test_dataset,\n",
    "            verbose=0, # prevent large amounts of training outputs\n",
    "            # callbacks=[create_model_checkpoint(model_name=stack_model.name)] # saving model every epoch consumes far too much time\n",
    "            callbacks=[tf.keras.callbacks.EarlyStopping(monitor=\"val_loss\", patience=200, restore_best_weights=True),\n",
    "                      tf.keras.callbacks.ReduceLROnPlateau(monitor=\"val_loss\", patience=100, verbose=1)])"
   ]
  },
  {
   "cell_type": "code",
   "execution_count": 139,
   "metadata": {
    "colab": {
     "base_uri": "https://localhost:8080/"
    },
    "id": "7u4dmxqYwmLH",
    "outputId": "24adb865-fb46-49b2-8add-7178a1e9c33c"
   },
   "outputs": [
    {
     "name": "stdout",
     "output_type": "stream",
     "text": [
      "Model: \"model_7_N-BEATS\"\n",
      "__________________________________________________________________________________________________\n",
      " Layer (type)                   Output Shape         Param #     Connected to                     \n",
      "==================================================================================================\n",
      " stack_input (InputLayer)       [(None, 7)]          0           []                               \n",
      "                                                                                                  \n",
      " InitialBlock (NBeatsBlock)     ((None, 7),          796168      ['stack_input[0][0]']            \n",
      "                                 (None, 1))                                                       \n",
      "                                                                                                  \n",
      " subtract_00 (Subtract)         (None, 7)            0           ['stack_input[0][0]',            \n",
      "                                                                  'InitialBlock[0][0]']           \n",
      "                                                                                                  \n",
      " NBeatsBlock_0 (NBeatsBlock)    ((None, 7),          796168      ['subtract_00[0][0]']            \n",
      "                                 (None, 1))                                                       \n",
      "                                                                                                  \n",
      " subtract_0 (Subtract)          (None, 7)            0           ['subtract_00[0][0]',            \n",
      "                                                                  'NBeatsBlock_0[0][0]']          \n",
      "                                                                                                  \n",
      " NBeatsBlock_1 (NBeatsBlock)    ((None, 7),          796168      ['subtract_0[0][0]']             \n",
      "                                 (None, 1))                                                       \n",
      "                                                                                                  \n",
      " subtract_1 (Subtract)          (None, 7)            0           ['subtract_0[0][0]',             \n",
      "                                                                  'NBeatsBlock_1[0][0]']          \n",
      "                                                                                                  \n",
      " NBeatsBlock_2 (NBeatsBlock)    ((None, 7),          796168      ['subtract_1[0][0]']             \n",
      "                                 (None, 1))                                                       \n",
      "                                                                                                  \n",
      " subtract_2 (Subtract)          (None, 7)            0           ['subtract_1[0][0]',             \n",
      "                                                                  'NBeatsBlock_2[0][0]']          \n",
      "                                                                                                  \n",
      " NBeatsBlock_3 (NBeatsBlock)    ((None, 7),          796168      ['subtract_2[0][0]']             \n",
      "                                 (None, 1))                                                       \n",
      "                                                                                                  \n",
      " subtract_3 (Subtract)          (None, 7)            0           ['subtract_2[0][0]',             \n",
      "                                                                  'NBeatsBlock_3[0][0]']          \n",
      "                                                                                                  \n",
      " NBeatsBlock_4 (NBeatsBlock)    ((None, 7),          796168      ['subtract_3[0][0]']             \n",
      "                                 (None, 1))                                                       \n",
      "                                                                                                  \n",
      " subtract_4 (Subtract)          (None, 7)            0           ['subtract_3[0][0]',             \n",
      "                                                                  'NBeatsBlock_4[0][0]']          \n",
      "                                                                                                  \n",
      " NBeatsBlock_5 (NBeatsBlock)    ((None, 7),          796168      ['subtract_4[0][0]']             \n",
      "                                 (None, 1))                                                       \n",
      "                                                                                                  \n",
      " subtract_5 (Subtract)          (None, 7)            0           ['subtract_4[0][0]',             \n",
      "                                                                  'NBeatsBlock_5[0][0]']          \n",
      "                                                                                                  \n",
      " NBeatsBlock_6 (NBeatsBlock)    ((None, 7),          796168      ['subtract_5[0][0]']             \n",
      "                                 (None, 1))                                                       \n",
      "                                                                                                  \n",
      " subtract_6 (Subtract)          (None, 7)            0           ['subtract_5[0][0]',             \n",
      "                                                                  'NBeatsBlock_6[0][0]']          \n",
      "                                                                                                  \n",
      " NBeatsBlock_7 (NBeatsBlock)    ((None, 7),          796168      ['subtract_6[0][0]']             \n",
      "                                 (None, 1))                                                       \n",
      "                                                                                                  \n",
      " subtract_7 (Subtract)          (None, 7)            0           ['subtract_6[0][0]',             \n",
      "                                                                  'NBeatsBlock_7[0][0]']          \n",
      "                                                                                                  \n",
      " NBeatsBlock_8 (NBeatsBlock)    ((None, 7),          796168      ['subtract_7[0][0]']             \n",
      "                                 (None, 1))                                                       \n",
      "                                                                                                  \n",
      " subtract_8 (Subtract)          (None, 7)            0           ['subtract_7[0][0]',             \n",
      "                                                                  'NBeatsBlock_8[0][0]']          \n",
      "                                                                                                  \n",
      " NBeatsBlock_9 (NBeatsBlock)    ((None, 7),          796168      ['subtract_8[0][0]']             \n",
      "                                 (None, 1))                                                       \n",
      "                                                                                                  \n",
      " subtract_9 (Subtract)          (None, 7)            0           ['subtract_8[0][0]',             \n",
      "                                                                  'NBeatsBlock_9[0][0]']          \n",
      "                                                                                                  \n",
      " NBeatsBlock_10 (NBeatsBlock)   ((None, 7),          796168      ['subtract_9[0][0]']             \n",
      "                                 (None, 1))                                                       \n",
      "                                                                                                  \n",
      " subtract_10 (Subtract)         (None, 7)            0           ['subtract_9[0][0]',             \n",
      "                                                                  'NBeatsBlock_10[0][0]']         \n",
      "                                                                                                  \n",
      " NBeatsBlock_11 (NBeatsBlock)   ((None, 7),          796168      ['subtract_10[0][0]']            \n",
      "                                 (None, 1))                                                       \n",
      "                                                                                                  \n",
      " subtract_11 (Subtract)         (None, 7)            0           ['subtract_10[0][0]',            \n",
      "                                                                  'NBeatsBlock_11[0][0]']         \n",
      "                                                                                                  \n",
      " NBeatsBlock_12 (NBeatsBlock)   ((None, 7),          796168      ['subtract_11[0][0]']            \n",
      "                                 (None, 1))                                                       \n",
      "                                                                                                  \n",
      " subtract_12 (Subtract)         (None, 7)            0           ['subtract_11[0][0]',            \n",
      "                                                                  'NBeatsBlock_12[0][0]']         \n",
      "                                                                                                  \n",
      " NBeatsBlock_13 (NBeatsBlock)   ((None, 7),          796168      ['subtract_12[0][0]']            \n",
      "                                 (None, 1))                                                       \n",
      "                                                                                                  \n",
      " subtract_13 (Subtract)         (None, 7)            0           ['subtract_12[0][0]',            \n",
      "                                                                  'NBeatsBlock_13[0][0]']         \n",
      "                                                                                                  \n",
      " NBeatsBlock_14 (NBeatsBlock)   ((None, 7),          796168      ['subtract_13[0][0]']            \n",
      "                                 (None, 1))                                                       \n",
      "                                                                                                  \n",
      " add_0 (Add)                    (None, 1)            0           ['InitialBlock[0][1]',           \n",
      "                                                                  'NBeatsBlock_0[0][1]']          \n",
      "                                                                                                  \n",
      " subtract_14 (Subtract)         (None, 7)            0           ['subtract_13[0][0]',            \n",
      "                                                                  'NBeatsBlock_14[0][0]']         \n",
      "                                                                                                  \n",
      " add_1 (Add)                    (None, 1)            0           ['add_0[0][0]',                  \n",
      "                                                                  'NBeatsBlock_1[0][1]']          \n",
      "                                                                                                  \n",
      " NBeatsBlock_15 (NBeatsBlock)   ((None, 7),          796168      ['subtract_14[0][0]']            \n",
      "                                 (None, 1))                                                       \n",
      "                                                                                                  \n",
      " add_2 (Add)                    (None, 1)            0           ['add_1[0][0]',                  \n",
      "                                                                  'NBeatsBlock_2[0][1]']          \n",
      "                                                                                                  \n",
      " subtract_15 (Subtract)         (None, 7)            0           ['subtract_14[0][0]',            \n",
      "                                                                  'NBeatsBlock_15[0][0]']         \n",
      "                                                                                                  \n",
      " add_3 (Add)                    (None, 1)            0           ['add_2[0][0]',                  \n",
      "                                                                  'NBeatsBlock_3[0][1]']          \n",
      "                                                                                                  \n",
      " NBeatsBlock_16 (NBeatsBlock)   ((None, 7),          796168      ['subtract_15[0][0]']            \n",
      "                                 (None, 1))                                                       \n",
      "                                                                                                  \n",
      " add_4 (Add)                    (None, 1)            0           ['add_3[0][0]',                  \n",
      "                                                                  'NBeatsBlock_4[0][1]']          \n",
      "                                                                                                  \n",
      " subtract_16 (Subtract)         (None, 7)            0           ['subtract_15[0][0]',            \n",
      "                                                                  'NBeatsBlock_16[0][0]']         \n",
      "                                                                                                  \n",
      " add_5 (Add)                    (None, 1)            0           ['add_4[0][0]',                  \n",
      "                                                                  'NBeatsBlock_5[0][1]']          \n",
      "                                                                                                  \n",
      " NBeatsBlock_17 (NBeatsBlock)   ((None, 7),          796168      ['subtract_16[0][0]']            \n",
      "                                 (None, 1))                                                       \n",
      "                                                                                                  \n",
      " add_6 (Add)                    (None, 1)            0           ['add_5[0][0]',                  \n",
      "                                                                  'NBeatsBlock_6[0][1]']          \n",
      "                                                                                                  \n",
      " subtract_17 (Subtract)         (None, 7)            0           ['subtract_16[0][0]',            \n",
      "                                                                  'NBeatsBlock_17[0][0]']         \n",
      "                                                                                                  \n",
      " add_7 (Add)                    (None, 1)            0           ['add_6[0][0]',                  \n",
      "                                                                  'NBeatsBlock_7[0][1]']          \n",
      "                                                                                                  \n",
      " NBeatsBlock_18 (NBeatsBlock)   ((None, 7),          796168      ['subtract_17[0][0]']            \n",
      "                                 (None, 1))                                                       \n",
      "                                                                                                  \n",
      " add_8 (Add)                    (None, 1)            0           ['add_7[0][0]',                  \n",
      "                                                                  'NBeatsBlock_8[0][1]']          \n",
      "                                                                                                  \n",
      " subtract_18 (Subtract)         (None, 7)            0           ['subtract_17[0][0]',            \n",
      "                                                                  'NBeatsBlock_18[0][0]']         \n",
      "                                                                                                  \n",
      " add_9 (Add)                    (None, 1)            0           ['add_8[0][0]',                  \n",
      "                                                                  'NBeatsBlock_9[0][1]']          \n",
      "                                                                                                  \n",
      " NBeatsBlock_19 (NBeatsBlock)   ((None, 7),          796168      ['subtract_18[0][0]']            \n",
      "                                 (None, 1))                                                       \n",
      "                                                                                                  \n",
      " add_10 (Add)                   (None, 1)            0           ['add_9[0][0]',                  \n",
      "                                                                  'NBeatsBlock_10[0][1]']         \n",
      "                                                                                                  \n",
      " subtract_19 (Subtract)         (None, 7)            0           ['subtract_18[0][0]',            \n",
      "                                                                  'NBeatsBlock_19[0][0]']         \n",
      "                                                                                                  \n",
      " add_11 (Add)                   (None, 1)            0           ['add_10[0][0]',                 \n",
      "                                                                  'NBeatsBlock_11[0][1]']         \n",
      "                                                                                                  \n",
      " NBeatsBlock_20 (NBeatsBlock)   ((None, 7),          796168      ['subtract_19[0][0]']            \n",
      "                                 (None, 1))                                                       \n",
      "                                                                                                  \n",
      " add_12 (Add)                   (None, 1)            0           ['add_11[0][0]',                 \n",
      "                                                                  'NBeatsBlock_12[0][1]']         \n",
      "                                                                                                  \n",
      " subtract_20 (Subtract)         (None, 7)            0           ['subtract_19[0][0]',            \n",
      "                                                                  'NBeatsBlock_20[0][0]']         \n",
      "                                                                                                  \n",
      " add_13 (Add)                   (None, 1)            0           ['add_12[0][0]',                 \n",
      "                                                                  'NBeatsBlock_13[0][1]']         \n",
      "                                                                                                  \n",
      " NBeatsBlock_21 (NBeatsBlock)   ((None, 7),          796168      ['subtract_20[0][0]']            \n",
      "                                 (None, 1))                                                       \n",
      "                                                                                                  \n",
      " add_14 (Add)                   (None, 1)            0           ['add_13[0][0]',                 \n",
      "                                                                  'NBeatsBlock_14[0][1]']         \n",
      "                                                                                                  \n",
      " subtract_21 (Subtract)         (None, 7)            0           ['subtract_20[0][0]',            \n",
      "                                                                  'NBeatsBlock_21[0][0]']         \n",
      "                                                                                                  \n",
      " add_15 (Add)                   (None, 1)            0           ['add_14[0][0]',                 \n",
      "                                                                  'NBeatsBlock_15[0][1]']         \n",
      "                                                                                                  \n",
      " NBeatsBlock_22 (NBeatsBlock)   ((None, 7),          796168      ['subtract_21[0][0]']            \n",
      "                                 (None, 1))                                                       \n",
      "                                                                                                  \n",
      " add_16 (Add)                   (None, 1)            0           ['add_15[0][0]',                 \n",
      "                                                                  'NBeatsBlock_16[0][1]']         \n",
      "                                                                                                  \n",
      " subtract_22 (Subtract)         (None, 7)            0           ['subtract_21[0][0]',            \n",
      "                                                                  'NBeatsBlock_22[0][0]']         \n",
      "                                                                                                  \n",
      " add_17 (Add)                   (None, 1)            0           ['add_16[0][0]',                 \n",
      "                                                                  'NBeatsBlock_17[0][1]']         \n",
      "                                                                                                  \n",
      " NBeatsBlock_23 (NBeatsBlock)   ((None, 7),          796168      ['subtract_22[0][0]']            \n",
      "                                 (None, 1))                                                       \n",
      "                                                                                                  \n",
      " add_18 (Add)                   (None, 1)            0           ['add_17[0][0]',                 \n",
      "                                                                  'NBeatsBlock_18[0][1]']         \n",
      "                                                                                                  \n",
      " subtract_23 (Subtract)         (None, 7)            0           ['subtract_22[0][0]',            \n",
      "                                                                  'NBeatsBlock_23[0][0]']         \n",
      "                                                                                                  \n",
      " add_19 (Add)                   (None, 1)            0           ['add_18[0][0]',                 \n",
      "                                                                  'NBeatsBlock_19[0][1]']         \n",
      "                                                                                                  \n",
      " NBeatsBlock_24 (NBeatsBlock)   ((None, 7),          796168      ['subtract_23[0][0]']            \n",
      "                                 (None, 1))                                                       \n",
      "                                                                                                  \n",
      " add_20 (Add)                   (None, 1)            0           ['add_19[0][0]',                 \n",
      "                                                                  'NBeatsBlock_20[0][1]']         \n",
      "                                                                                                  \n",
      " subtract_24 (Subtract)         (None, 7)            0           ['subtract_23[0][0]',            \n",
      "                                                                  'NBeatsBlock_24[0][0]']         \n",
      "                                                                                                  \n",
      " add_21 (Add)                   (None, 1)            0           ['add_20[0][0]',                 \n",
      "                                                                  'NBeatsBlock_21[0][1]']         \n",
      "                                                                                                  \n",
      " NBeatsBlock_25 (NBeatsBlock)   ((None, 7),          796168      ['subtract_24[0][0]']            \n",
      "                                 (None, 1))                                                       \n",
      "                                                                                                  \n",
      " add_22 (Add)                   (None, 1)            0           ['add_21[0][0]',                 \n",
      "                                                                  'NBeatsBlock_22[0][1]']         \n",
      "                                                                                                  \n",
      " subtract_25 (Subtract)         (None, 7)            0           ['subtract_24[0][0]',            \n",
      "                                                                  'NBeatsBlock_25[0][0]']         \n",
      "                                                                                                  \n",
      " add_23 (Add)                   (None, 1)            0           ['add_22[0][0]',                 \n",
      "                                                                  'NBeatsBlock_23[0][1]']         \n",
      "                                                                                                  \n",
      " NBeatsBlock_26 (NBeatsBlock)   ((None, 7),          796168      ['subtract_25[0][0]']            \n",
      "                                 (None, 1))                                                       \n",
      "                                                                                                  \n",
      " add_24 (Add)                   (None, 1)            0           ['add_23[0][0]',                 \n",
      "                                                                  'NBeatsBlock_24[0][1]']         \n",
      "                                                                                                  \n",
      " subtract_26 (Subtract)         (None, 7)            0           ['subtract_25[0][0]',            \n",
      "                                                                  'NBeatsBlock_26[0][0]']         \n",
      "                                                                                                  \n",
      " add_25 (Add)                   (None, 1)            0           ['add_24[0][0]',                 \n",
      "                                                                  'NBeatsBlock_25[0][1]']         \n",
      "                                                                                                  \n",
      " NBeatsBlock_27 (NBeatsBlock)   ((None, 7),          796168      ['subtract_26[0][0]']            \n",
      "                                 (None, 1))                                                       \n",
      "                                                                                                  \n",
      " add_26 (Add)                   (None, 1)            0           ['add_25[0][0]',                 \n",
      "                                                                  'NBeatsBlock_26[0][1]']         \n",
      "                                                                                                  \n",
      " subtract_27 (Subtract)         (None, 7)            0           ['subtract_26[0][0]',            \n",
      "                                                                  'NBeatsBlock_27[0][0]']         \n",
      "                                                                                                  \n",
      " add_27 (Add)                   (None, 1)            0           ['add_26[0][0]',                 \n",
      "                                                                  'NBeatsBlock_27[0][1]']         \n",
      "                                                                                                  \n",
      " NBeatsBlock_28 (NBeatsBlock)   ((None, 7),          796168      ['subtract_27[0][0]']            \n",
      "                                 (None, 1))                                                       \n",
      "                                                                                                  \n",
      " add_28 (Add)                   (None, 1)            0           ['add_27[0][0]',                 \n",
      "                                                                  'NBeatsBlock_28[0][1]']         \n",
      "                                                                                                  \n",
      "==================================================================================================\n",
      "Total params: 23,885,040\n",
      "Trainable params: 23,885,040\n",
      "Non-trainable params: 0\n",
      "__________________________________________________________________________________________________\n"
     ]
    }
   ],
   "source": [
    "model_7.summary()"
   ]
  },
  {
   "cell_type": "markdown",
   "metadata": {
    "id": "j_nv-mjqHsOi"
   },
   "source": [
    "And would you look at that! N-BEATS algorithm fit to our Bitcoin historical data.\n",
    "\n",
    "How did it perform?"
   ]
  },
  {
   "cell_type": "code",
   "execution_count": 140,
   "metadata": {
    "colab": {
     "base_uri": "https://localhost:8080/"
    },
    "id": "pyI7WKpbo7cR",
    "outputId": "ce23fa1d-1c4c-4d13-c8af-ff00d56db3d7"
   },
   "outputs": [
    {
     "name": "stdout",
     "output_type": "stream",
     "text": [
      "1/1 [==============================] - 0s 258ms/step - loss: 572.3261 - mae: 572.3261 - mse: 1131179.8750\n"
     ]
    },
    {
     "data": {
      "text/plain": [
       "[572.3261108398438, 572.3261108398438, 1131179.875]"
      ]
     },
     "execution_count": 140,
     "metadata": {},
     "output_type": "execute_result"
    }
   ],
   "source": [
    "# Evaluate N-BEATS model on the test dataset\n",
    "model_7.evaluate(test_dataset)"
   ]
  },
  {
   "cell_type": "code",
   "execution_count": 141,
   "metadata": {
    "colab": {
     "base_uri": "https://localhost:8080/"
    },
    "id": "xTVDsIs31alx",
    "outputId": "60097cc7-17ad-4518-f4a8-0d56ad701beb"
   },
   "outputs": [
    {
     "name": "stdout",
     "output_type": "stream",
     "text": [
      "1/1 [==============================] - 2s 2s/step\n"
     ]
    },
    {
     "data": {
      "text/plain": [
       "<tf.Tensor: shape=(10,), dtype=float32, numpy=\n",
       "array([8916.863, 8913.398, 9056.917, 8823.508, 8808.649, 8755.148,\n",
       "       8653.819, 8580.841, 8507.531, 8532.277], dtype=float32)>"
      ]
     },
     "execution_count": 141,
     "metadata": {},
     "output_type": "execute_result"
    }
   ],
   "source": [
    "# Make predictions with N-BEATS model\n",
    "model_7_preds = make_preds(model_7, test_dataset)\n",
    "model_7_preds[:10]"
   ]
  },
  {
   "cell_type": "code",
   "execution_count": 142,
   "metadata": {
    "colab": {
     "base_uri": "https://localhost:8080/"
    },
    "id": "VL-cncpQ1i7C",
    "outputId": "35a89860-cf87-4292-d552-89c0a6ddc15f"
   },
   "outputs": [
    {
     "data": {
      "text/plain": [
       "{'mae': 572.3261,\n",
       " 'mse': 1131179.9,\n",
       " 'rmse': 1063.5695,\n",
       " 'mape': 2.6735804,\n",
       " 'mase': 1.0054184}"
      ]
     },
     "execution_count": 142,
     "metadata": {},
     "output_type": "execute_result"
    }
   ],
   "source": [
    "# Evaluate N-BEATS model predictions\n",
    "model_7_results = evaluate_preds(y_true=y_test,\n",
    "                                 y_pred=model_7_preds)\n",
    "model_7_results"
   ]
  },
  {
   "cell_type": "code",
   "execution_count": 143,
   "metadata": {
    "colab": {
     "base_uri": "https://localhost:8080/",
     "height": 1000
    },
    "id": "QNouVhCuI-99",
    "outputId": "7954a8c8-a4cf-4eb7-90a9-b283a408da5a"
   },
   "outputs": [
    {
     "name": "stdout",
     "output_type": "stream",
     "text": [
      "You must install pydot (`pip install pydot`) and install graphviz (see instructions at https://graphviz.gitlab.io/download/) for plot_model to work.\n"
     ]
    }
   ],
   "source": [
    "# Plot the N-BEATS model and inspect the architecture\n",
    "from tensorflow.keras.utils import plot_model\n",
    "plot_model(model_7)"
   ]
  },
  {
   "cell_type": "code",
   "execution_count": 144,
   "metadata": {
    "colab": {
     "base_uri": "https://localhost:8080/"
    },
    "id": "b_mxaHYeShwu",
    "outputId": "4cd2bb27-f017-4130-a3b8-02504959c7b3"
   },
   "outputs": [
    {
     "name": "stderr",
     "output_type": "stream",
     "text": [
      "WARNING:absl:Found untraced functions such as theta_layer_call_fn, theta_layer_call_and_return_conditional_losses, theta_layer_call_fn, theta_layer_call_and_return_conditional_losses, theta_layer_call_fn while saving (showing 5 of 300). These functions will not be directly callable after loading.\n"
     ]
    },
    {
     "name": "stdout",
     "output_type": "stream",
     "text": [
      "INFO:tensorflow:Assets written to: model_7_N-BEATS\\assets\n"
     ]
    },
    {
     "name": "stderr",
     "output_type": "stream",
     "text": [
      "INFO:tensorflow:Assets written to: model_7_N-BEATS\\assets\n"
     ]
    }
   ],
   "source": [
    "# This will error out unless a \"get_config()\" method is implemented - this could be extra curriculum\n",
    "model_7.save(model_7.name)"
   ]
  },
  {
   "cell_type": "markdown",
   "metadata": {
    "id": "j8JOysiNUCML"
   },
   "source": [
    "You'll notice a warning appears telling us to fully save our model correctly we need to implement a [`get_config()`](https://www.tensorflow.org/guide/keras/save_and_serialize#how_savedmodel_handles_custom_objects) method in our custom layer class.\n",
    "\n",
    "> 📖 **Resource:** If you would like to save and load the N-BEATS model or any other custom or subclassed layer/model configuration, you should overwrite the `get_config()` and optionally `from_config()` methods. See the [TensorFlow Custom Objects documentation](https://www.tensorflow.org/guide/keras/save_and_serialize#custom_objects) for more."
   ]
  },
  {
   "cell_type": "markdown",
   "metadata": {
    "id": "9k10r8BN7ELS"
   },
   "source": [
    "## Model 8: Creating an ensemble (stacking different models together)\n",
    "\n"
   ]
  },
  {
   "cell_type": "markdown",
   "metadata": {
    "id": "sA0LwkPxEyib"
   },
   "source": [
    "### Constructing and fitting an ensemble of models (using different loss functions)"
   ]
  },
  {
   "cell_type": "code",
   "execution_count": 145,
   "metadata": {
    "id": "K5PHo4O3z50g"
   },
   "outputs": [],
   "source": [
    "def get_ensemble_models(horizon=HORIZON, \n",
    "                        train_data=train_dataset,\n",
    "                        test_data=test_dataset,\n",
    "                        num_iter=10, \n",
    "                        num_epochs=100, \n",
    "                        loss_fns=[\"mae\", \"mse\", \"mape\"]):\n",
    "  \"\"\"\n",
    "  Returns a list of num_iter models each trained on MAE, MSE and MAPE loss.\n",
    "\n",
    "  For example, if num_iter=10, a list of 30 trained models will be returned:\n",
    "  10 * len([\"mae\", \"mse\", \"mape\"]).\n",
    "  \"\"\"\n",
    "  # Make empty list for trained ensemble models\n",
    "  ensemble_models = []\n",
    "\n",
    "  # Create num_iter number of models per loss function\n",
    "  for i in range(num_iter):\n",
    "    # Build and fit a new model with a different loss function\n",
    "    for loss_function in loss_fns:\n",
    "      print(f\"Optimizing model by reducing: {loss_function} for {num_epochs} epochs, model number: {i}\")\n",
    "\n",
    "      # Construct a simple model (similar to model_1)\n",
    "      model = tf.keras.Sequential([\n",
    "        # Initialize layers with normal (Gaussian) distribution so we can use the models for prediction\n",
    "        # interval estimation later: https://www.tensorflow.org/api_docs/python/tf/keras/initializers/HeNormal\n",
    "        layers.Dense(128, kernel_initializer=\"he_normal\", activation=\"relu\"), \n",
    "        layers.Dense(128, kernel_initializer=\"he_normal\", activation=\"relu\"),\n",
    "        layers.Dense(HORIZON)                                 \n",
    "      ])\n",
    "\n",
    "      # Compile simple model with current loss function\n",
    "      model.compile(loss=loss_function,\n",
    "                    optimizer=tf.keras.optimizers.Adam(),\n",
    "                    metrics=[\"mae\", \"mse\"])\n",
    "      \n",
    "      # Fit model\n",
    "      model.fit(train_data,\n",
    "                epochs=num_epochs,\n",
    "                verbose=0,\n",
    "                validation_data=test_data,\n",
    "                # Add callbacks to prevent training from going/stalling for too long\n",
    "                callbacks=[tf.keras.callbacks.EarlyStopping(monitor=\"val_loss\",\n",
    "                                                            patience=200,\n",
    "                                                            restore_best_weights=True),\n",
    "                           tf.keras.callbacks.ReduceLROnPlateau(monitor=\"val_loss\",\n",
    "                                                                patience=100,\n",
    "                                                                verbose=1)])\n",
    "      \n",
    "      # Append fitted model to list of ensemble models\n",
    "      ensemble_models.append(model)\n",
    "\n",
    "  return ensemble_models # return list of trained models"
   ]
  },
  {
   "cell_type": "code",
   "execution_count": 146,
   "metadata": {
    "colab": {
     "base_uri": "https://localhost:8080/"
    },
    "id": "fcyU88yvz_Zk",
    "outputId": "989d04e0-86d9-4fd6-8409-1b1106a6f963"
   },
   "outputs": [
    {
     "name": "stdout",
     "output_type": "stream",
     "text": [
      "Optimizing model by reducing: mae for 1000 epochs, model number: 0\n",
      "\n",
      "Epoch 291: ReduceLROnPlateau reducing learning rate to 0.00010000000474974513.\n",
      "Optimizing model by reducing: mse for 1000 epochs, model number: 0\n",
      "\n",
      "Epoch 568: ReduceLROnPlateau reducing learning rate to 0.00010000000474974513.\n",
      "\n",
      "Epoch 668: ReduceLROnPlateau reducing learning rate to 1.0000000474974514e-05.\n",
      "Optimizing model by reducing: mape for 1000 epochs, model number: 0\n",
      "\n",
      "Epoch 289: ReduceLROnPlateau reducing learning rate to 0.00010000000474974513.\n",
      "\n",
      "Epoch 389: ReduceLROnPlateau reducing learning rate to 1.0000000474974514e-05.\n",
      "Optimizing model by reducing: mae for 1000 epochs, model number: 1\n",
      "\n",
      "Epoch 741: ReduceLROnPlateau reducing learning rate to 0.00010000000474974513.\n",
      "Optimizing model by reducing: mse for 1000 epochs, model number: 1\n",
      "\n",
      "Epoch 671: ReduceLROnPlateau reducing learning rate to 0.00010000000474974513.\n",
      "\n",
      "Epoch 771: ReduceLROnPlateau reducing learning rate to 1.0000000474974514e-05.\n",
      "Optimizing model by reducing: mape for 1000 epochs, model number: 1\n",
      "\n",
      "Epoch 186: ReduceLROnPlateau reducing learning rate to 0.00010000000474974513.\n",
      "\n",
      "Epoch 286: ReduceLROnPlateau reducing learning rate to 1.0000000474974514e-05.\n",
      "Optimizing model by reducing: mae for 1000 epochs, model number: 2\n",
      "\n",
      "Epoch 657: ReduceLROnPlateau reducing learning rate to 0.00010000000474974513.\n",
      "\n",
      "Epoch 986: ReduceLROnPlateau reducing learning rate to 1.0000000474974514e-05.\n",
      "Optimizing model by reducing: mse for 1000 epochs, model number: 2\n",
      "\n",
      "Epoch 594: ReduceLROnPlateau reducing learning rate to 0.00010000000474974513.\n",
      "\n",
      "Epoch 694: ReduceLROnPlateau reducing learning rate to 1.0000000474974514e-05.\n",
      "Optimizing model by reducing: mape for 1000 epochs, model number: 2\n",
      "\n",
      "Epoch 136: ReduceLROnPlateau reducing learning rate to 0.00010000000474974513.\n",
      "\n",
      "Epoch 242: ReduceLROnPlateau reducing learning rate to 1.0000000474974514e-05.\n",
      "\n",
      "Epoch 342: ReduceLROnPlateau reducing learning rate to 1.0000000656873453e-06.\n",
      "Optimizing model by reducing: mae for 1000 epochs, model number: 3\n",
      "\n",
      "Epoch 804: ReduceLROnPlateau reducing learning rate to 0.00010000000474974513.\n",
      "Optimizing model by reducing: mse for 1000 epochs, model number: 3\n",
      "\n",
      "Epoch 396: ReduceLROnPlateau reducing learning rate to 0.00010000000474974513.\n",
      "\n",
      "Epoch 496: ReduceLROnPlateau reducing learning rate to 1.0000000474974514e-05.\n",
      "Optimizing model by reducing: mape for 1000 epochs, model number: 3\n",
      "\n",
      "Epoch 286: ReduceLROnPlateau reducing learning rate to 0.00010000000474974513.\n",
      "\n",
      "Epoch 582: ReduceLROnPlateau reducing learning rate to 1.0000000474974514e-05.\n",
      "\n",
      "Epoch 682: ReduceLROnPlateau reducing learning rate to 1.0000000656873453e-06.\n",
      "Optimizing model by reducing: mae for 1000 epochs, model number: 4\n",
      "Optimizing model by reducing: mse for 1000 epochs, model number: 4\n",
      "\n",
      "Epoch 803: ReduceLROnPlateau reducing learning rate to 0.00010000000474974513.\n",
      "\n",
      "Epoch 903: ReduceLROnPlateau reducing learning rate to 1.0000000474974514e-05.\n",
      "Optimizing model by reducing: mape for 1000 epochs, model number: 4\n",
      "\n",
      "Epoch 139: ReduceLROnPlateau reducing learning rate to 0.00010000000474974513.\n",
      "\n",
      "Epoch 599: ReduceLROnPlateau reducing learning rate to 1.0000000474974514e-05.\n",
      "\n",
      "Epoch 802: ReduceLROnPlateau reducing learning rate to 1.0000000656873453e-06.\n",
      "\n",
      "Epoch 902: ReduceLROnPlateau reducing learning rate to 1.0000001111620805e-07.\n",
      "CPU times: total: 9min 24s\n",
      "Wall time: 6min 2s\n"
     ]
    }
   ],
   "source": [
    "%%time\n",
    "# Get list of trained ensemble models\n",
    "ensemble_models = get_ensemble_models(num_iter=5,\n",
    "                                      num_epochs=1000)"
   ]
  },
  {
   "cell_type": "markdown",
   "metadata": {
    "id": "rerdvQAdFptN"
   },
   "source": [
    "Look at all of those models! \n",
    "\n",
    "How about we now write a function to use the list of trained ensemble models to make predictions and then return a list of predictions (one set of predictions per model)?\n",
    "\n",
    "### Making predictions with an ensemble model"
   ]
  },
  {
   "cell_type": "code",
   "execution_count": 148,
   "metadata": {
    "id": "45YkOBo38qxn"
   },
   "outputs": [],
   "source": [
    "# Create a function which uses a list of trained models to make and return a list of predictions\n",
    "def make_ensemble_preds(ensemble_models, data):\n",
    "  ensemble_preds = []\n",
    "  for model in ensemble_models:\n",
    "    preds = model.predict(data) # make predictions with current ensemble model\n",
    "    ensemble_preds.append(preds)\n",
    "  return tf.constant(tf.squeeze(ensemble_preds))"
   ]
  },
  {
   "cell_type": "code",
   "execution_count": 149,
   "metadata": {
    "colab": {
     "base_uri": "https://localhost:8080/"
    },
    "id": "mAfSXEmU0IKK",
    "outputId": "4ed9f765-b988-4765-92c7-31f7e58a3386"
   },
   "outputs": [
    {
     "name": "stdout",
     "output_type": "stream",
     "text": [
      "1/1 [==============================] - 0s 171ms/step\n",
      "1/1 [==============================] - 0s 53ms/step\n",
      "WARNING:tensorflow:5 out of the last 22 calls to <function Model.make_predict_function.<locals>.predict_function at 0x000002218557DA60> triggered tf.function retracing. Tracing is expensive and the excessive number of tracings could be due to (1) creating @tf.function repeatedly in a loop, (2) passing tensors with different shapes, (3) passing Python objects instead of tensors. For (1), please define your @tf.function outside of the loop. For (2), @tf.function has reduce_retracing=True option that can avoid unnecessary retracing. For (3), please refer to https://www.tensorflow.org/guide/function#controlling_retracing and https://www.tensorflow.org/api_docs/python/tf/function for  more details.\n"
     ]
    },
    {
     "name": "stderr",
     "output_type": "stream",
     "text": [
      "WARNING:tensorflow:5 out of the last 22 calls to <function Model.make_predict_function.<locals>.predict_function at 0x000002218557DA60> triggered tf.function retracing. Tracing is expensive and the excessive number of tracings could be due to (1) creating @tf.function repeatedly in a loop, (2) passing tensors with different shapes, (3) passing Python objects instead of tensors. For (1), please define your @tf.function outside of the loop. For (2), @tf.function has reduce_retracing=True option that can avoid unnecessary retracing. For (3), please refer to https://www.tensorflow.org/guide/function#controlling_retracing and https://www.tensorflow.org/api_docs/python/tf/function for  more details.\n"
     ]
    },
    {
     "name": "stdout",
     "output_type": "stream",
     "text": [
      "1/1 [==============================] - 0s 57ms/step\n",
      "WARNING:tensorflow:6 out of the last 23 calls to <function Model.make_predict_function.<locals>.predict_function at 0x000002218557DEE0> triggered tf.function retracing. Tracing is expensive and the excessive number of tracings could be due to (1) creating @tf.function repeatedly in a loop, (2) passing tensors with different shapes, (3) passing Python objects instead of tensors. For (1), please define your @tf.function outside of the loop. For (2), @tf.function has reduce_retracing=True option that can avoid unnecessary retracing. For (3), please refer to https://www.tensorflow.org/guide/function#controlling_retracing and https://www.tensorflow.org/api_docs/python/tf/function for  more details.\n"
     ]
    },
    {
     "name": "stderr",
     "output_type": "stream",
     "text": [
      "WARNING:tensorflow:6 out of the last 23 calls to <function Model.make_predict_function.<locals>.predict_function at 0x000002218557DEE0> triggered tf.function retracing. Tracing is expensive and the excessive number of tracings could be due to (1) creating @tf.function repeatedly in a loop, (2) passing tensors with different shapes, (3) passing Python objects instead of tensors. For (1), please define your @tf.function outside of the loop. For (2), @tf.function has reduce_retracing=True option that can avoid unnecessary retracing. For (3), please refer to https://www.tensorflow.org/guide/function#controlling_retracing and https://www.tensorflow.org/api_docs/python/tf/function for  more details.\n"
     ]
    },
    {
     "name": "stdout",
     "output_type": "stream",
     "text": [
      "1/1 [==============================] - 0s 282ms/step\n",
      "1/1 [==============================] - 0s 54ms/step\n",
      "1/1 [==============================] - 0s 63ms/step\n",
      "1/1 [==============================] - 0s 143ms/step\n",
      "1/1 [==============================] - 0s 46ms/step\n",
      "1/1 [==============================] - 0s 46ms/step\n",
      "1/1 [==============================] - 0s 51ms/step\n",
      "1/1 [==============================] - 0s 54ms/step\n",
      "1/1 [==============================] - 0s 94ms/step\n",
      "1/1 [==============================] - 0s 54ms/step\n",
      "1/1 [==============================] - 0s 85ms/step\n",
      "1/1 [==============================] - 0s 50ms/step\n"
     ]
    },
    {
     "data": {
      "text/plain": [
       "<tf.Tensor: shape=(15, 556), dtype=float32, numpy=\n",
       "array([[ 8827.766,  8754.035,  9065.079, ..., 49676.79 , 49000.39 ,\n",
       "        46824.668],\n",
       "       [ 8778.074,  8767.956,  9051.082, ..., 50146.742, 48067.508,\n",
       "        45868.89 ],\n",
       "       [ 8821.63 ,  8776.846,  9068.568, ..., 49949.348, 48343.445,\n",
       "        45828.035],\n",
       "       ...,\n",
       "       [ 8791.818,  8772.776,  9017.058, ..., 50246.18 , 48054.19 ,\n",
       "        45450.51 ],\n",
       "       [ 8768.199,  8746.515,  9035.994, ..., 49353.19 , 48591.07 ,\n",
       "        46283.21 ],\n",
       "       [ 8809.556,  8776.449,  9066.261, ..., 50220.004, 48262.484,\n",
       "        46031.05 ]], dtype=float32)>"
      ]
     },
     "execution_count": 149,
     "metadata": {},
     "output_type": "execute_result"
    }
   ],
   "source": [
    "# Create a list of ensemble predictions\n",
    "ensemble_preds = make_ensemble_preds(ensemble_models=ensemble_models,\n",
    "                                     data=test_dataset)\n",
    "ensemble_preds"
   ]
  },
  {
   "cell_type": "code",
   "execution_count": 150,
   "metadata": {
    "colab": {
     "base_uri": "https://localhost:8080/"
    },
    "id": "W5aGqy_C9Aev",
    "outputId": "e9696912-b56b-4866-a292-754cf5f27c93"
   },
   "outputs": [
    {
     "data": {
      "text/plain": [
       "{'mae': 564.431,\n",
       " 'mse': 1138150.1,\n",
       " 'rmse': 1066.8412,\n",
       " 'mape': 2.5616035,\n",
       " 'mase': 0.991549}"
      ]
     },
     "execution_count": 150,
     "metadata": {},
     "output_type": "execute_result"
    }
   ],
   "source": [
    "# Evaluate ensemble model(s) predictions\n",
    "ensemble_results = evaluate_preds(y_true=y_test,\n",
    "                                  y_pred=np.median(ensemble_preds, axis=0)) # take the median across all ensemble predictions\n",
    "ensemble_results"
   ]
  },
  {
   "cell_type": "markdown",
   "metadata": {
    "id": "S3EyXGTQL6xV"
   },
   "source": [
    "Nice! Looks like the ensemble model is the best performing model on the MAE metric so far."
   ]
  },
  {
   "cell_type": "code",
   "execution_count": 151,
   "metadata": {
    "id": "4ys17iCd-UFv"
   },
   "outputs": [],
   "source": [
    "# Find upper and lower bounds of ensemble predictions\n",
    "def get_upper_lower(preds): # 1. Take the predictions of multiple randomly initialized deep learning neural networks\n",
    "  \n",
    "  # 2. Measure the standard deviation of the predictions\n",
    "  std = tf.math.reduce_std(preds, axis=0)\n",
    "  \n",
    "  # 3. Multiply the standard deviation by 1.96\n",
    "  interval = 1.96 * std # https://en.wikipedia.org/wiki/1.96 \n",
    "\n",
    "  # 4. Get the prediction interval upper and lower bounds\n",
    "  preds_mean = tf.reduce_mean(preds, axis=0)\n",
    "  lower, upper = preds_mean - interval, preds_mean + interval\n",
    "  return lower, upper\n",
    "\n",
    "# Get the upper and lower bounds of the 95% \n",
    "lower, upper = get_upper_lower(preds=ensemble_preds)"
   ]
  },
  {
   "cell_type": "markdown",
   "metadata": {
    "id": "rr9MJPuJMVMt"
   },
   "source": [
    "Wonderful, now we've got the upper and lower bounds for the the 95% prediction interval, let's plot them against our ensemble model's predictions.\n",
    "\n",
    "To do so, we can use our plotting function as well as the [`matplotlib.pyplot.fill_between()`](https://matplotlib.org/stable/api/_as_gen/matplotlib.pyplot.fill_between.html) method to shade in the space between the upper and lower bounds."
   ]
  },
  {
   "cell_type": "code",
   "execution_count": 152,
   "metadata": {
    "colab": {
     "base_uri": "https://localhost:8080/",
     "height": 444
    },
    "id": "QlSqQHFD_JYa",
    "outputId": "609aff74-343c-4cd7-e6ff-5328d52ed214"
   },
   "outputs": [
    {
     "data": {
      "image/png": "[encoded data removed]",
      "text/plain": [
       "<Figure size 720x504 with 1 Axes>"
      ]
     },
     "metadata": {
      "needs_background": "light"
     },
     "output_type": "display_data"
    }
   ],
   "source": [
    "# Get the median values of our ensemble preds\n",
    "ensemble_median = np.median(ensemble_preds, axis=0)\n",
    "\n",
    "# Plot the median of our ensemble preds along with the prediction intervals (where the predictions fall between)\n",
    "offset=500\n",
    "plt.figure(figsize=(10, 7))\n",
    "plt.plot(X_test.index[offset:], y_test[offset:], \"g\", label=\"Test Data\")\n",
    "plt.plot(X_test.index[offset:], ensemble_median[offset:], \"k-\", label=\"Ensemble Median\")\n",
    "plt.xlabel(\"Date\")\n",
    "plt.ylabel(\"BTC Price\")\n",
    "plt.fill_between(X_test.index[offset:], \n",
    "                 (lower)[offset:], \n",
    "                 (upper)[offset:], label=\"Prediction Intervals\")\n",
    "plt.legend(loc=\"upper left\", fontsize=14);"
   ]
  },
  {
   "cell_type": "markdown",
   "metadata": {
    "id": "UW9oxH47EK-6"
   },
   "source": [
    "## Model 9: Train a model on the full historical data to make predictions into future\n",
    "\n"
   ]
  },
  {
   "cell_type": "code",
   "execution_count": 153,
   "metadata": {
    "colab": {
     "base_uri": "https://localhost:8080/",
     "height": 237
    },
    "id": "0lseRHbOYseR",
    "outputId": "d043934f-d634-46a6-eb26-5115298a652d"
   },
   "outputs": [
    {
     "data": {
      "text/html": [
       "<div>\n",
       "<style scoped>\n",
       "    .dataframe tbody tr th:only-of-type {\n",
       "        vertical-align: middle;\n",
       "    }\n",
       "\n",
       "    .dataframe tbody tr th {\n",
       "        vertical-align: top;\n",
       "    }\n",
       "\n",
       "    .dataframe thead th {\n",
       "        text-align: right;\n",
       "    }\n",
       "</style>\n",
       "<table border=\"1\" class=\"dataframe\">\n",
       "  <thead>\n",
       "    <tr style=\"text-align: right;\">\n",
       "      <th></th>\n",
       "      <th>Price</th>\n",
       "      <th>block_reward</th>\n",
       "      <th>Price+1</th>\n",
       "      <th>Price+2</th>\n",
       "      <th>Price+3</th>\n",
       "      <th>Price+4</th>\n",
       "      <th>Price+5</th>\n",
       "      <th>Price+6</th>\n",
       "      <th>Price+7</th>\n",
       "    </tr>\n",
       "    <tr>\n",
       "      <th>Date</th>\n",
       "      <th></th>\n",
       "      <th></th>\n",
       "      <th></th>\n",
       "      <th></th>\n",
       "      <th></th>\n",
       "      <th></th>\n",
       "      <th></th>\n",
       "      <th></th>\n",
       "      <th></th>\n",
       "    </tr>\n",
       "  </thead>\n",
       "  <tbody>\n",
       "    <tr>\n",
       "      <th>2013-10-01</th>\n",
       "      <td>123.65499</td>\n",
       "      <td>25</td>\n",
       "      <td>NaN</td>\n",
       "      <td>NaN</td>\n",
       "      <td>NaN</td>\n",
       "      <td>NaN</td>\n",
       "      <td>NaN</td>\n",
       "      <td>NaN</td>\n",
       "      <td>NaN</td>\n",
       "    </tr>\n",
       "    <tr>\n",
       "      <th>2013-10-02</th>\n",
       "      <td>125.45500</td>\n",
       "      <td>25</td>\n",
       "      <td>123.65499</td>\n",
       "      <td>NaN</td>\n",
       "      <td>NaN</td>\n",
       "      <td>NaN</td>\n",
       "      <td>NaN</td>\n",
       "      <td>NaN</td>\n",
       "      <td>NaN</td>\n",
       "    </tr>\n",
       "    <tr>\n",
       "      <th>2013-10-03</th>\n",
       "      <td>108.58483</td>\n",
       "      <td>25</td>\n",
       "      <td>125.45500</td>\n",
       "      <td>123.65499</td>\n",
       "      <td>NaN</td>\n",
       "      <td>NaN</td>\n",
       "      <td>NaN</td>\n",
       "      <td>NaN</td>\n",
       "      <td>NaN</td>\n",
       "    </tr>\n",
       "    <tr>\n",
       "      <th>2013-10-04</th>\n",
       "      <td>118.67466</td>\n",
       "      <td>25</td>\n",
       "      <td>108.58483</td>\n",
       "      <td>125.45500</td>\n",
       "      <td>123.65499</td>\n",
       "      <td>NaN</td>\n",
       "      <td>NaN</td>\n",
       "      <td>NaN</td>\n",
       "      <td>NaN</td>\n",
       "    </tr>\n",
       "    <tr>\n",
       "      <th>2013-10-05</th>\n",
       "      <td>121.33866</td>\n",
       "      <td>25</td>\n",
       "      <td>118.67466</td>\n",
       "      <td>108.58483</td>\n",
       "      <td>125.45500</td>\n",
       "      <td>123.65499</td>\n",
       "      <td>NaN</td>\n",
       "      <td>NaN</td>\n",
       "      <td>NaN</td>\n",
       "    </tr>\n",
       "  </tbody>\n",
       "</table>\n",
       "</div>"
      ],
      "text/plain": [
       "                Price block_reward    Price+1    Price+2    Price+3  \\\n",
       "Date                                                                  \n",
       "2013-10-01  123.65499           25        NaN        NaN        NaN   \n",
       "2013-10-02  125.45500           25  123.65499        NaN        NaN   \n",
       "2013-10-03  108.58483           25  125.45500  123.65499        NaN   \n",
       "2013-10-04  118.67466           25  108.58483  125.45500  123.65499   \n",
       "2013-10-05  121.33866           25  118.67466  108.58483  125.45500   \n",
       "\n",
       "              Price+4  Price+5  Price+6  Price+7  \n",
       "Date                                              \n",
       "2013-10-01        NaN      NaN      NaN      NaN  \n",
       "2013-10-02        NaN      NaN      NaN      NaN  \n",
       "2013-10-03        NaN      NaN      NaN      NaN  \n",
       "2013-10-04        NaN      NaN      NaN      NaN  \n",
       "2013-10-05  123.65499      NaN      NaN      NaN  "
      ]
     },
     "execution_count": 153,
     "metadata": {},
     "output_type": "execute_result"
    }
   ],
   "source": [
    "bitcoin_prices_windowed.head()"
   ]
  },
  {
   "cell_type": "code",
   "execution_count": 154,
   "metadata": {
    "id": "-HZ9ObQaYyVf"
   },
   "outputs": [],
   "source": [
    "# Train model on entire data to make prediction for the next day \n",
    "X_all = bitcoin_prices_windowed.drop([\"Price\", \"block_reward\"], axis=1).dropna().to_numpy() # only want prices, our future model can be a univariate model\n",
    "y_all = bitcoin_prices_windowed.dropna()[\"Price\"].to_numpy()"
   ]
  },
  {
   "cell_type": "code",
   "execution_count": 155,
   "metadata": {
    "colab": {
     "base_uri": "https://localhost:8080/"
    },
    "id": "B-eX9FBPZYkR",
    "outputId": "1092041c-7ef3-4ea4-af7a-289d09a58659"
   },
   "outputs": [
    {
     "data": {
      "text/plain": [
       "<PrefetchDataset element_spec=(TensorSpec(shape=(None, 7), dtype=tf.float64, name=None), TensorSpec(shape=(None,), dtype=tf.float64, name=None))>"
      ]
     },
     "execution_count": 155,
     "metadata": {},
     "output_type": "execute_result"
    }
   ],
   "source": [
    "# 1. Turn X and y into tensor Datasets\n",
    "features_dataset_all = tf.data.Dataset.from_tensor_slices(X_all)\n",
    "labels_dataset_all = tf.data.Dataset.from_tensor_slices(y_all)\n",
    "\n",
    "# 2. Combine features & labels\n",
    "dataset_all = tf.data.Dataset.zip((features_dataset_all, labels_dataset_all))\n",
    "\n",
    "# 3. Batch and prefetch for optimal performance\n",
    "BATCH_SIZE = 1024 # taken from Appendix D in N-BEATS paper\n",
    "dataset_all = dataset_all.batch(BATCH_SIZE).prefetch(tf.data.AUTOTUNE)\n",
    "\n",
    "dataset_all"
   ]
  },
  {
   "cell_type": "markdown",
   "metadata": {
    "id": "63wxSbcuY8RI"
   },
   "source": [
    "And now let's create a model similar to `model_1` except with an extra layer, we'll also fit it to the entire dataset for 100 epochs (feel free to play around with the number of epochs or callbacks here, you've got the skills to now)."
   ]
  },
  {
   "cell_type": "code",
   "execution_count": 156,
   "metadata": {
    "colab": {
     "base_uri": "https://localhost:8080/"
    },
    "id": "dCtmpaCGZ_fj",
    "outputId": "44ac47c8-5f84-422b-d8e3-017215098807"
   },
   "outputs": [
    {
     "data": {
      "text/plain": [
       "<keras.callbacks.History at 0x22185317940>"
      ]
     },
     "execution_count": 156,
     "metadata": {},
     "output_type": "execute_result"
    }
   ],
   "source": [
    "tf.random.set_seed(42)\n",
    "\n",
    "# Create model (nice and simple, just to test)\n",
    "model_9 = tf.keras.Sequential([\n",
    "  layers.Dense(128, activation=\"relu\"),\n",
    "  layers.Dense(128, activation=\"relu\"),\n",
    "  layers.Dense(HORIZON)\n",
    "])\n",
    "\n",
    "# Compile\n",
    "model_9.compile(loss=tf.keras.losses.mae,\n",
    "                optimizer=tf.keras.optimizers.Adam())\n",
    "\n",
    "# Fit model on all of the data to make future forecasts\n",
    "model_9.fit(dataset_all,\n",
    "            epochs=100,\n",
    "            verbose=0) # don't print out anything, we've seen this all before"
   ]
  },
  {
   "cell_type": "code",
   "execution_count": 157,
   "metadata": {
    "colab": {
     "base_uri": "https://localhost:8080/"
    },
    "id": "OLt1iA0pyx2p",
    "outputId": "ebd8a5c7-f665-4faf-f998-be27011a4e54"
   },
   "outputs": [
    {
     "name": "stdout",
     "output_type": "stream",
     "text": [
      "Model: \"sequential_15\"\n",
      "_________________________________________________________________\n",
      " Layer (type)                Output Shape              Param #   \n",
      "=================================================================\n",
      " dense_185 (Dense)           (None, 128)               1024      \n",
      "                                                                 \n",
      " dense_186 (Dense)           (None, 128)               16512     \n",
      "                                                                 \n",
      " dense_187 (Dense)           (None, 1)                 129       \n",
      "                                                                 \n",
      "=================================================================\n",
      "Total params: 17,665\n",
      "Trainable params: 17,665\n",
      "Non-trainable params: 0\n",
      "_________________________________________________________________\n"
     ]
    }
   ],
   "source": [
    "model_9.summary()"
   ]
  },
  {
   "cell_type": "code",
   "execution_count": 158,
   "metadata": {
    "id": "sYxHD1qPA1Mj"
   },
   "outputs": [],
   "source": [
    "# How many timesteps to predict into the future?\n",
    "INTO_FUTURE = 14 # since our Bitcoin data is daily, this is for 14 days"
   ]
  },
  {
   "cell_type": "code",
   "execution_count": 159,
   "metadata": {
    "id": "JEtTHMV_iE7f"
   },
   "outputs": [],
   "source": [
    "# 1. Create function to make predictions into the future\n",
    "def make_future_forecast(values, model, into_future, window_size=WINDOW_SIZE) -> list:\n",
    "  \"\"\"\n",
    "  Makes future forecasts into_future steps after values ends.\n",
    "\n",
    "  Returns future forecasts as list of floats.\n",
    "  \"\"\"\n",
    "  # 2. Make an empty list for future forecasts/prepare data to forecast on\n",
    "  future_forecast = []\n",
    "  last_window = values[-WINDOW_SIZE:] # only want preds from the last window (this will get updated)\n",
    "\n",
    "  # 3. Make INTO_FUTURE number of predictions, altering the data which gets predicted on each time \n",
    "  for _ in range(into_future):\n",
    "    \n",
    "    # Predict on last window then append it again, again, again (model starts to make forecasts on its own forecasts)\n",
    "    future_pred = model.predict(tf.expand_dims(last_window, axis=0))\n",
    "    print(f\"Predicting on: \\n {last_window} -> Prediction: {tf.squeeze(future_pred).numpy()}\\n\")\n",
    "    \n",
    "    # Append predictions to future_forecast\n",
    "    future_forecast.append(tf.squeeze(future_pred).numpy())\n",
    "    # print(future_forecast)\n",
    "\n",
    "    # Update last window with new pred and get WINDOW_SIZE most recent preds (model was trained on WINDOW_SIZE windows)\n",
    "    last_window = np.append(last_window, future_pred)[-WINDOW_SIZE:]\n",
    "  \n",
    "  return future_forecast"
   ]
  },
  {
   "cell_type": "code",
   "execution_count": 160,
   "metadata": {
    "colab": {
     "base_uri": "https://localhost:8080/"
    },
    "id": "ZZVNYdqJ5zo9",
    "outputId": "24ce6c65-a844-48e6-a4cd-884152146ca1"
   },
   "outputs": [
    {
     "name": "stdout",
     "output_type": "stream",
     "text": [
      "1/1 [==============================] - 0s 217ms/step\n",
      "Predicting on: \n",
      " [56573.5554719  52147.82118698 49764.1320816  50032.69313676\n",
      " 47885.62525472 45604.61575361 43144.47129086] -> Prediction: 55608.83203125\n",
      "\n",
      "1/1 [==============================] - 0s 32ms/step\n",
      "Predicting on: \n",
      " [52147.82118698 49764.1320816  50032.69313676 47885.62525472\n",
      " 45604.61575361 43144.47129086 55608.83203125] -> Prediction: 51604.32421875\n",
      "\n",
      "1/1 [==============================] - 0s 58ms/step\n",
      "Predicting on: \n",
      " [49764.1320816  50032.69313676 47885.62525472 45604.61575361\n",
      " 43144.47129086 55608.83203125 51604.32421875] -> Prediction: 48771.9765625\n",
      "\n",
      "1/1 [==============================] - 0s 21ms/step\n",
      "Predicting on: \n",
      " [50032.69313676 47885.62525472 45604.61575361 43144.47129086\n",
      " 55608.83203125 51604.32421875 48771.9765625 ] -> Prediction: 48968.40234375\n",
      "\n",
      "1/1 [==============================] - 0s 22ms/step\n",
      "Predicting on: \n",
      " [47885.62525472 45604.61575361 43144.47129086 55608.83203125\n",
      " 51604.32421875 48771.9765625  48968.40234375] -> Prediction: 47895.16015625\n",
      "\n",
      "1/1 [==============================] - 0s 20ms/step\n",
      "Predicting on: \n",
      " [45604.61575361 43144.47129086 55608.83203125 51604.32421875\n",
      " 48771.9765625  48968.40234375 47895.16015625] -> Prediction: 46694.9375\n",
      "\n",
      "1/1 [==============================] - 0s 22ms/step\n",
      "Predicting on: \n",
      " [43144.47129086 55608.83203125 51604.32421875 48771.9765625\n",
      " 48968.40234375 47895.16015625 46694.9375    ] -> Prediction: 48385.44921875\n",
      "\n",
      "1/1 [==============================] - 0s 22ms/step\n",
      "Predicting on: \n",
      " [55608.83203125 51604.32421875 48771.9765625  48968.40234375\n",
      " 47895.16015625 46694.9375     48385.44921875] -> Prediction: 54374.140625\n",
      "\n",
      "1/1 [==============================] - 0s 43ms/step\n",
      "Predicting on: \n",
      " [51604.32421875 48771.9765625  48968.40234375 47895.16015625\n",
      " 46694.9375     48385.44921875 54374.140625  ] -> Prediction: 50477.52734375\n",
      "\n",
      "1/1 [==============================] - 0s 29ms/step\n",
      "Predicting on: \n",
      " [48771.9765625  48968.40234375 47895.16015625 46694.9375\n",
      " 48385.44921875 54374.140625   50477.52734375] -> Prediction: 48264.27734375\n",
      "\n",
      "1/1 [==============================] - 0s 24ms/step\n",
      "Predicting on: \n",
      " [48968.40234375 47895.16015625 46694.9375     48385.44921875\n",
      " 54374.140625   50477.52734375 48264.27734375] -> Prediction: 48913.47265625\n",
      "\n",
      "1/1 [==============================] - 0s 29ms/step\n",
      "Predicting on: \n",
      " [47895.16015625 46694.9375     48385.44921875 54374.140625\n",
      " 50477.52734375 48264.27734375 48913.47265625] -> Prediction: 48660.3671875\n",
      "\n",
      "1/1 [==============================] - 0s 25ms/step\n",
      "Predicting on: \n",
      " [46694.9375     48385.44921875 54374.140625   50477.52734375\n",
      " 48264.27734375 48913.47265625 48660.3671875 ] -> Prediction: 48514.921875\n",
      "\n",
      "1/1 [==============================] - 0s 22ms/step\n",
      "Predicting on: \n",
      " [48385.44921875 54374.140625   50477.52734375 48264.27734375\n",
      " 48913.47265625 48660.3671875  48514.921875  ] -> Prediction: 50631.8125\n",
      "\n"
     ]
    }
   ],
   "source": [
    "# Make forecasts into future of the price of Bitcoin\n",
    "# Note: if you're reading this at a later date, you may already be in the future, so the forecasts \n",
    "# we're making may not actually be forecasts, if that's the case, readjust the training data.\n",
    "future_forecast = make_future_forecast(values=y_all,\n",
    "                                       model=model_9,\n",
    "                                       into_future=INTO_FUTURE,\n",
    "                                       window_size=WINDOW_SIZE)"
   ]
  },
  {
   "cell_type": "code",
   "execution_count": 161,
   "metadata": {
    "colab": {
     "base_uri": "https://localhost:8080/"
    },
    "id": "hFZmkWRccmQ5",
    "outputId": "47631b57-be2c-45ea-fd12-60f224eed09b"
   },
   "outputs": [
    {
     "data": {
      "text/plain": [
       "[55608.832,\n",
       " 51604.324,\n",
       " 48771.977,\n",
       " 48968.402,\n",
       " 47895.16,\n",
       " 46694.938,\n",
       " 48385.45,\n",
       " 54374.14,\n",
       " 50477.527,\n",
       " 48264.277]"
      ]
     },
     "execution_count": 161,
     "metadata": {},
     "output_type": "execute_result"
    }
   ],
   "source": [
    "future_forecast[:10]"
   ]
  },
  {
   "cell_type": "code",
   "execution_count": 162,
   "metadata": {
    "id": "i4iNNliSCbU-"
   },
   "outputs": [],
   "source": [
    "def get_future_dates(start_date, into_future, offset=1):\n",
    "  \"\"\"\n",
    "  Returns array of datetime values from ranging from start_date to start_date+horizon.\n",
    "\n",
    "  start_date: date to start range (np.datetime64)\n",
    "  into_future: number of days to add onto start date for range (int)\n",
    "  offset: number of days to offset start_date by (default 1)\n",
    "  \"\"\"\n",
    "  start_date = start_date + np.timedelta64(offset, \"D\") # specify start date, \"D\" stands for day\n",
    "  end_date = start_date + np.timedelta64(into_future, \"D\") # specify end date\n",
    "  return np.arange(start_date, end_date, dtype=\"datetime64[D]\") # return a date range between start date and end date"
   ]
  },
  {
   "cell_type": "markdown",
   "metadata": {
    "id": "sob2VY8chLA5"
   },
   "source": [
    "The start date of our forecasted dates will be the last date of our dataset. "
   ]
  },
  {
   "cell_type": "code",
   "execution_count": 163,
   "metadata": {
    "colab": {
     "base_uri": "https://localhost:8080/"
    },
    "id": "6676Sl-cAFn5",
    "outputId": "ebc8824a-83a2-45c3-ab21-53b77b753ee6"
   },
   "outputs": [
    {
     "data": {
      "text/plain": [
       "Timestamp('2021-05-18 00:00:00')"
      ]
     },
     "execution_count": 163,
     "metadata": {},
     "output_type": "execute_result"
    }
   ],
   "source": [
    "# Last timestep of timesteps (currently in np.datetime64 format)\n",
    "last_timestep = bitcoin_prices.index[-1]\n",
    "last_timestep"
   ]
  },
  {
   "cell_type": "code",
   "execution_count": 164,
   "metadata": {
    "colab": {
     "base_uri": "https://localhost:8080/"
    },
    "id": "252bhVD7C5NZ",
    "outputId": "e9010b3f-e38f-4e95-b62b-7b158a8a4051"
   },
   "outputs": [
    {
     "data": {
      "text/plain": [
       "array(['2021-05-19', '2021-05-20', '2021-05-21', '2021-05-22',\n",
       "       '2021-05-23', '2021-05-24', '2021-05-25', '2021-05-26',\n",
       "       '2021-05-27', '2021-05-28', '2021-05-29', '2021-05-30',\n",
       "       '2021-05-31', '2021-06-01'], dtype='datetime64[D]')"
      ]
     },
     "execution_count": 164,
     "metadata": {},
     "output_type": "execute_result"
    }
   ],
   "source": [
    "# Get next two weeks of timesteps\n",
    "next_time_steps = get_future_dates(start_date=last_timestep, \n",
    "                                   into_future=INTO_FUTURE)\n",
    "next_time_steps"
   ]
  },
  {
   "cell_type": "markdown",
   "metadata": {
    "id": "A5FIVsQJhVVs"
   },
   "source": [
    "Look at that! We've now got a list of dates we can use to visualize our future Bitcoin predictions.\n",
    "\n",
    "But to make sure the lines of the plot connect (try not running the cell below and then plotting the data to see what I mean), let's insert the last timestep and Bitcoin price of our training data to the `next_time_steps` and `future_forecast` arrays."
   ]
  },
  {
   "cell_type": "code",
   "execution_count": 165,
   "metadata": {
    "colab": {
     "base_uri": "https://localhost:8080/"
    },
    "id": "QLXAudg3hIo9",
    "outputId": "034c65e4-fa57-47a2-85bb-6f9409768066"
   },
   "outputs": [
    {
     "data": {
      "text/plain": [
       "(array(['2021-05-18', '2021-05-19', '2021-05-20', '2021-05-21',\n",
       "        '2021-05-22', '2021-05-23', '2021-05-24', '2021-05-25',\n",
       "        '2021-05-26', '2021-05-27', '2021-05-28', '2021-05-29',\n",
       "        '2021-05-30', '2021-05-31', '2021-06-01'], dtype='datetime64[D]'),\n",
       " array([43144.473, 55608.832, 51604.324, 48771.977, 48968.402, 47895.16 ,\n",
       "        46694.938, 48385.45 , 54374.14 , 50477.527, 48264.277, 48913.473,\n",
       "        48660.367, 48514.92 , 50631.812], dtype=float32))"
      ]
     },
     "execution_count": 165,
     "metadata": {},
     "output_type": "execute_result"
    }
   ],
   "source": [
    "# Insert last timestep/final price so the graph doesn't look messed\n",
    "next_time_steps = np.insert(next_time_steps, 0, last_timestep)\n",
    "future_forecast = np.insert(future_forecast, 0, btc_price[-1])\n",
    "next_time_steps, future_forecast"
   ]
  },
  {
   "cell_type": "markdown",
   "metadata": {
    "id": "-xDtk3wHhyDQ"
   },
   "source": [
    "Time to plot!"
   ]
  },
  {
   "cell_type": "code",
   "execution_count": 166,
   "metadata": {
    "colab": {
     "base_uri": "https://localhost:8080/",
     "height": 442
    },
    "id": "LUo-rjmpfuM0",
    "outputId": "332d3796-3d2d-45a3-ce48-be96771d2b18"
   },
   "outputs": [
    {
     "data": {
      "image/png": "[encoded data removed]",
      "text/plain": [
       "<Figure size 720x504 with 1 Axes>"
      ]
     },
     "metadata": {
      "needs_background": "light"
     },
     "output_type": "display_data"
    }
   ],
   "source": [
    "# Plot future price predictions of Bitcoin\n",
    "plt.figure(figsize=(10, 7))\n",
    "plot_time_series(bitcoin_prices.index, btc_price, start=2500, format=\"-\", label=\"Actual BTC Price\")\n",
    "plot_time_series(next_time_steps, future_forecast, format=\"-\", label=\"Predicted BTC Price\")"
   ]
  },
  {
   "cell_type": "code",
   "execution_count": 167,
   "metadata": {
    "colab": {
     "base_uri": "https://localhost:8080/",
     "height": 331
    },
    "id": "vZtkauQXBXVx",
    "outputId": "c3f6d6ed-b9f0-45d2-a648-4f10b5a4f301"
   },
   "outputs": [
    {
     "data": {
      "text/html": [
       "<div>\n",
       "<style scoped>\n",
       "    .dataframe tbody tr th:only-of-type {\n",
       "        vertical-align: middle;\n",
       "    }\n",
       "\n",
       "    .dataframe tbody tr th {\n",
       "        vertical-align: top;\n",
       "    }\n",
       "\n",
       "    .dataframe thead th {\n",
       "        text-align: right;\n",
       "    }\n",
       "</style>\n",
       "<table border=\"1\" class=\"dataframe\">\n",
       "  <thead>\n",
       "    <tr style=\"text-align: right;\">\n",
       "      <th></th>\n",
       "      <th>mae</th>\n",
       "      <th>mse</th>\n",
       "      <th>rmse</th>\n",
       "      <th>mape</th>\n",
       "      <th>mase</th>\n",
       "    </tr>\n",
       "  </thead>\n",
       "  <tbody>\n",
       "    <tr>\n",
       "      <th>naive_model</th>\n",
       "      <td>567.980225</td>\n",
       "      <td>1147547.000</td>\n",
       "      <td>1071.236206</td>\n",
       "      <td>2.516525</td>\n",
       "      <td>0.999570</td>\n",
       "    </tr>\n",
       "    <tr>\n",
       "      <th>model_1_dense_w7_h1</th>\n",
       "      <td>599.257996</td>\n",
       "      <td>1256225.625</td>\n",
       "      <td>1120.814697</td>\n",
       "      <td>2.713134</td>\n",
       "      <td>1.052730</td>\n",
       "    </tr>\n",
       "    <tr>\n",
       "      <th>model_2_dense_w30_h1</th>\n",
       "      <td>645.573364</td>\n",
       "      <td>1394154.000</td>\n",
       "      <td>1180.743042</td>\n",
       "      <td>3.011774</td>\n",
       "      <td>1.128469</td>\n",
       "    </tr>\n",
       "    <tr>\n",
       "      <th>model_3_dense_w30_h7</th>\n",
       "      <td>1285.247559</td>\n",
       "      <td>5613983.500</td>\n",
       "      <td>1477.187012</td>\n",
       "      <td>5.756607</td>\n",
       "      <td>2.287026</td>\n",
       "    </tr>\n",
       "    <tr>\n",
       "      <th>model_4_CONV1D</th>\n",
       "      <td>573.725525</td>\n",
       "      <td>1193796.875</td>\n",
       "      <td>1092.610107</td>\n",
       "      <td>2.568112</td>\n",
       "      <td>1.007877</td>\n",
       "    </tr>\n",
       "    <tr>\n",
       "      <th>model_5_LSTM</th>\n",
       "      <td>568.032776</td>\n",
       "      <td>1170161.875</td>\n",
       "      <td>1081.740234</td>\n",
       "      <td>2.541071</td>\n",
       "      <td>0.997876</td>\n",
       "    </tr>\n",
       "    <tr>\n",
       "      <th>model_6_multivariate</th>\n",
       "      <td>568.183228</td>\n",
       "      <td>1159775.750</td>\n",
       "      <td>1076.928833</td>\n",
       "      <td>2.529535</td>\n",
       "      <td>0.998141</td>\n",
       "    </tr>\n",
       "    <tr>\n",
       "      <th>model_8_NBEATs</th>\n",
       "      <td>572.326111</td>\n",
       "      <td>1131179.875</td>\n",
       "      <td>1063.569458</td>\n",
       "      <td>2.673580</td>\n",
       "      <td>1.005418</td>\n",
       "    </tr>\n",
       "    <tr>\n",
       "      <th>model_9_ensemble</th>\n",
       "      <td>564.431030</td>\n",
       "      <td>1138150.125</td>\n",
       "      <td>1066.841187</td>\n",
       "      <td>2.561604</td>\n",
       "      <td>0.991549</td>\n",
       "    </tr>\n",
       "  </tbody>\n",
       "</table>\n",
       "</div>"
      ],
      "text/plain": [
       "                              mae          mse         rmse      mape  \\\n",
       "naive_model            567.980225  1147547.000  1071.236206  2.516525   \n",
       "model_1_dense_w7_h1    599.257996  1256225.625  1120.814697  2.713134   \n",
       "model_2_dense_w30_h1   645.573364  1394154.000  1180.743042  3.011774   \n",
       "model_3_dense_w30_h7  1285.247559  5613983.500  1477.187012  5.756607   \n",
       "model_4_CONV1D         573.725525  1193796.875  1092.610107  2.568112   \n",
       "model_5_LSTM           568.032776  1170161.875  1081.740234  2.541071   \n",
       "model_6_multivariate   568.183228  1159775.750  1076.928833  2.529535   \n",
       "model_8_NBEATs         572.326111  1131179.875  1063.569458  2.673580   \n",
       "model_9_ensemble       564.431030  1138150.125  1066.841187  2.561604   \n",
       "\n",
       "                          mase  \n",
       "naive_model           0.999570  \n",
       "model_1_dense_w7_h1   1.052730  \n",
       "model_2_dense_w30_h1  1.128469  \n",
       "model_3_dense_w30_h7  2.287026  \n",
       "model_4_CONV1D        1.007877  \n",
       "model_5_LSTM          0.997876  \n",
       "model_6_multivariate  0.998141  \n",
       "model_8_NBEATs        1.005418  \n",
       "model_9_ensemble      0.991549  "
      ]
     },
     "execution_count": 167,
     "metadata": {},
     "output_type": "execute_result"
    }
   ],
   "source": [
    "# Compare different model results (w = window, h = horizon, e.g. w=7 means a window size of 7)\n",
    "model_results = pd.DataFrame({\"naive_model\": naive_results,\n",
    "                              \"model_1_dense_w7_h1\": model_1_results,\n",
    "                              \"model_2_dense_w30_h1\": model_2_results,\n",
    "                              \"model_3_dense_w30_h7\": model_3_results,\n",
    "                              \"model_4_CONV1D\": model_4_results,\n",
    "                              \"model_5_LSTM\": model_5_results,\n",
    "                              \"model_6_multivariate\": model_6_results,\n",
    "                              \"model_8_NBEATs\": model_7_results,\n",
    "                              \"model_9_ensemble\": ensemble_results,\n",
    "                               }).T\n",
    "model_results.head(10)"
   ]
  },
  {
   "cell_type": "code",
   "execution_count": 168,
   "metadata": {
    "colab": {
     "base_uri": "https://localhost:8080/",
     "height": 539
    },
    "id": "PrLcCM-LFv2B",
    "outputId": "ddd71a0a-88e1-4761-d625-a049684d018a"
   },
   "outputs": [
    {
     "data": {
      "image/png": "[encoded data removed]",
      "text/plain": [
       "<Figure size 720x504 with 1 Axes>"
      ]
     },
     "metadata": {
      "needs_background": "light"
     },
     "output_type": "display_data"
    }
   ],
   "source": [
    "# Sort model results by MAE and plot them\n",
    "model_results[[\"mae\"]].sort_values(by=\"mae\").plot(figsize=(10, 7), kind=\"bar\");"
   ]
  },
  {
   "cell_type": "code",
   "execution_count": null,
   "metadata": {},
   "outputs": [],
   "source": []
  },
  {
   "cell_type": "code",
   "execution_count": null,
   "metadata": {},
   "outputs": [],
   "source": []
  }
 ],
 "metadata": {
  "accelerator": "GPU",
  "colab": {
   "collapsed_sections": [
    "81ywkh0q8Apj",
    "FRKabu6qB41C",
    "O2C1JsHUPYGG",
    "_nfP7i9R_dOp",
    "prkQhgiHNOKd",
    "ajoASBK2size",
    "sGUelYVKCybB",
    "cwSpQQRl_dHb",
    "JO1YAv7w_dE7",
    "UdK4KoFnA90I",
    "_5kgVzdq1S1A",
    "exTivzXvgbmb",
    "t405o940Twum",
    "Ojqon-Y5VpCC",
    "N7gsBYiNMk2E",
    "47VA8gR3B7QP",
    "iiOlVRREB7No"
   ],
   "provenance": []
  },
  "gpuClass": "standard",
  "kernelspec": {
   "display_name": "Python 3 (ipykernel)",
   "language": "python",
   "name": "python3"
  },
  "language_info": {
   "codemirror_mode": {
    "name": "ipython",
    "version": 3
   },
   "file_extension": ".py",
   "mimetype": "text/x-python",
   "name": "python",
   "nbconvert_exporter": "python",
   "pygments_lexer": "ipython3",
   "version": "3.9.12"
  }
 },
 "nbformat": 4,
 "nbformat_minor": 1
}
