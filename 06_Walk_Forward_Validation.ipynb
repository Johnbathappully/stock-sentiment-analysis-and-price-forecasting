{
  "nbformat": 4,
  "nbformat_minor": 0,
  "metadata": {
    "colab": {
      "provenance": []
    },
    "kernelspec": {
      "name": "python3",
      "display_name": "Python 3"
    },
    "language_info": {
      "name": "python"
    },
    "accelerator": "TPU",
    "gpuClass": "standard"
  },
  "cells": [
    {
      "cell_type": "code",
      "metadata": {
        "colab": {
          "base_uri": "https://localhost:8080/"
        },
        "id": "20Y4Ed2wOPDI",
        "outputId": "4a46029e-7abe-4bd5-bb4e-d77b4e19f813"
      },
      "source": [
        "pip install -U statsmodels"
      ],
      "execution_count": null,
      "outputs": [
        {
          "output_type": "stream",
          "name": "stdout",
          "text": [
            "Looking in indexes: https://pypi.org/simple, https://us-python.pkg.dev/colab-wheels/public/simple/\n",
            "Requirement already satisfied: statsmodels in /usr/local/lib/python3.8/dist-packages (0.12.2)\n",
            "Collecting statsmodels\n",
            "  Downloading statsmodels-0.13.5-cp38-cp38-manylinux_2_17_x86_64.manylinux2014_x86_64.whl (9.9 MB)\n",
            "\u001b[2K     \u001b[90m━━━━━━━━━━━━━━━━━━━━━━━━━━━━━━━━━━━━━━━━\u001b[0m \u001b[32m9.9/9.9 MB\u001b[0m \u001b[31m13.5 MB/s\u001b[0m eta \u001b[36m0:00:00\u001b[0m\n",
            "\u001b[?25hRequirement already satisfied: numpy>=1.17 in /usr/local/lib/python3.8/dist-packages (from statsmodels) (1.21.6)\n",
            "Requirement already satisfied: packaging>=21.3 in /usr/local/lib/python3.8/dist-packages (from statsmodels) (21.3)\n",
            "Requirement already satisfied: patsy>=0.5.2 in /usr/local/lib/python3.8/dist-packages (from statsmodels) (0.5.3)\n",
            "Requirement already satisfied: pandas>=0.25 in /usr/local/lib/python3.8/dist-packages (from statsmodels) (1.3.5)\n",
            "Requirement already satisfied: scipy>=1.3 in /usr/local/lib/python3.8/dist-packages (from statsmodels) (1.7.3)\n",
            "Requirement already satisfied: pyparsing!=3.0.5,>=2.0.2 in /usr/local/lib/python3.8/dist-packages (from packaging>=21.3->statsmodels) (3.0.9)\n",
            "Requirement already satisfied: python-dateutil>=2.7.3 in /usr/local/lib/python3.8/dist-packages (from pandas>=0.25->statsmodels) (2.8.2)\n",
            "Requirement already satisfied: pytz>=2017.3 in /usr/local/lib/python3.8/dist-packages (from pandas>=0.25->statsmodels) (2022.7)\n",
            "Requirement already satisfied: six in /usr/local/lib/python3.8/dist-packages (from patsy>=0.5.2->statsmodels) (1.15.0)\n",
            "Installing collected packages: statsmodels\n",
            "  Attempting uninstall: statsmodels\n",
            "    Found existing installation: statsmodels 0.12.2\n",
            "    Uninstalling statsmodels-0.12.2:\n",
            "      Successfully uninstalled statsmodels-0.12.2\n",
            "Successfully installed statsmodels-0.13.5\n"
          ]
        }
      ]
    },
    {
      "cell_type": "code",
      "metadata": {
        "id": "NquljTojOA4g"
      },
      "source": [
        "import pandas as pd\n",
        "import numpy as np\n",
        "import matplotlib.pyplot as plt\n",
        "\n",
        "import itertools\n",
        "\n",
        "from sklearn.metrics import mean_squared_error\n",
        "from statsmodels.tsa.holtwinters import ExponentialSmoothing"
      ],
      "execution_count": null,
      "outputs": []
    },
    {
      "cell_type": "code",
      "metadata": {
        "id": "u_MrkkBxOHVn"
      },
      "source": [
        "df = pd.read_csv('BTC_USD_2013-10-01_2021-05-18-CoinDesk.csv', index_col='Date', parse_dates=True)"
      ],
      "execution_count": null,
      "outputs": []
    },
    {
      "cell_type": "code",
      "metadata": {
        "id": "OEnGyPhcOTxK"
      },
      "source": [
        "#df.index.freq = 'B'"
      ],
      "execution_count": null,
      "outputs": []
    },
    {
      "cell_type": "code",
      "metadata": {
        "colab": {
          "base_uri": "https://localhost:8080/"
        },
        "id": "_L6JeJ-bObTW",
        "outputId": "bd140f09-e920-4be4-e4a4-bd6b9a5f63e0"
      },
      "source": [
        "df.shape"
      ],
      "execution_count": null,
      "outputs": [
        {
          "output_type": "execute_result",
          "data": {
            "text/plain": [
              "(2787, 5)"
            ]
          },
          "metadata": {},
          "execution_count": 6
        }
      ]
    },
    {
      "cell_type": "code",
      "metadata": {
        "id": "MF-rYg4lOjl9"
      },
      "source": [
        "# Assume the forecast horizon we care about is 12\n",
        "# Validate over 10 steps\n",
        "h = 12\n",
        "steps = 10\n",
        "Ntest = len(df) - h - steps + 1"
      ],
      "execution_count": null,
      "outputs": []
    },
    {
      "cell_type": "code",
      "metadata": {
        "id": "3zlZOk1mQL44"
      },
      "source": [
        "# Configuration hyperparameters to try\n",
        "trend_type_list = ['add', 'mul']\n",
        "seasonal_type_list = ['add', 'mul']\n",
        "damped_trend_list = [True, False]\n",
        "init_method_list = ['estimated', 'heuristic', 'legacy-heuristic']\n",
        "use_boxcox_list = [True, False, 0]"
      ],
      "execution_count": null,
      "outputs": []
    },
    {
      "cell_type": "code",
      "metadata": {
        "id": "sq3nD28oxaiU"
      },
      "source": [
        "# NOTE: statsmodels documentation states that 'log' is an acceptable input\n",
        "#       for use_boxcox. This is false."
      ],
      "execution_count": null,
      "outputs": []
    },
    {
      "cell_type": "code",
      "metadata": {
        "id": "OqBy5C9vRIpJ"
      },
      "source": [
        "def walkforward(\n",
        "    trend_type,\n",
        "    seasonal_type,\n",
        "    damped_trend,\n",
        "    init_method,\n",
        "    use_boxcox,\n",
        "    debug=False):\n",
        "\n",
        "  # store errors\n",
        "  errors = []\n",
        "  seen_last = False\n",
        "  steps_completed = 0\n",
        "\n",
        "  for end_of_train in range(Ntest, len(df) - h + 1):\n",
        "    # We don't have to manually \"add\" the data to our dataset\n",
        "    # Just index it at the right points - this is a \"view\" not a \"copy\"\n",
        "    # So it doesn't take up any extra space or computation\n",
        "    train = df.iloc[:end_of_train]\n",
        "    test = df.iloc[end_of_train:end_of_train + h]\n",
        "\n",
        "    if test.index[-1] == df.index[-1]:\n",
        "      seen_last = True\n",
        "    \n",
        "    steps_completed += 1\n",
        "\n",
        "    hw = ExponentialSmoothing(\n",
        "        train['Closing Price (USD)'],\n",
        "        initialization_method=init_method,\n",
        "        trend=trend_type,\n",
        "        damped_trend=damped_trend,\n",
        "        seasonal=seasonal_type,\n",
        "        seasonal_periods=12,\n",
        "        use_boxcox=use_boxcox)\n",
        "    res_hw = hw.fit()\n",
        "\n",
        "    # compute error for the forecast horizon\n",
        "    fcast = res_hw.forecast(h)\n",
        "    error = mean_squared_error(test['Closing Price (USD)'], fcast)\n",
        "    errors.append(error)\n",
        "  \n",
        "  if debug:\n",
        "    print(\"seen_last:\", seen_last)\n",
        "    print(\"steps completed:\", steps_completed)\n",
        "\n",
        "  return np.mean(errors)\n"
      ],
      "execution_count": null,
      "outputs": []
    },
    {
      "cell_type": "code",
      "metadata": {
        "colab": {
          "base_uri": "https://localhost:8080/"
        },
        "id": "7KJCfECKwSQl",
        "outputId": "783d859e-936a-418f-8b57-f101f11452f8"
      },
      "source": [
        "# test our our function\n",
        "walkforward('add', 'add', False, 'legacy-heuristic', 0, debug=True)"
      ],
      "execution_count": null,
      "outputs": [
        {
          "output_type": "stream",
          "name": "stderr",
          "text": [
            "/usr/local/lib/python3.8/dist-packages/statsmodels/tsa/base/tsa_model.py:471: ValueWarning: No frequency information was provided, so inferred frequency D will be used.\n",
            "  self._init_dates(dates, freq)\n",
            "/usr/local/lib/python3.8/dist-packages/statsmodels/tsa/base/tsa_model.py:471: ValueWarning: No frequency information was provided, so inferred frequency D will be used.\n",
            "  self._init_dates(dates, freq)\n",
            "/usr/local/lib/python3.8/dist-packages/statsmodels/tsa/base/tsa_model.py:471: ValueWarning: No frequency information was provided, so inferred frequency D will be used.\n",
            "  self._init_dates(dates, freq)\n",
            "/usr/local/lib/python3.8/dist-packages/statsmodels/tsa/base/tsa_model.py:471: ValueWarning: No frequency information was provided, so inferred frequency D will be used.\n",
            "  self._init_dates(dates, freq)\n",
            "/usr/local/lib/python3.8/dist-packages/statsmodels/tsa/base/tsa_model.py:471: ValueWarning: No frequency information was provided, so inferred frequency D will be used.\n",
            "  self._init_dates(dates, freq)\n",
            "/usr/local/lib/python3.8/dist-packages/statsmodels/tsa/base/tsa_model.py:471: ValueWarning: No frequency information was provided, so inferred frequency D will be used.\n",
            "  self._init_dates(dates, freq)\n",
            "/usr/local/lib/python3.8/dist-packages/statsmodels/tsa/base/tsa_model.py:471: ValueWarning: No frequency information was provided, so inferred frequency D will be used.\n",
            "  self._init_dates(dates, freq)\n",
            "/usr/local/lib/python3.8/dist-packages/statsmodels/tsa/base/tsa_model.py:471: ValueWarning: No frequency information was provided, so inferred frequency D will be used.\n",
            "  self._init_dates(dates, freq)\n",
            "/usr/local/lib/python3.8/dist-packages/statsmodels/tsa/base/tsa_model.py:471: ValueWarning: No frequency information was provided, so inferred frequency D will be used.\n",
            "  self._init_dates(dates, freq)\n",
            "/usr/local/lib/python3.8/dist-packages/statsmodels/tsa/base/tsa_model.py:471: ValueWarning: No frequency information was provided, so inferred frequency D will be used.\n",
            "  self._init_dates(dates, freq)\n"
          ]
        },
        {
          "output_type": "stream",
          "name": "stdout",
          "text": [
            "seen_last: True\n",
            "steps completed: 10\n"
          ]
        },
        {
          "output_type": "execute_result",
          "data": {
            "text/plain": [
              "17643779.083226405"
            ]
          },
          "metadata": {},
          "execution_count": 11
        }
      ]
    },
    {
      "cell_type": "code",
      "metadata": {
        "colab": {
          "base_uri": "https://localhost:8080/"
        },
        "id": "HeKIa7lQt_Wu",
        "outputId": "1d178f20-e3f7-413f-b471-70c83ed112f9"
      },
      "source": [
        "# Iterate through all possible options (i.e. grid search)\n",
        "tuple_of_option_lists = (\n",
        "    trend_type_list,\n",
        "    seasonal_type_list,\n",
        "    damped_trend_list,\n",
        "    init_method_list,\n",
        "    use_boxcox_list,\n",
        ")\n",
        "for x in itertools.product(*tuple_of_option_lists):\n",
        "  print(x)"
      ],
      "execution_count": null,
      "outputs": [
        {
          "output_type": "stream",
          "name": "stdout",
          "text": [
            "('add', 'add', True, 'estimated', True)\n",
            "('add', 'add', True, 'estimated', False)\n",
            "('add', 'add', True, 'estimated', 0)\n",
            "('add', 'add', True, 'heuristic', True)\n",
            "('add', 'add', True, 'heuristic', False)\n",
            "('add', 'add', True, 'heuristic', 0)\n",
            "('add', 'add', True, 'legacy-heuristic', True)\n",
            "('add', 'add', True, 'legacy-heuristic', False)\n",
            "('add', 'add', True, 'legacy-heuristic', 0)\n",
            "('add', 'add', False, 'estimated', True)\n",
            "('add', 'add', False, 'estimated', False)\n",
            "('add', 'add', False, 'estimated', 0)\n",
            "('add', 'add', False, 'heuristic', True)\n",
            "('add', 'add', False, 'heuristic', False)\n",
            "('add', 'add', False, 'heuristic', 0)\n",
            "('add', 'add', False, 'legacy-heuristic', True)\n",
            "('add', 'add', False, 'legacy-heuristic', False)\n",
            "('add', 'add', False, 'legacy-heuristic', 0)\n",
            "('add', 'mul', True, 'estimated', True)\n",
            "('add', 'mul', True, 'estimated', False)\n",
            "('add', 'mul', True, 'estimated', 0)\n",
            "('add', 'mul', True, 'heuristic', True)\n",
            "('add', 'mul', True, 'heuristic', False)\n",
            "('add', 'mul', True, 'heuristic', 0)\n",
            "('add', 'mul', True, 'legacy-heuristic', True)\n",
            "('add', 'mul', True, 'legacy-heuristic', False)\n",
            "('add', 'mul', True, 'legacy-heuristic', 0)\n",
            "('add', 'mul', False, 'estimated', True)\n",
            "('add', 'mul', False, 'estimated', False)\n",
            "('add', 'mul', False, 'estimated', 0)\n",
            "('add', 'mul', False, 'heuristic', True)\n",
            "('add', 'mul', False, 'heuristic', False)\n",
            "('add', 'mul', False, 'heuristic', 0)\n",
            "('add', 'mul', False, 'legacy-heuristic', True)\n",
            "('add', 'mul', False, 'legacy-heuristic', False)\n",
            "('add', 'mul', False, 'legacy-heuristic', 0)\n",
            "('mul', 'add', True, 'estimated', True)\n",
            "('mul', 'add', True, 'estimated', False)\n",
            "('mul', 'add', True, 'estimated', 0)\n",
            "('mul', 'add', True, 'heuristic', True)\n",
            "('mul', 'add', True, 'heuristic', False)\n",
            "('mul', 'add', True, 'heuristic', 0)\n",
            "('mul', 'add', True, 'legacy-heuristic', True)\n",
            "('mul', 'add', True, 'legacy-heuristic', False)\n",
            "('mul', 'add', True, 'legacy-heuristic', 0)\n",
            "('mul', 'add', False, 'estimated', True)\n",
            "('mul', 'add', False, 'estimated', False)\n",
            "('mul', 'add', False, 'estimated', 0)\n",
            "('mul', 'add', False, 'heuristic', True)\n",
            "('mul', 'add', False, 'heuristic', False)\n",
            "('mul', 'add', False, 'heuristic', 0)\n",
            "('mul', 'add', False, 'legacy-heuristic', True)\n",
            "('mul', 'add', False, 'legacy-heuristic', False)\n",
            "('mul', 'add', False, 'legacy-heuristic', 0)\n",
            "('mul', 'mul', True, 'estimated', True)\n",
            "('mul', 'mul', True, 'estimated', False)\n",
            "('mul', 'mul', True, 'estimated', 0)\n",
            "('mul', 'mul', True, 'heuristic', True)\n",
            "('mul', 'mul', True, 'heuristic', False)\n",
            "('mul', 'mul', True, 'heuristic', 0)\n",
            "('mul', 'mul', True, 'legacy-heuristic', True)\n",
            "('mul', 'mul', True, 'legacy-heuristic', False)\n",
            "('mul', 'mul', True, 'legacy-heuristic', 0)\n",
            "('mul', 'mul', False, 'estimated', True)\n",
            "('mul', 'mul', False, 'estimated', False)\n",
            "('mul', 'mul', False, 'estimated', 0)\n",
            "('mul', 'mul', False, 'heuristic', True)\n",
            "('mul', 'mul', False, 'heuristic', False)\n",
            "('mul', 'mul', False, 'heuristic', 0)\n",
            "('mul', 'mul', False, 'legacy-heuristic', True)\n",
            "('mul', 'mul', False, 'legacy-heuristic', False)\n",
            "('mul', 'mul', False, 'legacy-heuristic', 0)\n"
          ]
        }
      ]
    },
    {
      "cell_type": "code",
      "metadata": {
        "id": "wwCytCTuy-J-"
      },
      "source": [
        "best_score = float('inf')\n",
        "best_options = None\n",
        "for x in itertools.product(*tuple_of_option_lists):\n",
        "  score = walkforward(*x)\n",
        "\n",
        "  if score < best_score:\n",
        "    print(\"Best score so far:\", score)\n",
        "    best_score = score\n",
        "    best_options = x"
      ],
      "execution_count": null,
      "outputs": []
    },
    {
      "cell_type": "code",
      "metadata": {
        "colab": {
          "base_uri": "https://localhost:8080/"
        },
        "id": "vXOfYRqTzXQ1",
        "outputId": "c53cc321-a892-4553-c5a3-3c517743f0fc"
      },
      "source": [
        "print(\"best score:\", best_score)\n",
        "\n",
        "trend_type, seasonal_type, damped_trend, init_method, use_boxcox = best_options\n",
        "print(\"trend_type\", trend_type)\n",
        "print(\"seasonal_type\", seasonal_type)\n",
        "print(\"damped_trend\", damped_trend)\n",
        "print(\"init_method\", init_method)\n",
        "print(\"use_boxcox\", use_boxcox)"
      ],
      "execution_count": null,
      "outputs": [
        {
          "output_type": "stream",
          "name": "stdout",
          "text": [
            "best score: 13758000.70819276\n",
            "trend_type add\n",
            "seasonal_type add\n",
            "damped_trend False\n",
            "init_method estimated\n",
            "use_boxcox False\n"
          ]
        }
      ]
    },
    {
      "cell_type": "code",
      "metadata": {
        "id": "FRhmT06QMbv9"
      },
      "source": [
        "Ntest = 100\n",
        "train = df.iloc[:-Ntest]\n",
        "test = df.iloc[-Ntest:]"
      ],
      "execution_count": null,
      "outputs": []
    },
    {
      "cell_type": "code",
      "metadata": {
        "colab": {
          "base_uri": "https://localhost:8080/"
        },
        "id": "pclpt1QBMatw",
        "outputId": "2457b4ce-5fb2-49d1-d7fa-dc1a69e2e0b1"
      },
      "source": [
        "hw = ExponentialSmoothing(\n",
        "    train['Closing Price (USD)'],\n",
        "    initialization_method='estimated',\n",
        "    trend='add',\n",
        "    damped_trend=False,\n",
        "    seasonal='mul',\n",
        "    seasonal_periods=12,\n",
        "    use_boxcox=False)\n",
        "res_hw = hw.fit()"
      ],
      "execution_count": null,
      "outputs": [
        {
          "output_type": "stream",
          "name": "stderr",
          "text": [
            "/usr/local/lib/python3.8/dist-packages/statsmodels/tsa/base/tsa_model.py:471: ValueWarning: No frequency information was provided, so inferred frequency D will be used.\n",
            "  self._init_dates(dates, freq)\n",
            "/usr/local/lib/python3.8/dist-packages/statsmodels/tsa/holtwinters/model.py:915: ConvergenceWarning: Optimization failed to converge. Check mle_retvals.\n",
            "  warnings.warn(\n"
          ]
        }
      ]
    },
    {
      "cell_type": "code",
      "metadata": {
        "id": "Ewj4N2wLMuB_"
      },
      "source": [
        "train_idx = df.index <= train.index[-1]\n",
        "test_idx = df.index > train.index[-1]"
      ],
      "execution_count": null,
      "outputs": []
    },
    {
      "cell_type": "code",
      "metadata": {
        "id": "UX18nuzJM1f1"
      },
      "source": [
        "df.loc[train_idx, 'TrainPred'] = res_hw.fittedvalues\n",
        "df.loc[test_idx, 'Forecast'] = res_hw.forecast(Ntest)"
      ],
      "execution_count": null,
      "outputs": []
    },
    {
      "cell_type": "code",
      "metadata": {
        "colab": {
          "base_uri": "https://localhost:8080/",
          "height": 487
        },
        "id": "VqD5MbjOM-8a",
        "outputId": "4290cf28-2b5d-4268-a1df-83d2deade464"
      },
      "source": [
        "df[['Closing Price (USD)', 'TrainPred', 'Forecast']].plot(figsize=(25, 8));"
      ],
      "execution_count": null,
      "outputs": [
        {
          "output_type": "display_data",
          "data": {
            "text/plain": [
              "<Figure size 1800x576 with 1 Axes>"
            ],
            "image/png": "[encoded data removed]"
          },
          "metadata": {
            "needs_background": "light"
          }
        }
      ]
    }
  ]
}